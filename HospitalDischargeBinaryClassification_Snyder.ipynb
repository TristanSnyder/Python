{
 "cells": [
  {
   "cell_type": "markdown",
   "metadata": {},
   "source": [
    "# Predicting Hospital Discharge Outcomes"
   ]
  },
  {
   "cell_type": "markdown",
   "metadata": {},
   "source": [
    "### **Introduction: Thought Process Behind This Project**  \n",
    "\n",
    "In this project, we aimed to develop a **predictive model for hospital discharge outcomes**, balancing both **clinical accuracy and financial impact**. The motivation stemmed from the need to **improve patient management at UVA Hospital** while minimizing costly misclassifications. Given that **false negatives (patients predicted as safe for discharge but actually at risk) cost 347** per case and **false positives (patients unnecessarily retained) cost 72**, our approach was designed to prioritize **reducing false negatives** while maintaining a reasonable false positive rate.  \n",
    "\n",
    "To achieve this, we structured the project into several key phases:  \n",
    "\n",
    "1. **Data Preprocessing & Feature Engineering** – Handling categorical and numerical variables, imputing missing values, and encoding rare categories to ensure a robust dataset.  \n",
    "2. **Model Selection & Hyperparameter Optimization** – Leveraging **XGBoost** due to its efficiency with structured data and tuning hyperparameters using **Bayesian optimization (Hyperopt)** to maximize predictive power.  \n",
    "3. **Cost-Sensitive Decision Making** – Instead of relying on the default classification threshold (0.5), we adjusted the threshold based on probability scores to **minimize the overall financial cost of misclassification**.  \n",
    "4. **Evaluation & Business Impact Analysis** – Assessing performance using **AUC-ROC, precision-recall trade-offs, and a confusion matrix**, ensuring the model aligns with real-world hospital operations.  \n",
    "\n",
    "By incorporating **data-driven decision-making and cost-aware optimization**, this project bridges **machine learning with practical hospital resource management**, ultimately improving **patient care and financial efficiency**. "
   ]
  },
  {
   "cell_type": "markdown",
   "metadata": {},
   "source": [
    "## 1. Import packages"
   ]
  },
  {
   "cell_type": "markdown",
   "metadata": {},
   "source": [
    "First, we will import our normal selection of packages. However, this time, we will be importing the classification version of the models we've been using. These will have different names, but generally, the parameters will be identical or nearly so."
   ]
  },
  {
   "cell_type": "code",
   "execution_count": 1,
   "metadata": {},
   "outputs": [],
   "source": [
    "import numpy as np # Library for math operations\n",
    "import pandas as pd # Library for data handling\n",
    "import sklearn # The machine learning library we will be using in this entire course\n",
    "from sklearn import tree # Tree function is used for visualizing decision tree\n",
    "from sklearn.metrics import * \n",
    "# Importing function that can be used to calculate different metrics\n",
    "from sklearn.tree import DecisionTreeClassifier # Importing Decision Tree Classifier \n",
    "from sklearn.ensemble import RandomForestClassifier  # Importing Random Forest Classifier \n",
    "from sklearn.model_selection import train_test_split # Importing function that can split a dataset into training and testing set\n",
    "from sklearn.preprocessing import LabelEncoder, MinMaxScaler, StandardScaler # Importing function for scaling the data\n",
    "from sklearn.model_selection import GridSearchCV # Importing GridSearchCV\n",
    "from sklearn.pipeline import make_pipeline\n",
    "from xgboost import XGBClassifier # Importing the XGBoost Classifier \n",
    "import matplotlib.pyplot as plt # Importing the package for plotting\n",
    "plt.style.use('fivethirtyeight') # Use the styling from FiveThirtyEight Website\n",
    "import seaborn as sns # Importing another package for plotting\n",
    "\n",
    "from custom_functions import plot_conf_mat, plot_roc_curve, plot_feature_importance, calculateMetricsAndPrint"
   ]
  },
  {
   "cell_type": "markdown",
   "metadata": {},
   "source": [
    "## 2. Load the Data"
   ]
  },
  {
   "cell_type": "code",
   "execution_count": 2,
   "metadata": {},
   "outputs": [],
   "source": [
    "trainInput = pd.read_csv(\"DischargeTrain.csv\")\n",
    "testInput = pd.read_csv(\"DischargeTest.csv\")"
   ]
  },
  {
   "cell_type": "code",
   "execution_count": 3,
   "metadata": {},
   "outputs": [
    {
     "data": {
      "text/html": [
       "<div>\n",
       "<style scoped>\n",
       "    .dataframe tbody tr th:only-of-type {\n",
       "        vertical-align: middle;\n",
       "    }\n",
       "\n",
       "    .dataframe tbody tr th {\n",
       "        vertical-align: top;\n",
       "    }\n",
       "\n",
       "    .dataframe thead th {\n",
       "        text-align: right;\n",
       "    }\n",
       "</style>\n",
       "<table border=\"1\" class=\"dataframe\">\n",
       "  <thead>\n",
       "    <tr style=\"text-align: right;\">\n",
       "      <th></th>\n",
       "      <th>Unique_Patient_Encounter_ID</th>\n",
       "      <th>Discharge_Type</th>\n",
       "      <th>Unique_Patient_ID</th>\n",
       "      <th>Sex</th>\n",
       "      <th>Marital_Status</th>\n",
       "      <th>Payment_Class</th>\n",
       "      <th>Previous_Discharge_Type</th>\n",
       "      <th>Age</th>\n",
       "      <th>ReadmissionCount</th>\n",
       "      <th>Diseases of the circulatory system-Cerebrovascular disease+Count*(sk_dim_dx)</th>\n",
       "      <th>...</th>\n",
       "      <th>Subacute/SNF vs HHPT pending progress+First*(PTValue)</th>\n",
       "      <th>Script given to CM+First*(PTValue)</th>\n",
       "      <th>Long Term Acute Care Hospital+First*(PTValue)</th>\n",
       "      <th>Home with nearly 24/7+First*(PTValue)</th>\n",
       "      <th>Home with initial 24/7+First*(PTValue)</th>\n",
       "      <th>Outpatient Cardiac rehab+First*(PTValue)</th>\n",
       "      <th>Outpatient Pulmonary rehab+First*(PTValue)</th>\n",
       "      <th>Hospice+First*(PTValue)</th>\n",
       "      <th>AMPAC_Raw_Score</th>\n",
       "      <th>AMPAC_Scaled_Score</th>\n",
       "    </tr>\n",
       "  </thead>\n",
       "  <tbody>\n",
       "    <tr>\n",
       "      <th>0</th>\n",
       "      <td>33434057</td>\n",
       "      <td>Home Health Agency</td>\n",
       "      <td>298873</td>\n",
       "      <td>Female</td>\n",
       "      <td>Single</td>\n",
       "      <td>Medicare Replacement</td>\n",
       "      <td>NaN</td>\n",
       "      <td>54</td>\n",
       "      <td>1</td>\n",
       "      <td>0</td>\n",
       "      <td>...</td>\n",
       "      <td>0</td>\n",
       "      <td>0</td>\n",
       "      <td>0</td>\n",
       "      <td>0</td>\n",
       "      <td>0</td>\n",
       "      <td>0</td>\n",
       "      <td>0</td>\n",
       "      <td>0</td>\n",
       "      <td>0</td>\n",
       "      <td>0</td>\n",
       "    </tr>\n",
       "    <tr>\n",
       "      <th>1</th>\n",
       "      <td>38150727</td>\n",
       "      <td>Infusion / Home</td>\n",
       "      <td>165661</td>\n",
       "      <td>Male</td>\n",
       "      <td>Divorced</td>\n",
       "      <td>Do not use</td>\n",
       "      <td>NaN</td>\n",
       "      <td>58</td>\n",
       "      <td>1</td>\n",
       "      <td>0</td>\n",
       "      <td>...</td>\n",
       "      <td>0</td>\n",
       "      <td>0</td>\n",
       "      <td>0</td>\n",
       "      <td>0</td>\n",
       "      <td>0</td>\n",
       "      <td>0</td>\n",
       "      <td>0</td>\n",
       "      <td>0</td>\n",
       "      <td>0</td>\n",
       "      <td>0</td>\n",
       "    </tr>\n",
       "  </tbody>\n",
       "</table>\n",
       "<p>2 rows × 833 columns</p>\n",
       "</div>"
      ],
      "text/plain": [
       "   Unique_Patient_Encounter_ID      Discharge_Type  Unique_Patient_ID     Sex  \\\n",
       "0                     33434057  Home Health Agency             298873  Female   \n",
       "1                     38150727     Infusion / Home             165661    Male   \n",
       "\n",
       "  Marital_Status         Payment_Class Previous_Discharge_Type  Age  \\\n",
       "0         Single  Medicare Replacement                     NaN   54   \n",
       "1       Divorced            Do not use                     NaN   58   \n",
       "\n",
       "   ReadmissionCount  \\\n",
       "0                 1   \n",
       "1                 1   \n",
       "\n",
       "   Diseases of the circulatory system-Cerebrovascular disease+Count*(sk_dim_dx)  \\\n",
       "0                                                  0                              \n",
       "1                                                  0                              \n",
       "\n",
       "   ...  Subacute/SNF vs HHPT pending progress+First*(PTValue)  \\\n",
       "0  ...                                                  0       \n",
       "1  ...                                                  0       \n",
       "\n",
       "   Script given to CM+First*(PTValue)  \\\n",
       "0                                   0   \n",
       "1                                   0   \n",
       "\n",
       "   Long Term Acute Care Hospital+First*(PTValue)  \\\n",
       "0                                              0   \n",
       "1                                              0   \n",
       "\n",
       "   Home with nearly 24/7+First*(PTValue)  \\\n",
       "0                                      0   \n",
       "1                                      0   \n",
       "\n",
       "   Home with initial 24/7+First*(PTValue)  \\\n",
       "0                                       0   \n",
       "1                                       0   \n",
       "\n",
       "   Outpatient Cardiac rehab+First*(PTValue)  \\\n",
       "0                                         0   \n",
       "1                                         0   \n",
       "\n",
       "   Outpatient Pulmonary rehab+First*(PTValue)  Hospice+First*(PTValue)  \\\n",
       "0                                           0                        0   \n",
       "1                                           0                        0   \n",
       "\n",
       "   AMPAC_Raw_Score  AMPAC_Scaled_Score  \n",
       "0                0                   0  \n",
       "1                0                   0  \n",
       "\n",
       "[2 rows x 833 columns]"
      ]
     },
     "execution_count": 3,
     "metadata": {},
     "output_type": "execute_result"
    }
   ],
   "source": [
    "trainInput.head(2)"
   ]
  },
  {
   "cell_type": "code",
   "execution_count": 4,
   "metadata": {},
   "outputs": [
    {
     "data": {
      "text/html": [
       "<div>\n",
       "<style scoped>\n",
       "    .dataframe tbody tr th:only-of-type {\n",
       "        vertical-align: middle;\n",
       "    }\n",
       "\n",
       "    .dataframe tbody tr th {\n",
       "        vertical-align: top;\n",
       "    }\n",
       "\n",
       "    .dataframe thead th {\n",
       "        text-align: right;\n",
       "    }\n",
       "</style>\n",
       "<table border=\"1\" class=\"dataframe\">\n",
       "  <thead>\n",
       "    <tr style=\"text-align: right;\">\n",
       "      <th></th>\n",
       "      <th>Unique_Patient_Encounter_ID</th>\n",
       "      <th>Discharge_Type</th>\n",
       "      <th>Unique_Patient_ID</th>\n",
       "      <th>Sex</th>\n",
       "      <th>Marital_Status</th>\n",
       "      <th>Payment_Class</th>\n",
       "      <th>Previous_Discharge_Type</th>\n",
       "      <th>Age</th>\n",
       "      <th>ReadmissionCount</th>\n",
       "      <th>Diseases of the circulatory system-Cerebrovascular disease+Count*(sk_dim_dx)</th>\n",
       "      <th>...</th>\n",
       "      <th>Subacute/SNF vs HHPT pending progress+First*(PTValue)</th>\n",
       "      <th>Script given to CM+First*(PTValue)</th>\n",
       "      <th>Long Term Acute Care Hospital+First*(PTValue)</th>\n",
       "      <th>Home with nearly 24/7+First*(PTValue)</th>\n",
       "      <th>Home with initial 24/7+First*(PTValue)</th>\n",
       "      <th>Outpatient Cardiac rehab+First*(PTValue)</th>\n",
       "      <th>Outpatient Pulmonary rehab+First*(PTValue)</th>\n",
       "      <th>Hospice+First*(PTValue)</th>\n",
       "      <th>AMPAC_Raw_Score</th>\n",
       "      <th>AMPAC_Scaled_Score</th>\n",
       "    </tr>\n",
       "  </thead>\n",
       "  <tbody>\n",
       "    <tr>\n",
       "      <th>0</th>\n",
       "      <td>37607139</td>\n",
       "      <td>Skilled Nursing Facility (SNF)</td>\n",
       "      <td>227723</td>\n",
       "      <td>Female</td>\n",
       "      <td>Divorced</td>\n",
       "      <td>Medicare</td>\n",
       "      <td>NaN</td>\n",
       "      <td>89</td>\n",
       "      <td>0</td>\n",
       "      <td>10</td>\n",
       "      <td>...</td>\n",
       "      <td>0</td>\n",
       "      <td>0</td>\n",
       "      <td>0</td>\n",
       "      <td>0</td>\n",
       "      <td>0</td>\n",
       "      <td>0</td>\n",
       "      <td>0</td>\n",
       "      <td>0</td>\n",
       "      <td>18</td>\n",
       "      <td>0</td>\n",
       "    </tr>\n",
       "    <tr>\n",
       "      <th>1</th>\n",
       "      <td>34657024</td>\n",
       "      <td>Skilled Nursing Facility (SNF)</td>\n",
       "      <td>188569</td>\n",
       "      <td>Female</td>\n",
       "      <td>Widowed</td>\n",
       "      <td>Medicare</td>\n",
       "      <td>NaN</td>\n",
       "      <td>80</td>\n",
       "      <td>0</td>\n",
       "      <td>0</td>\n",
       "      <td>...</td>\n",
       "      <td>0</td>\n",
       "      <td>0</td>\n",
       "      <td>0</td>\n",
       "      <td>0</td>\n",
       "      <td>0</td>\n",
       "      <td>0</td>\n",
       "      <td>0</td>\n",
       "      <td>0</td>\n",
       "      <td>16</td>\n",
       "      <td>0</td>\n",
       "    </tr>\n",
       "  </tbody>\n",
       "</table>\n",
       "<p>2 rows × 833 columns</p>\n",
       "</div>"
      ],
      "text/plain": [
       "   Unique_Patient_Encounter_ID                  Discharge_Type  \\\n",
       "0                     37607139  Skilled Nursing Facility (SNF)   \n",
       "1                     34657024  Skilled Nursing Facility (SNF)   \n",
       "\n",
       "   Unique_Patient_ID     Sex Marital_Status Payment_Class  \\\n",
       "0             227723  Female       Divorced      Medicare   \n",
       "1             188569  Female        Widowed      Medicare   \n",
       "\n",
       "  Previous_Discharge_Type  Age  ReadmissionCount  \\\n",
       "0                     NaN   89                 0   \n",
       "1                     NaN   80                 0   \n",
       "\n",
       "   Diseases of the circulatory system-Cerebrovascular disease+Count*(sk_dim_dx)  \\\n",
       "0                                                 10                              \n",
       "1                                                  0                              \n",
       "\n",
       "   ...  Subacute/SNF vs HHPT pending progress+First*(PTValue)  \\\n",
       "0  ...                                                  0       \n",
       "1  ...                                                  0       \n",
       "\n",
       "   Script given to CM+First*(PTValue)  \\\n",
       "0                                   0   \n",
       "1                                   0   \n",
       "\n",
       "   Long Term Acute Care Hospital+First*(PTValue)  \\\n",
       "0                                              0   \n",
       "1                                              0   \n",
       "\n",
       "   Home with nearly 24/7+First*(PTValue)  \\\n",
       "0                                      0   \n",
       "1                                      0   \n",
       "\n",
       "   Home with initial 24/7+First*(PTValue)  \\\n",
       "0                                       0   \n",
       "1                                       0   \n",
       "\n",
       "   Outpatient Cardiac rehab+First*(PTValue)  \\\n",
       "0                                         0   \n",
       "1                                         0   \n",
       "\n",
       "   Outpatient Pulmonary rehab+First*(PTValue)  Hospice+First*(PTValue)  \\\n",
       "0                                           0                        0   \n",
       "1                                           0                        0   \n",
       "\n",
       "   AMPAC_Raw_Score  AMPAC_Scaled_Score  \n",
       "0               18                   0  \n",
       "1               16                   0  \n",
       "\n",
       "[2 rows x 833 columns]"
      ]
     },
     "execution_count": 4,
     "metadata": {},
     "output_type": "execute_result"
    }
   ],
   "source": [
    "testInput.head(2)"
   ]
  },
  {
   "cell_type": "markdown",
   "metadata": {},
   "source": [
    "Let's take a look at the shape of these dataframes."
   ]
  },
  {
   "cell_type": "code",
   "execution_count": 5,
   "metadata": {},
   "outputs": [
    {
     "data": {
      "text/plain": [
       "(17435, 833)"
      ]
     },
     "execution_count": 5,
     "metadata": {},
     "output_type": "execute_result"
    }
   ],
   "source": [
    "trainInput.shape"
   ]
  },
  {
   "cell_type": "code",
   "execution_count": 6,
   "metadata": {},
   "outputs": [
    {
     "data": {
      "text/plain": [
       "(5812, 833)"
      ]
     },
     "execution_count": 6,
     "metadata": {},
     "output_type": "execute_result"
    }
   ],
   "source": [
    "testInput.shape"
   ]
  },
  {
   "cell_type": "markdown",
   "metadata": {},
   "source": [
    "Before moving forward, we need to create our target variable. Our target variable should be equal to 1 if the discharge needs paperwork, and 0 otherwise. Let's take a look at the discharge types and then determine which ones require paperwork:"
   ]
  },
  {
   "cell_type": "code",
   "execution_count": 7,
   "metadata": {},
   "outputs": [
    {
     "data": {
      "text/plain": [
       "Discharge_Type\n",
       "Home Health Agency                                        5696\n",
       "HOME                                                      4790\n",
       "Skilled Nursing Facility (SNF)                            3025\n",
       "Acute Rehabilitation Facility (hospital or unit) (IRF)    1150\n",
       "EXPIRED                                                    972\n",
       "Infusion / Home                                            712\n",
       "Long Term Care Hospital (LTCH)                             395\n",
       "Hospice / Home                                             367\n",
       "DIS TO LAW ENFORCE                                         166\n",
       "AGAINST MED ADVICE                                         162\n",
       "Name: count, dtype: int64"
      ]
     },
     "execution_count": 7,
     "metadata": {},
     "output_type": "execute_result"
    }
   ],
   "source": [
    "trainInput['Discharge_Type'].value_counts()"
   ]
  },
  {
   "cell_type": "markdown",
   "metadata": {},
   "source": [
    "The types of discharge that require additional paperwork are `Skilled Nursing Facility (SNF)`, `Acute Rehabilitation Facility (hospital or unit) (IRF)`, and `Long Term Care Hospital (LTCH)`, so we will create a new variable which is `1` if any of those three are the discharge type or `0` if not."
   ]
  },
  {
   "cell_type": "code",
   "execution_count": 8,
   "metadata": {},
   "outputs": [
    {
     "data": {
      "text/plain": [
       "Requires_Paperwork\n",
       "0    12865\n",
       "1     4570\n",
       "Name: count, dtype: int64"
      ]
     },
     "execution_count": 8,
     "metadata": {},
     "output_type": "execute_result"
    }
   ],
   "source": [
    "trainInput['Requires_Paperwork'] = \\\n",
    "np.where(trainInput['Discharge_Type'].isin(['Skilled Nursing Facility (SNF)',\n",
    "                                           'Acute Rehabilitation Facility (hospital or unit) (IRF)',\n",
    "                                           'Long Term Care Hospital (LTCH)']),1,0)\n",
    "\n",
    "trainInput['Requires_Paperwork'].value_counts()"
   ]
  },
  {
   "cell_type": "code",
   "execution_count": 9,
   "metadata": {},
   "outputs": [
    {
     "data": {
      "text/plain": [
       "Requires_Paperwork\n",
       "0    4267\n",
       "1    1545\n",
       "Name: count, dtype: int64"
      ]
     },
     "execution_count": 9,
     "metadata": {},
     "output_type": "execute_result"
    }
   ],
   "source": [
    "testInput['Requires_Paperwork'] = \\\n",
    "np.where(testInput['Discharge_Type'].isin(['Skilled Nursing Facility (SNF)',\n",
    "                                           'Acute Rehabilitation Facility (hospital or unit) (IRF)',\n",
    "                                           'Long Term Care Hospital (LTCH)']),1,0)\n",
    "\n",
    "testInput['Requires_Paperwork'].value_counts()"
   ]
  },
  {
   "cell_type": "markdown",
   "metadata": {},
   "source": [
    "Now, we can go ahead and separate our x and y. Given that `Requires_Paperwork` is still fully correlated with our new y (`Requires_Paperwork`), we have to drop that as well. In addition, `Unique_Patient_Encounter_ID` and `Unique_Patient_ID` are unique identifiers and therefore there is no value in using them as predictors. So, we drop these columns too. Also, because our y values (labels) are already 0s and 1s, we don't need LabelEncode them anymore:"
   ]
  },
  {
   "cell_type": "code",
   "execution_count": 10,
   "metadata": {},
   "outputs": [],
   "source": [
    "trainData = trainInput.drop(columns = ['Unique_Patient_Encounter_ID',\n",
    "                                       'Unique_Patient_ID',\n",
    "                                       'Requires_Paperwork',\n",
    "                                      'Discharge_Type'])\n",
    "trainLabels = trainInput.Requires_Paperwork\n",
    "\n",
    "testData = testInput.drop(columns = ['Unique_Patient_Encounter_ID',\n",
    "                                     'Unique_Patient_ID',\n",
    "                                     'Requires_Paperwork',\n",
    "                                      'Discharge_Type'])\n",
    "testLabels = testInput.Requires_Paperwork"
   ]
  },
  {
   "cell_type": "markdown",
   "metadata": {},
   "source": [
    "## 3. Data Augmentations"
   ]
  },
  {
   "cell_type": "code",
   "execution_count": 11,
   "metadata": {
    "scrolled": true,
    "tags": []
   },
   "outputs": [
    {
     "name": "stdout",
     "output_type": "stream",
     "text": [
      "Requirement already satisfied: feature-engine in /opt/conda/lib/python3.11/site-packages (1.8.3)\n",
      "Requirement already satisfied: numpy>=1.18.2 in /opt/conda/lib/python3.11/site-packages (from feature-engine) (1.26.4)\n",
      "Requirement already satisfied: pandas>=2.2.0 in /opt/conda/lib/python3.11/site-packages (from feature-engine) (2.2.3)\n",
      "Requirement already satisfied: scikit-learn>=1.4.0 in /opt/conda/lib/python3.11/site-packages (from feature-engine) (1.4.2)\n",
      "Requirement already satisfied: scipy>=1.4.1 in /opt/conda/lib/python3.11/site-packages (from feature-engine) (1.11.4)\n",
      "Requirement already satisfied: statsmodels>=0.11.1 in /opt/conda/lib/python3.11/site-packages (from feature-engine) (0.14.2)\n",
      "Requirement already satisfied: python-dateutil>=2.8.2 in /opt/conda/lib/python3.11/site-packages (from pandas>=2.2.0->feature-engine) (2.9.0)\n",
      "Requirement already satisfied: pytz>=2020.1 in /opt/conda/lib/python3.11/site-packages (from pandas>=2.2.0->feature-engine) (2024.1)\n",
      "Requirement already satisfied: tzdata>=2022.7 in /opt/conda/lib/python3.11/site-packages (from pandas>=2.2.0->feature-engine) (2024.1)\n",
      "Requirement already satisfied: joblib>=1.2.0 in /opt/conda/lib/python3.11/site-packages (from scikit-learn>=1.4.0->feature-engine) (1.3.2)\n",
      "Requirement already satisfied: threadpoolctl>=2.0.0 in /opt/conda/lib/python3.11/site-packages (from scikit-learn>=1.4.0->feature-engine) (3.5.0)\n",
      "Requirement already satisfied: patsy>=0.5.6 in /opt/conda/lib/python3.11/site-packages (from statsmodels>=0.11.1->feature-engine) (0.5.6)\n",
      "Requirement already satisfied: packaging>=21.3 in /opt/conda/lib/python3.11/site-packages (from statsmodels>=0.11.1->feature-engine) (24.1)\n",
      "Requirement already satisfied: six in /opt/conda/lib/python3.11/site-packages (from patsy>=0.5.6->statsmodels>=0.11.1->feature-engine) (1.16.0)\n"
     ]
    }
   ],
   "source": [
    "!pip install feature-engine"
   ]
  },
  {
   "cell_type": "markdown",
   "metadata": {},
   "source": [
    "### 3.1. Treat Missing Values"
   ]
  },
  {
   "cell_type": "markdown",
   "metadata": {},
   "source": [
    "Before starting the data augmentations, we need to check if we have any columns with missing values. If so, we need to process them first:"
   ]
  },
  {
   "cell_type": "code",
   "execution_count": 12,
   "metadata": {},
   "outputs": [
    {
     "data": {
      "text/plain": [
       "['Previous_Discharge_Type']"
      ]
     },
     "execution_count": 12,
     "metadata": {},
     "output_type": "execute_result"
    }
   ],
   "source": [
    "trainData.columns[trainData.isnull().any()].tolist()"
   ]
  },
  {
   "cell_type": "code",
   "execution_count": 13,
   "metadata": {},
   "outputs": [
    {
     "data": {
      "text/plain": [
       "['Previous_Discharge_Type']"
      ]
     },
     "execution_count": 13,
     "metadata": {},
     "output_type": "execute_result"
    }
   ],
   "source": [
    "testData.columns[testData.isnull().any()].tolist()"
   ]
  },
  {
   "cell_type": "code",
   "execution_count": 14,
   "metadata": {},
   "outputs": [
    {
     "data": {
      "text/html": [
       "<div>\n",
       "<style scoped>\n",
       "    .dataframe tbody tr th:only-of-type {\n",
       "        vertical-align: middle;\n",
       "    }\n",
       "\n",
       "    .dataframe tbody tr th {\n",
       "        vertical-align: top;\n",
       "    }\n",
       "\n",
       "    .dataframe thead th {\n",
       "        text-align: right;\n",
       "    }\n",
       "</style>\n",
       "<table border=\"1\" class=\"dataframe\">\n",
       "  <thead>\n",
       "    <tr style=\"text-align: right;\">\n",
       "      <th></th>\n",
       "      <th>Sex</th>\n",
       "      <th>Marital_Status</th>\n",
       "      <th>Payment_Class</th>\n",
       "      <th>Previous_Discharge_Type</th>\n",
       "      <th>Age</th>\n",
       "      <th>ReadmissionCount</th>\n",
       "      <th>Diseases of the circulatory system-Cerebrovascular disease+Count*(sk_dim_dx)</th>\n",
       "      <th>Diseases of the circulatory system-Diseases of arteries; arterioles; and capillaries+Count*(sk_dim_dx)</th>\n",
       "      <th>Diseases of the musculoskeletal system and connective tissue-Acquired deformities+Count*(sk_dim_dx)</th>\n",
       "      <th>Diseases of the musculoskeletal system and connective tissue-Non-traumatic joint disorders+Count*(sk_dim_dx)</th>\n",
       "      <th>...</th>\n",
       "      <th>Subacute/SNF vs HHPT pending progress+First*(PTValue)</th>\n",
       "      <th>Script given to CM+First*(PTValue)</th>\n",
       "      <th>Long Term Acute Care Hospital+First*(PTValue)</th>\n",
       "      <th>Home with nearly 24/7+First*(PTValue)</th>\n",
       "      <th>Home with initial 24/7+First*(PTValue)</th>\n",
       "      <th>Outpatient Cardiac rehab+First*(PTValue)</th>\n",
       "      <th>Outpatient Pulmonary rehab+First*(PTValue)</th>\n",
       "      <th>Hospice+First*(PTValue)</th>\n",
       "      <th>AMPAC_Raw_Score</th>\n",
       "      <th>AMPAC_Scaled_Score</th>\n",
       "    </tr>\n",
       "  </thead>\n",
       "  <tbody>\n",
       "    <tr>\n",
       "      <th>0</th>\n",
       "      <td>Female</td>\n",
       "      <td>Single</td>\n",
       "      <td>Medicare Replacement</td>\n",
       "      <td>nan</td>\n",
       "      <td>54</td>\n",
       "      <td>1</td>\n",
       "      <td>0</td>\n",
       "      <td>0</td>\n",
       "      <td>0</td>\n",
       "      <td>6</td>\n",
       "      <td>...</td>\n",
       "      <td>0</td>\n",
       "      <td>0</td>\n",
       "      <td>0</td>\n",
       "      <td>0</td>\n",
       "      <td>0</td>\n",
       "      <td>0</td>\n",
       "      <td>0</td>\n",
       "      <td>0</td>\n",
       "      <td>0</td>\n",
       "      <td>0</td>\n",
       "    </tr>\n",
       "    <tr>\n",
       "      <th>1</th>\n",
       "      <td>Male</td>\n",
       "      <td>Divorced</td>\n",
       "      <td>Do not use</td>\n",
       "      <td>nan</td>\n",
       "      <td>58</td>\n",
       "      <td>1</td>\n",
       "      <td>0</td>\n",
       "      <td>0</td>\n",
       "      <td>0</td>\n",
       "      <td>0</td>\n",
       "      <td>...</td>\n",
       "      <td>0</td>\n",
       "      <td>0</td>\n",
       "      <td>0</td>\n",
       "      <td>0</td>\n",
       "      <td>0</td>\n",
       "      <td>0</td>\n",
       "      <td>0</td>\n",
       "      <td>0</td>\n",
       "      <td>0</td>\n",
       "      <td>0</td>\n",
       "    </tr>\n",
       "    <tr>\n",
       "      <th>2</th>\n",
       "      <td>Male</td>\n",
       "      <td>Married</td>\n",
       "      <td>Medicare Managed Care</td>\n",
       "      <td>nan</td>\n",
       "      <td>73</td>\n",
       "      <td>0</td>\n",
       "      <td>0</td>\n",
       "      <td>0</td>\n",
       "      <td>2</td>\n",
       "      <td>0</td>\n",
       "      <td>...</td>\n",
       "      <td>0</td>\n",
       "      <td>0</td>\n",
       "      <td>0</td>\n",
       "      <td>0</td>\n",
       "      <td>0</td>\n",
       "      <td>0</td>\n",
       "      <td>0</td>\n",
       "      <td>0</td>\n",
       "      <td>13</td>\n",
       "      <td>0</td>\n",
       "    </tr>\n",
       "    <tr>\n",
       "      <th>3</th>\n",
       "      <td>Female</td>\n",
       "      <td>Married</td>\n",
       "      <td>Medicare Replacement</td>\n",
       "      <td>nan</td>\n",
       "      <td>61</td>\n",
       "      <td>0</td>\n",
       "      <td>0</td>\n",
       "      <td>0</td>\n",
       "      <td>0</td>\n",
       "      <td>20</td>\n",
       "      <td>...</td>\n",
       "      <td>0</td>\n",
       "      <td>0</td>\n",
       "      <td>0</td>\n",
       "      <td>0</td>\n",
       "      <td>0</td>\n",
       "      <td>0</td>\n",
       "      <td>0</td>\n",
       "      <td>0</td>\n",
       "      <td>0</td>\n",
       "      <td>0</td>\n",
       "    </tr>\n",
       "    <tr>\n",
       "      <th>4</th>\n",
       "      <td>Female</td>\n",
       "      <td>Married</td>\n",
       "      <td>Medicare</td>\n",
       "      <td>Skilled Nursing Facility (SNF)</td>\n",
       "      <td>72</td>\n",
       "      <td>0</td>\n",
       "      <td>13</td>\n",
       "      <td>7</td>\n",
       "      <td>2</td>\n",
       "      <td>10</td>\n",
       "      <td>...</td>\n",
       "      <td>0</td>\n",
       "      <td>0</td>\n",
       "      <td>0</td>\n",
       "      <td>0</td>\n",
       "      <td>0</td>\n",
       "      <td>0</td>\n",
       "      <td>0</td>\n",
       "      <td>0</td>\n",
       "      <td>8</td>\n",
       "      <td>0</td>\n",
       "    </tr>\n",
       "    <tr>\n",
       "      <th>...</th>\n",
       "      <td>...</td>\n",
       "      <td>...</td>\n",
       "      <td>...</td>\n",
       "      <td>...</td>\n",
       "      <td>...</td>\n",
       "      <td>...</td>\n",
       "      <td>...</td>\n",
       "      <td>...</td>\n",
       "      <td>...</td>\n",
       "      <td>...</td>\n",
       "      <td>...</td>\n",
       "      <td>...</td>\n",
       "      <td>...</td>\n",
       "      <td>...</td>\n",
       "      <td>...</td>\n",
       "      <td>...</td>\n",
       "      <td>...</td>\n",
       "      <td>...</td>\n",
       "      <td>...</td>\n",
       "      <td>...</td>\n",
       "      <td>...</td>\n",
       "    </tr>\n",
       "    <tr>\n",
       "      <th>17430</th>\n",
       "      <td>Male</td>\n",
       "      <td>Married</td>\n",
       "      <td>Grant</td>\n",
       "      <td>nan</td>\n",
       "      <td>84</td>\n",
       "      <td>0</td>\n",
       "      <td>0</td>\n",
       "      <td>0</td>\n",
       "      <td>0</td>\n",
       "      <td>0</td>\n",
       "      <td>...</td>\n",
       "      <td>0</td>\n",
       "      <td>0</td>\n",
       "      <td>0</td>\n",
       "      <td>0</td>\n",
       "      <td>0</td>\n",
       "      <td>0</td>\n",
       "      <td>0</td>\n",
       "      <td>0</td>\n",
       "      <td>0</td>\n",
       "      <td>0</td>\n",
       "    </tr>\n",
       "    <tr>\n",
       "      <th>17431</th>\n",
       "      <td>Female</td>\n",
       "      <td>Widowed</td>\n",
       "      <td>Medicare</td>\n",
       "      <td>nan</td>\n",
       "      <td>87</td>\n",
       "      <td>0</td>\n",
       "      <td>0</td>\n",
       "      <td>0</td>\n",
       "      <td>0</td>\n",
       "      <td>0</td>\n",
       "      <td>...</td>\n",
       "      <td>0</td>\n",
       "      <td>0</td>\n",
       "      <td>0</td>\n",
       "      <td>0</td>\n",
       "      <td>0</td>\n",
       "      <td>0</td>\n",
       "      <td>0</td>\n",
       "      <td>0</td>\n",
       "      <td>6</td>\n",
       "      <td>0</td>\n",
       "    </tr>\n",
       "    <tr>\n",
       "      <th>17432</th>\n",
       "      <td>Female</td>\n",
       "      <td>Married</td>\n",
       "      <td>Medicare</td>\n",
       "      <td>nan</td>\n",
       "      <td>80</td>\n",
       "      <td>0</td>\n",
       "      <td>8</td>\n",
       "      <td>2</td>\n",
       "      <td>0</td>\n",
       "      <td>0</td>\n",
       "      <td>...</td>\n",
       "      <td>0</td>\n",
       "      <td>0</td>\n",
       "      <td>0</td>\n",
       "      <td>0</td>\n",
       "      <td>0</td>\n",
       "      <td>0</td>\n",
       "      <td>0</td>\n",
       "      <td>0</td>\n",
       "      <td>0</td>\n",
       "      <td>0</td>\n",
       "    </tr>\n",
       "    <tr>\n",
       "      <th>17433</th>\n",
       "      <td>Female</td>\n",
       "      <td>Married</td>\n",
       "      <td>Blue Shield</td>\n",
       "      <td>nan</td>\n",
       "      <td>62</td>\n",
       "      <td>0</td>\n",
       "      <td>0</td>\n",
       "      <td>0</td>\n",
       "      <td>0</td>\n",
       "      <td>0</td>\n",
       "      <td>...</td>\n",
       "      <td>0</td>\n",
       "      <td>0</td>\n",
       "      <td>0</td>\n",
       "      <td>0</td>\n",
       "      <td>0</td>\n",
       "      <td>0</td>\n",
       "      <td>0</td>\n",
       "      <td>0</td>\n",
       "      <td>0</td>\n",
       "      <td>0</td>\n",
       "    </tr>\n",
       "    <tr>\n",
       "      <th>17434</th>\n",
       "      <td>Male</td>\n",
       "      <td>Single</td>\n",
       "      <td>Agencies</td>\n",
       "      <td>nan</td>\n",
       "      <td>62</td>\n",
       "      <td>0</td>\n",
       "      <td>0</td>\n",
       "      <td>0</td>\n",
       "      <td>0</td>\n",
       "      <td>4</td>\n",
       "      <td>...</td>\n",
       "      <td>0</td>\n",
       "      <td>0</td>\n",
       "      <td>0</td>\n",
       "      <td>0</td>\n",
       "      <td>0</td>\n",
       "      <td>0</td>\n",
       "      <td>0</td>\n",
       "      <td>0</td>\n",
       "      <td>0</td>\n",
       "      <td>0</td>\n",
       "    </tr>\n",
       "  </tbody>\n",
       "</table>\n",
       "<p>17435 rows × 830 columns</p>\n",
       "</div>"
      ],
      "text/plain": [
       "          Sex Marital_Status          Payment_Class  \\\n",
       "0      Female         Single   Medicare Replacement   \n",
       "1        Male       Divorced             Do not use   \n",
       "2        Male        Married  Medicare Managed Care   \n",
       "3      Female        Married   Medicare Replacement   \n",
       "4      Female        Married               Medicare   \n",
       "...       ...            ...                    ...   \n",
       "17430    Male        Married                  Grant   \n",
       "17431  Female        Widowed               Medicare   \n",
       "17432  Female        Married               Medicare   \n",
       "17433  Female        Married            Blue Shield   \n",
       "17434    Male         Single               Agencies   \n",
       "\n",
       "              Previous_Discharge_Type Age ReadmissionCount  \\\n",
       "0                                 nan  54                1   \n",
       "1                                 nan  58                1   \n",
       "2                                 nan  73                0   \n",
       "3                                 nan  61                0   \n",
       "4      Skilled Nursing Facility (SNF)  72                0   \n",
       "...                               ...  ..              ...   \n",
       "17430                             nan  84                0   \n",
       "17431                             nan  87                0   \n",
       "17432                             nan  80                0   \n",
       "17433                             nan  62                0   \n",
       "17434                             nan  62                0   \n",
       "\n",
       "      Diseases of the circulatory system-Cerebrovascular disease+Count*(sk_dim_dx)  \\\n",
       "0                                                      0                             \n",
       "1                                                      0                             \n",
       "2                                                      0                             \n",
       "3                                                      0                             \n",
       "4                                                     13                             \n",
       "...                                                  ...                             \n",
       "17430                                                  0                             \n",
       "17431                                                  0                             \n",
       "17432                                                  8                             \n",
       "17433                                                  0                             \n",
       "17434                                                  0                             \n",
       "\n",
       "      Diseases of the circulatory system-Diseases of arteries; arterioles; and capillaries+Count*(sk_dim_dx)  \\\n",
       "0                                                      0                                                       \n",
       "1                                                      0                                                       \n",
       "2                                                      0                                                       \n",
       "3                                                      0                                                       \n",
       "4                                                      7                                                       \n",
       "...                                                  ...                                                       \n",
       "17430                                                  0                                                       \n",
       "17431                                                  0                                                       \n",
       "17432                                                  2                                                       \n",
       "17433                                                  0                                                       \n",
       "17434                                                  0                                                       \n",
       "\n",
       "      Diseases of the musculoskeletal system and connective tissue-Acquired deformities+Count*(sk_dim_dx)  \\\n",
       "0                                                      0                                                    \n",
       "1                                                      0                                                    \n",
       "2                                                      2                                                    \n",
       "3                                                      0                                                    \n",
       "4                                                      2                                                    \n",
       "...                                                  ...                                                    \n",
       "17430                                                  0                                                    \n",
       "17431                                                  0                                                    \n",
       "17432                                                  0                                                    \n",
       "17433                                                  0                                                    \n",
       "17434                                                  0                                                    \n",
       "\n",
       "      Diseases of the musculoskeletal system and connective tissue-Non-traumatic joint disorders+Count*(sk_dim_dx)  \\\n",
       "0                                                      6                                                             \n",
       "1                                                      0                                                             \n",
       "2                                                      0                                                             \n",
       "3                                                     20                                                             \n",
       "4                                                     10                                                             \n",
       "...                                                  ...                                                             \n",
       "17430                                                  0                                                             \n",
       "17431                                                  0                                                             \n",
       "17432                                                  0                                                             \n",
       "17433                                                  0                                                             \n",
       "17434                                                  4                                                             \n",
       "\n",
       "       ... Subacute/SNF vs HHPT pending progress+First*(PTValue)  \\\n",
       "0      ...                                                  0      \n",
       "1      ...                                                  0      \n",
       "2      ...                                                  0      \n",
       "3      ...                                                  0      \n",
       "4      ...                                                  0      \n",
       "...    ...                                                ...      \n",
       "17430  ...                                                  0      \n",
       "17431  ...                                                  0      \n",
       "17432  ...                                                  0      \n",
       "17433  ...                                                  0      \n",
       "17434  ...                                                  0      \n",
       "\n",
       "      Script given to CM+First*(PTValue)  \\\n",
       "0                                      0   \n",
       "1                                      0   \n",
       "2                                      0   \n",
       "3                                      0   \n",
       "4                                      0   \n",
       "...                                  ...   \n",
       "17430                                  0   \n",
       "17431                                  0   \n",
       "17432                                  0   \n",
       "17433                                  0   \n",
       "17434                                  0   \n",
       "\n",
       "      Long Term Acute Care Hospital+First*(PTValue)  \\\n",
       "0                                                 0   \n",
       "1                                                 0   \n",
       "2                                                 0   \n",
       "3                                                 0   \n",
       "4                                                 0   \n",
       "...                                             ...   \n",
       "17430                                             0   \n",
       "17431                                             0   \n",
       "17432                                             0   \n",
       "17433                                             0   \n",
       "17434                                             0   \n",
       "\n",
       "      Home with nearly 24/7+First*(PTValue)  \\\n",
       "0                                         0   \n",
       "1                                         0   \n",
       "2                                         0   \n",
       "3                                         0   \n",
       "4                                         0   \n",
       "...                                     ...   \n",
       "17430                                     0   \n",
       "17431                                     0   \n",
       "17432                                     0   \n",
       "17433                                     0   \n",
       "17434                                     0   \n",
       "\n",
       "      Home with initial 24/7+First*(PTValue)  \\\n",
       "0                                          0   \n",
       "1                                          0   \n",
       "2                                          0   \n",
       "3                                          0   \n",
       "4                                          0   \n",
       "...                                      ...   \n",
       "17430                                      0   \n",
       "17431                                      0   \n",
       "17432                                      0   \n",
       "17433                                      0   \n",
       "17434                                      0   \n",
       "\n",
       "      Outpatient Cardiac rehab+First*(PTValue)  \\\n",
       "0                                            0   \n",
       "1                                            0   \n",
       "2                                            0   \n",
       "3                                            0   \n",
       "4                                            0   \n",
       "...                                        ...   \n",
       "17430                                        0   \n",
       "17431                                        0   \n",
       "17432                                        0   \n",
       "17433                                        0   \n",
       "17434                                        0   \n",
       "\n",
       "      Outpatient Pulmonary rehab+First*(PTValue) Hospice+First*(PTValue)  \\\n",
       "0                                              0                       0   \n",
       "1                                              0                       0   \n",
       "2                                              0                       0   \n",
       "3                                              0                       0   \n",
       "4                                              0                       0   \n",
       "...                                          ...                     ...   \n",
       "17430                                          0                       0   \n",
       "17431                                          0                       0   \n",
       "17432                                          0                       0   \n",
       "17433                                          0                       0   \n",
       "17434                                          0                       0   \n",
       "\n",
       "      AMPAC_Raw_Score AMPAC_Scaled_Score  \n",
       "0                   0                  0  \n",
       "1                   0                  0  \n",
       "2                  13                  0  \n",
       "3                   0                  0  \n",
       "4                   8                  0  \n",
       "...               ...                ...  \n",
       "17430               0                  0  \n",
       "17431               6                  0  \n",
       "17432               0                  0  \n",
       "17433               0                  0  \n",
       "17434               0                  0  \n",
       "\n",
       "[17435 rows x 830 columns]"
      ]
     },
     "execution_count": 14,
     "metadata": {},
     "output_type": "execute_result"
    }
   ],
   "source": [
    "trainData.astype(str)"
   ]
  },
  {
   "cell_type": "markdown",
   "metadata": {},
   "source": [
    "This column captures the previous discharge type if known. Given that many patients may not have a previous discharge status, or their previous discharge could be related to years ago, we just replace the missing values under this column with \"Unkown\":"
   ]
  },
  {
   "cell_type": "code",
   "execution_count": 15,
   "metadata": {
    "scrolled": true
   },
   "outputs": [],
   "source": [
    "# Import the CategoricalImputer class from feature_engine\n",
    "from feature_engine.imputation import CategoricalImputer  \n",
    "\n",
    "# Initialize the CategoricalImputer\n",
    "imp = CategoricalImputer(\n",
    "    imputation_method='missing',  # Specifies that missing values should be replaced with a placeholder\n",
    "    fill_value=\"Unknown\"  # The placeholder value to use for missing categorical values\n",
    ")\n",
    "\n",
    "# Apply the imputer to training and test data\n",
    "trainData = imp.fit_transform(trainData)  # Fit the imputer on trainData and transform it\n",
    "testData = imp.transform(testData)  # Transform testData using the same imputation learned from trainData"
   ]
  },
  {
   "cell_type": "markdown",
   "metadata": {},
   "source": [
    "## 3.2 Build Pipeline for Preprocessing"
   ]
  },
  {
   "cell_type": "markdown",
   "metadata": {},
   "source": [
    "### **Objective of the Following Code**  \n",
    "This code **optimizes feature preprocessing and hyperparameters** for an **XGBoost classifier** to maximize the **AUC (Area Under the Curve) score**. It does so by systematically tuning both the preprocessing steps (such as handling rare labels, removing constant features, selecting uncorrelated features, and treating outliers) and the model hyperparameters using **Bayesian optimization with Hyperopt**.\n",
    "\n",
    "### **Why Use a Pipeline for Preprocessing Optimization?**  \n",
    "Using a **pipeline** ensures that all preprocessing steps are applied **consistently** and **efficiently** within the machine learning workflow. The main benefits of using a pipeline include:\n",
    "\n",
    "1. **Automated Feature Processing**:  \n",
    "   - Ensures that **feature transformations (categorical encoding, outlier treatment, feature selection, etc.)** are applied the same way during training and testing.\n",
    "\n",
    "2. **Efficient Hyperparameter Tuning**:  \n",
    "   - The pipeline integrates **feature engineering and modeling**, allowing the **entire process** to be optimized simultaneously.  \n",
    "   - Instead of tuning preprocessing and modeling separately, the pipeline allows us to evaluate different configurations in one pass.\n",
    "\n",
    "3. **Prevents Data Leakage**:  \n",
    "   - Since preprocessing steps are included within cross-validation, transformations are **only learned from the training folds** and applied to validation data **properly**, preventing information leakage.\n",
    "\n",
    "4. **Standardized Workflow**:  \n",
    "   - Ensures **consistency** in feature transformations across different experiments and future datasets.\n",
    "\n",
    "5. **Seamless Model Deployment**:  \n",
    "   - Once the pipeline is optimized, it can be **directly used in production**, as it includes **both feature transformations and the final classifier**.\n",
    "\n",
    "### **Conclusion**  \n",
    "By using a **pipeline**, this approach ensures that the best possible feature preprocessing and model hyperparameters are **jointly optimized** for the most accurate and reliable predictions."
   ]
  },
  {
   "cell_type": "code",
   "execution_count": 16,
   "metadata": {},
   "outputs": [
    {
     "name": "stdout",
     "output_type": "stream",
     "text": [
      "Requirement already satisfied: hyperopt in /opt/conda/lib/python3.11/site-packages (0.2.7)\n",
      "Requirement already satisfied: numpy in /opt/conda/lib/python3.11/site-packages (from hyperopt) (1.26.4)\n",
      "Requirement already satisfied: scipy in /opt/conda/lib/python3.11/site-packages (from hyperopt) (1.11.4)\n",
      "Requirement already satisfied: six in /opt/conda/lib/python3.11/site-packages (from hyperopt) (1.16.0)\n",
      "Requirement already satisfied: networkx>=2.2 in /opt/conda/lib/python3.11/site-packages (from hyperopt) (3.3)\n",
      "Requirement already satisfied: future in /opt/conda/lib/python3.11/site-packages (from hyperopt) (1.0.0)\n",
      "Requirement already satisfied: tqdm in /opt/conda/lib/python3.11/site-packages (from hyperopt) (4.66.5)\n",
      "Requirement already satisfied: cloudpickle in /opt/conda/lib/python3.11/site-packages (from hyperopt) (3.0.0)\n",
      "Requirement already satisfied: py4j in /opt/conda/lib/python3.11/site-packages (from hyperopt) (0.10.9.9)\n",
      "Note: you may need to restart the kernel to use updated packages.\n"
     ]
    }
   ],
   "source": [
    "%pip install hyperopt"
   ]
  },
  {
   "cell_type": "code",
   "execution_count": 17,
   "metadata": {
    "scrolled": true
   },
   "outputs": [
    {
     "name": "stdout",
     "output_type": "stream",
     "text": [
      "Best Feature-engine & XGBoost parameters: {'n_categories_rare': 3, 'tail_winsorizer': 'right', 'threshold_corr': 0.592786282555062, 'tol_constant': 0.9865869429839393, 'tol_rare': 0.2581245129207095}\n",
      "Final AUC: 0.9426598195074263\n"
     ]
    }
   ],
   "source": [
    "# Import necessary libraries\n",
    "from hyperopt import hp, fmin, tpe, Trials, STATUS_OK  # Hyperparameter tuning\n",
    "from sklearn.pipeline import Pipeline  # Pipeline for processing steps\n",
    "from sklearn.compose import ColumnTransformer  # Applies different transformations to different data types\n",
    "from sklearn.preprocessing import OrdinalEncoder  # Encodes categorical features for XGBoost\n",
    "from sklearn.model_selection import cross_val_score  # Evaluates model performance with cross-validation\n",
    "from feature_engine.encoding import RareLabelEncoder  # Groups rare categories into a single class\n",
    "from feature_engine.selection import DropConstantFeatures, SmartCorrelatedSelection  # Feature selection tools\n",
    "from feature_engine.outliers import Winsorizer  # Handles outliers by capping extreme values\n",
    "from xgboost import XGBClassifier  # XGBoost model for classification\n",
    "from sklearn.metrics import roc_auc_score  # Evaluation metric (AUC)\n",
    "import warnings\n",
    "warnings.filterwarnings(\"ignore\")\n",
    "\n",
    "# Identify categorical columns in the dataset\n",
    "categorical_features = trainData.select_dtypes(include=['object']).columns.tolist()\n",
    "\n",
    "# Convert categorical columns to 'category' dtype for XGBoost compatibility\n",
    "trainData[categorical_features] = trainData[categorical_features].astype(\"category\")\n",
    "\n",
    "# Define hyperparameter choices for categorical encoding and outlier handling\n",
    "n_categories_choices = [1, 2, 3]  # Number of rare categories\n",
    "winsorizer_tail_choices = [\"left\", \"right\", \"both\"]  # Outlier handling options\n",
    "\n",
    "# Define the objective function for hyperparameter optimization\n",
    "def objective(params):\n",
    "    \"\"\"\n",
    "    Objective function to optimize Feature-engine preprocessing parameters\n",
    "    and XGBoost hyperparameters, maximizing AUC score.\n",
    "    \"\"\"\n",
    "\n",
    "    # Extract hyperparameters for feature preprocessing\n",
    "    tol_rare = params['tol_rare']  # Tolerance for rare category grouping\n",
    "    n_categories_rare = n_categories_choices[params['n_categories_rare']]  # Convert index-based choice\n",
    "    tol_constant = params['tol_constant']  # Threshold for dropping constant features\n",
    "    threshold_corr = params['threshold_corr']  # Correlation threshold for feature selection\n",
    "    tail_winsorizer = winsorizer_tail_choices[params['tail_winsorizer']]  # Convert index-based choice\n",
    "\n",
    "    # Define a preprocessing pipeline for categorical features\n",
    "    categorical_transformer = Pipeline([\n",
    "        ('rare_encoder', RareLabelEncoder(tol=tol_rare, n_categories=n_categories_rare)),  # Groups rare categories\n",
    "        ('ordinal_encoder', OrdinalEncoder(handle_unknown='use_encoded_value', unknown_value=-1))  # Encodes categorical variables\n",
    "    ])\n",
    "\n",
    "    # Define a full preprocessor for both categorical and numerical features\n",
    "    preprocessor = ColumnTransformer([\n",
    "        ('categorical', categorical_transformer, categorical_features),  # Apply categorical transformations\n",
    "        ('numerical', 'passthrough', [col for col in trainData.columns if col not in categorical_features])  # Pass numerical features unchanged\n",
    "    ])\n",
    "\n",
    "    # Define the full machine learning pipeline\n",
    "    pipeline = Pipeline([\n",
    "        ('preprocessor', preprocessor),  # Apply data preprocessing\n",
    "        ('drop_constant', DropConstantFeatures(tol=tol_constant)),  # Remove low-variance features\n",
    "        ('correlation_selection', SmartCorrelatedSelection(threshold=threshold_corr)),  # Remove highly correlated features\n",
    "        ('outlier_winsorizer', Winsorizer(tail=tail_winsorizer)),  # Handle outliers\n",
    "        ('classifier', XGBClassifier(\n",
    "            use_label_encoder=False,  # Disable older label encoding method\n",
    "            eval_metric=\"auc\",  # Use AUC as evaluation metric\n",
    "            enable_categorical=True,  # Enable categorical feature handling in XGBoost\n",
    "        ))\n",
    "    ])\n",
    "\n",
    "    # Evaluate the model using cross-validation and calculate mean AUC score\n",
    "    auc = cross_val_score(pipeline, trainData, trainLabels, cv=5, scoring='roc_auc').mean()\n",
    "\n",
    "    # Return the negative AUC (since Hyperopt minimizes loss)\n",
    "    return {'loss': -auc, 'status': STATUS_OK}\n",
    "\n",
    "# Define the hyperparameter search space for optimization\n",
    "search_space = {\n",
    "    'tol_rare': hp.uniform('tol_rare', 0.01, 0.3),  # Range for rare category grouping threshold\n",
    "    'n_categories_rare': hp.choice('n_categories_rare', [0, 1, 2]),  # Choice for number of rare categories\n",
    "    'tol_constant': hp.uniform('tol_constant', 0.90, 0.99),  # Tolerance for dropping constant features\n",
    "    'threshold_corr': hp.uniform('threshold_corr', 0.2, 0.6),  # Threshold for removing correlated features\n",
    "    'tail_winsorizer': hp.choice('tail_winsorizer', [0, 1, 2]),  # Choice for outlier handling method\n",
    "}\n",
    "\n",
    "# Initialize trials to track the optimization process\n",
    "trials = Trials()\n",
    "\n",
    "# Perform hyperparameter tuning using Bayesian optimization (Tree-structured Parzen Estimator)\n",
    "best_params = fmin(\n",
    "    fn=objective,  # Function to minimize\n",
    "    space=search_space,  # Search space for parameters\n",
    "    algo=tpe.suggest,  # Optimization algorithm (Bayesian search)\n",
    "    max_evals=20,  # Number of evaluations\n",
    "    trials=trials,  # Track results\n",
    "    verbose=False\n",
    ")\n",
    "\n",
    "# Convert index-based parameter choices to actual values\n",
    "best_params['n_categories_rare'] = n_categories_choices[best_params['n_categories_rare']]\n",
    "best_params['tail_winsorizer'] = winsorizer_tail_choices[best_params['tail_winsorizer']]\n",
    "\n",
    "# Print the best parameters found\n",
    "print(\"Best Feature-engine & XGBoost parameters:\", best_params)\n",
    "\n",
    "# Define the final pipeline using the best hyperparameters found\n",
    "final_pipeline = Pipeline([\n",
    "    ('preprocessor', ColumnTransformer([\n",
    "        ('categorical', Pipeline([\n",
    "            ('rare_encoder', RareLabelEncoder(\n",
    "                tol=best_params['tol_rare'], \n",
    "                n_categories=best_params['n_categories_rare']\n",
    "            )),  # Use optimized rare category encoding\n",
    "            ('ordinal_encoder', OrdinalEncoder(handle_unknown='use_encoded_value', unknown_value=-1))\n",
    "        ]), categorical_features),\n",
    "        ('numerical', 'passthrough', [col for col in trainData.columns if col not in categorical_features])\n",
    "    ])),\n",
    "    ('drop_constant', DropConstantFeatures(tol=best_params['tol_constant'])),  # Use optimized threshold for constant features\n",
    "    ('correlation_selection', SmartCorrelatedSelection(threshold=best_params['threshold_corr'])),  # Use optimized correlation threshold\n",
    "    ('outlier_winsorizer', Winsorizer(tail=best_params['tail_winsorizer'])),  # Use optimized outlier handling method\n",
    "    ('classifier', XGBClassifier(\n",
    "        use_label_encoder=False,  # Disable old label encoding method\n",
    "        eval_metric=\"auc\",  # Use AUC as evaluation metric\n",
    "        enable_categorical=True,  # Enable categorical feature handling\n",
    "    ))\n",
    "])\n",
    "\n",
    "# Fit the final model on the full dataset\n",
    "final_pipeline.fit(trainData, trainLabels)\n",
    "\n",
    "# Make predictions on the test set\n",
    "y_pred = final_pipeline.predict_proba(testData)[:, 1]\n",
    "\n",
    "# Calculate and print the final AUC score\n",
    "auc_score = roc_auc_score(testLabels, y_pred)\n",
    "print(f\"Final AUC: {auc_score}\")\n"
   ]
  },
  {
   "cell_type": "markdown",
   "metadata": {},
   "source": [
    "This code is used **after optimizing the pipeline** to ensure that the **same feature transformations** applied during training are consistently used for test data, preventing inconsistencies that could degrade model performance. It **handles rare categories and unknown values** using `RareLabelEncoder` and `OrdinalEncoder`, reducing overfitting and improving generalization. Additionally, it **prevents data leakage** by ensuring that transformations are only learned from `trainData` and then applied to `testData`. This guarantees that the model **receives properly processed input data**, leading to **better generalization, reduced errors, and improved predictive performance**. "
   ]
  },
  {
   "cell_type": "code",
   "execution_count": 18,
   "metadata": {
    "scrolled": true
   },
   "outputs": [],
   "source": [
    "# Define a pipeline for categorical feature processing\n",
    "categorical_transformer = Pipeline([\n",
    "    ('rare_encoder', RareLabelEncoder(tol=0.05, n_categories=2)),  \n",
    "    # Groups rare categories into a single \"Other\" category if their frequency is below 5% (tol=0.05)\n",
    "    # Limits the number of unique categories after grouping to at most 2 (n_categories=2)\n",
    "\n",
    "    ('ordinal_encoder', OrdinalEncoder(handle_unknown='use_encoded_value', unknown_value=-1))  \n",
    "    # Converts categorical values into numerical format required for ML models\n",
    "    # Handles unknown categories in test data by assigning them the value -1\n",
    "])\n",
    "\n",
    "# Define a ColumnTransformer to apply different transformations to categorical and numerical features\n",
    "preprocessor = ColumnTransformer([\n",
    "    ('categorical', categorical_transformer, categorical_features),  \n",
    "    # Apply the categorical transformation pipeline to categorical features\n",
    "\n",
    "    ('numerical', 'passthrough', [col for col in trainData.columns if col not in categorical_features])  \n",
    "    # Pass numerical features unchanged (no transformations applied)\n",
    "])\n",
    "\n",
    "# Fit the preprocessor on training data\n",
    "preprocessor.fit(trainData)  \n",
    "# Learns encoding for categorical features (e.g., which rare labels to group, how to map categories to numbers)\n",
    "\n",
    "# Transform training and test data using the fitted preprocessor\n",
    "trainData_transformed = preprocessor.transform(trainData)  \n",
    "# Applies the learned transformations (rare label encoding + ordinal encoding) to the training data\n",
    "\n",
    "testData_transformed = preprocessor.transform(testData)  \n",
    "# Applies the **same** transformations to test data, ensuring consistency\n"
   ]
  },
  {
   "cell_type": "markdown",
   "metadata": {},
   "source": [
    "## 4. Train/Evaluate The Classifier"
   ]
  },
  {
   "cell_type": "markdown",
   "metadata": {},
   "source": [
    "### **Summary of What The Following Code Does**  \n",
    "\n",
    "This code **optimizes XGBoost hyperparameters** using **Bayesian optimization (Hyperopt)** to maximize **AUC (Area Under the Curve) score** while handling **class imbalance**. It follows these key steps:\n",
    "\n",
    "1. **Compute Class Imbalance Adjustment (`scale_pos_weight`)**  \n",
    "   - Automatically calculates the **ratio of negative to positive samples** in `trainLabels`.  \n",
    "   - Helps **balance class weights** to prevent bias toward the majority class.\n",
    "\n",
    "2. **Define an Objective Function (`xgb_objective`)**  \n",
    "   - Trains an **XGBoost classifier** with different hyperparameter settings.  \n",
    "   - Evaluates performance using **5-fold cross-validation (AUC score)**.  \n",
    "   - Returns the **negative AUC score** (since Hyperopt minimizes loss).\n",
    "\n",
    "3. **Define the Hyperparameter Search Space**  \n",
    "   - Uses **Bayesian optimization (`Hyperopt`)** to efficiently search:  \n",
    "     - `n_estimators`: Number of boosting rounds.  \n",
    "     - `max_depth`: Tree depth (controls complexity).  \n",
    "     - `learning_rate`: Step size for boosting.  \n",
    "     - `colsample_bytree`: Fraction of features per tree.  \n",
    "     - `subsample`: Fraction of training data per boosting step.  \n",
    "     - `gamma`: Minimum loss required for a split.  \n",
    "     - `reg_alpha`, `reg_lambda`: L1/L2 regularization for feature selection.\n",
    "\n",
    "4. **Run Hyperparameter Optimization (`fmin`)**  \n",
    "   - Uses **Hyperopt’s `tpe.suggest` (Tree-structured Parzen Estimator)** for efficient tuning.  \n",
    "   - **Performs 50 evaluations**, adjusting hyperparameters to maximize AUC.  \n",
    "   - Stores optimization results in `trials`.\n",
    "\n",
    "5. **Extract and Convert Best Parameters**  \n",
    "   - Converts `n_estimators` and `max_depth` to integers.  \n",
    "   - Prints the **best hyperparameter combination** for final model training.\n",
    "\n",
    "---\n",
    "\n",
    "### **Why Do We Do This?**  \n",
    "\n",
    " **Improves Model Performance**  \n",
    "   - Optimizing hyperparameters ensures the model generalizes well to unseen data.  \n",
    "   - **AUC is maximized**, leading to better classification results.\n",
    "\n",
    " **Handles Class Imbalance Automatically**  \n",
    "   - `scale_pos_weight` prevents XGBoost from **favoring the majority class**, ensuring fair predictions.\n",
    "\n",
    " **Uses Bayesian Optimization for Efficient Tuning**  \n",
    "   - Unlike grid search, **Bayesian optimization** **adapts the search** based on previous results.  \n",
    "   - Finds **optimal hyperparameters faster** than traditional methods.\n",
    "\n",
    " **Prevents Overfitting with Cross-Validation**  \n",
    "   - Using **5-fold cross-validation**, the model is evaluated **on multiple subsets**, ensuring **robustness**.\n",
    "\n",
    " **Final Output: Optimized XGBoost Hyperparameters**  \n",
    "   - The best hyperparameter combination can now be used to **train the final model**.\n",
    "\n",
    "---\n",
    "\n",
    "### **Conclusion**  \n",
    "This process **automates the tuning of XGBoost hyperparameters** while handling class imbalance and preventing overfitting. By **optimizing the model efficiently**, we ensure that it performs at its best on real-world data. "
   ]
  },
  {
   "cell_type": "code",
   "execution_count": 19,
   "metadata": {
    "scrolled": true
   },
   "outputs": [
    {
     "name": "stdout",
     "output_type": "stream",
     "text": [
      "Best XGBoost Parameters: {'colsample_bytree': 0.7896802403475078, 'gamma': 0.2557642070182825, 'learning_rate': 0.034111714449107516, 'max_depth': 10, 'n_estimators': 500, 'reg_alpha': 0.6834219311463718, 'reg_lambda': 1.8825230456469648, 'subsample': 0.668563913792722}\n"
     ]
    }
   ],
   "source": [
    "# Import necessary libraries for hyperparameter tuning and model evaluation\n",
    "from hyperopt import hp, fmin, tpe, Trials, STATUS_OK  # Hyperparameter optimization\n",
    "from sklearn.model_selection import cross_val_score  # Cross-validation for model evaluation\n",
    "\n",
    "# Function to compute scale_pos_weight for handling imbalanced classes\n",
    "def compute_scale_pos_weight(labels):\n",
    "    \"\"\"\n",
    "    Computes the scale_pos_weight parameter for XGBoost to handle class imbalance.\n",
    "    \n",
    "    scale_pos_weight = (Number of Negative Samples) / (Number of Positive Samples)\n",
    "    - This helps balance the contribution of positive and negative samples during training.\n",
    "    - If there are no positive samples, it defaults to 1 to avoid division by zero.\n",
    "    \"\"\"\n",
    "    num_neg = np.sum(labels == 0)  # Count of negative class (label 0)\n",
    "    num_pos = np.sum(labels == 1)  # Count of positive class (label 1)\n",
    "    return num_neg / num_pos if num_pos > 0 else 1  # Avoid division by zero\n",
    "\n",
    "# Define the objective function for XGBoost hyperparameter optimization\n",
    "def xgb_objective(params):\n",
    "    \"\"\"\n",
    "    Objective function for tuning XGBoost hyperparameters using AUC as the evaluation metric.\n",
    "    \"\"\"\n",
    "    # Compute class balancing parameter\n",
    "    scale_pos_weight = compute_scale_pos_weight(trainLabels)\n",
    "\n",
    "    # Define XGBoost classifier with hyperparameters from Hyperopt\n",
    "    model = XGBClassifier(\n",
    "        n_estimators=int(params['n_estimators']),  # Number of boosting rounds\n",
    "        max_depth=int(params['max_depth']),  # Maximum tree depth\n",
    "        learning_rate=params['learning_rate'],  # Learning rate (step size)\n",
    "        colsample_bytree=params['colsample_bytree'],  # Fraction of features used per tree\n",
    "        subsample=params['subsample'],  # Fraction of training data used per boosting iteration\n",
    "        gamma=params['gamma'],  # Minimum loss reduction required for a split\n",
    "        reg_alpha=params['reg_alpha'],  # L1 regularization (lasso)\n",
    "        reg_lambda=params['reg_lambda'],  # L2 regularization (ridge)\n",
    "        scale_pos_weight=scale_pos_weight,  # Adjusts class imbalance in training\n",
    "        eval_metric=\"auc\",  # Use AUC (Area Under Curve) as the scoring metric\n",
    "        use_label_encoder=False  # Disable legacy label encoder (not needed for latest versions)\n",
    "    )\n",
    "\n",
    "    # Evaluate model performance using 5-fold cross-validation\n",
    "    auc = cross_val_score(model, trainData_transformed, trainLabels, cv=5, scoring='roc_auc').mean()\n",
    "\n",
    "    # Return the negative AUC as loss (Hyperopt minimizes loss, so we negate it)\n",
    "    return {'loss': -auc, 'status': STATUS_OK}\n",
    "\n",
    "# Define the search space for XGBoost hyperparameters\n",
    "xgb_search_space = {\n",
    "    'n_estimators': hp.quniform('n_estimators', 50, 500, 50),  # Number of trees (step size of 50)\n",
    "    'max_depth': hp.quniform('max_depth', 3, 12, 1),  # Tree depth (between 3 and 12)\n",
    "    'learning_rate': hp.uniform('learning_rate', 0.01, 0.3),  # Step size shrinkage (learning rate)\n",
    "    'colsample_bytree': hp.uniform('colsample_bytree', 0.3, 1.0),  # Feature sampling per tree\n",
    "    'subsample': hp.uniform('subsample', 0.5, 1.0),  # Fraction of data sampled per iteration\n",
    "    'gamma': hp.uniform('gamma', 0, 5),  # Minimum loss reduction for a split\n",
    "    'reg_alpha': hp.uniform('reg_alpha', 0, 1),  # L1 regularization (sparsity control)\n",
    "    'reg_lambda': hp.uniform('reg_lambda', 0, 5),  # L2 regularization (ridge control)\n",
    "}\n",
    "\n",
    "# Run hyperparameter tuning for XGBoost\n",
    "trials = Trials()  # Tracks optimization results\n",
    "best_xgb_params = fmin(\n",
    "    fn=xgb_objective,  # Objective function to minimize\n",
    "    space=xgb_search_space,  # Parameter search space\n",
    "    algo=tpe.suggest,  # Tree-structured Parzen Estimator (Bayesian Optimization)\n",
    "    max_evals=50,  # Number of evaluations (iterations)\n",
    "    trials=trials,  # Stores optimization history\n",
    "    verbose=False\n",
    ")\n",
    "\n",
    "# Convert best parameters to correct types (integer-based hyperparameters)\n",
    "best_xgb_params['n_estimators'] = int(best_xgb_params['n_estimators'])\n",
    "best_xgb_params['max_depth'] = int(best_xgb_params['max_depth'])\n",
    "\n",
    "# Print the best found hyperparameters for XGBoost\n",
    "print(\"Best XGBoost Parameters:\", best_xgb_params)\n"
   ]
  },
  {
   "cell_type": "code",
   "execution_count": 20,
   "metadata": {},
   "outputs": [
    {
     "name": "stdout",
     "output_type": "stream",
     "text": [
      "Final AUC: 0.9590837487665936\n"
     ]
    }
   ],
   "source": [
    "# Train final model using best parameters\n",
    "final_xgb = XGBClassifier(\n",
    "    **best_xgb_params,\n",
    "    eval_metric=\"auc\",\n",
    "    use_label_encoder=False\n",
    ")\n",
    "\n",
    "# Fit on full training data\n",
    "final_xgb.fit(trainData_transformed, trainLabels)\n",
    "\n",
    "# Predict on test set\n",
    "y_pred = final_xgb.predict_proba(testData_transformed)[:, 1]\n",
    "\n",
    "# Evaluate AUC\n",
    "final_auc = roc_auc_score(testLabels, y_pred)\n",
    "print(f\"Final AUC: {final_auc}\")\n",
    "#benchmark 0.9276"
   ]
  },
  {
   "cell_type": "markdown",
   "metadata": {},
   "source": [
    "### Use Pickle to Save the Model for Production"
   ]
  },
  {
   "cell_type": "code",
   "execution_count": 21,
   "metadata": {},
   "outputs": [],
   "source": [
    "import pickle\n",
    "filename = \"xgb_pipeline.sav\"\n",
    "with open(filename, \"wb\") as file: #Write File\n",
    "        pickle.dump(final_xgb, file)"
   ]
  },
  {
   "cell_type": "code",
   "execution_count": 22,
   "metadata": {},
   "outputs": [],
   "source": [
    "filename = 'xgb_pipeline.sav'\n",
    "final_xgb = pickle.load(open(filename, 'rb')) #Read File"
   ]
  },
  {
   "cell_type": "markdown",
   "metadata": {},
   "source": [
    "## 5. Cost-benefit Analysis"
   ]
  },
  {
   "cell_type": "markdown",
   "metadata": {},
   "source": [
    "So far, we built a predictive model-xgb (using XGBClassifier). Below, we use cost-benefit analysis to compare xgb and the status quo (no model). But before doing that, we need to determine the costs associated with FP and FN. \n",
    "\n",
    "In the case study, we read that it takes about four hours for a social worker to fill out UAI. We also learned that the average hourly rate to compensate the social workers is $18. Hence, the cost of filling out UAI will be:\n",
    "\n",
    "$$ $18 * 4 = $72 $$\n",
    "\n",
    "However, if UAI is needed for discharge, the patient needs to wait in the hospital for at least an additional four hours. In the case, we read that each additional day a patient stays in the hospital will cost 2,081 USD. This translates to 86.71 USD per hour. Hence, the additional four-hour stay will cost the hospital \n",
    "\n",
    "$$ $86.71 * 4 = $347 $$\n",
    "\n",
    "If the staff fills out UAI before the discharge ticket is generated, this additional cost would be avoided.  \n"
   ]
  },
  {
   "cell_type": "markdown",
   "metadata": {
    "tags": []
   },
   "source": [
    "To sum up, we have the following information based on the case study and the data files in this notebook:\n",
    "\n",
    "* Cost of each additional day in hospital: $2,081\n",
    "\n",
    "* Cost of each additional hour in hospital: $86.71\n",
    "\n",
    "* Time it takes to fill out UAI: 4 hours\n",
    "\n",
    "* Social workers' hourly rate: $18\n",
    "\n",
    "* Cost of filling out UAI: $72\n",
    "\n",
    "* Additional hospital cost if UAI is completed after discharge recommendation triggered: $347\n",
    "\n",
    "* Annual number of admitted patients: 28,539 \n",
    "\n",
    "* Number of patients in testData: 5,812\n"
   ]
  },
  {
   "cell_type": "markdown",
   "metadata": {},
   "source": [
    "Using this information, we can go ahead and conduct cost-benefit analysis. First, we estimate the cost or savings per cell in the confusion matrix:\n",
    "\n",
    "|       | Predicted 0 | Predicted 1     |\n",
    "| :---        |    :----:   |          ---: |\n",
    "| Actual 0      | No cost      | 6 USD additional cost  |\n",
    "| Actual 1   | 100 USD additional cost | No cost    |\n",
    "\n",
    "Before comparing the two models, let's estimate the costs associated with two naive models: "
   ]
  },
  {
   "cell_type": "markdown",
   "metadata": {},
   "source": [
    "#### Scenario 1: No predictive model- predict no one needs UAI:"
   ]
  },
  {
   "cell_type": "markdown",
   "metadata": {},
   "source": [
    "This is the status quo. In this scenario, every UAI will be filled only when the discharge recommendation is triggered. This is the equivalent of a naive model that predicts no one needs UAI. In this scenario, the confusion matrix will look like this:"
   ]
  },
  {
   "cell_type": "markdown",
   "metadata": {},
   "source": [
    "|       | Predicted 0 | Predicted 1     |\n",
    "| :---        |    :----:   |          ---: |\n",
    "| Actual 0      | 4,455       | 0   |\n",
    "| Actual 1   | 1,357       | 0      |"
   ]
  },
  {
   "cell_type": "markdown",
   "metadata": {},
   "source": [
    "The cost associated with this model will be equal to:"
   ]
  },
  {
   "cell_type": "code",
   "execution_count": 23,
   "metadata": {},
   "outputs": [
    {
     "data": {
      "text/plain": [
       "470879"
      ]
     },
     "execution_count": 23,
     "metadata": {},
     "output_type": "execute_result"
    }
   ],
   "source": [
    "1357 * 347"
   ]
  },
  {
   "cell_type": "markdown",
   "metadata": {},
   "source": [
    "This is the cost associated with 5,812 patients in testData. To estimate the total annual cost, we have to extrapolate this value for 28,539 annual patients:"
   ]
  },
  {
   "cell_type": "code",
   "execution_count": 24,
   "metadata": {},
   "outputs": [
    {
     "data": {
      "text/plain": [
       "2312184.408293186"
      ]
     },
     "execution_count": 24,
     "metadata": {},
     "output_type": "execute_result"
    }
   ],
   "source": [
    "1357 * 347 * (28539/5812)"
   ]
  },
  {
   "cell_type": "markdown",
   "metadata": {},
   "source": [
    "We can see that the status quo costs about 2.3M USD for UVA Hospital. "
   ]
  },
  {
   "cell_type": "markdown",
   "metadata": {},
   "source": [
    "#### Scenario 2: No predictive model- predict everyone needs UAI:"
   ]
  },
  {
   "cell_type": "markdown",
   "metadata": {},
   "source": [
    "In this scenario, the hospital staff members fill out UAI for every patient before the discharge recommendation is triggered:\n",
    "\n",
    "|       | Predicted 0 | Predicted 1     |\n",
    "| :---        |    :----:   |          ---: |\n",
    "| Actual 0      | 0       | 4,455   |\n",
    "| Actual 1   | 0       | 1,357      |\n",
    "\n",
    "The cost will be equal to:"
   ]
  },
  {
   "cell_type": "code",
   "execution_count": 25,
   "metadata": {},
   "outputs": [
    {
     "data": {
      "text/plain": [
       "1575046.3936682725"
      ]
     },
     "execution_count": 25,
     "metadata": {},
     "output_type": "execute_result"
    }
   ],
   "source": [
    "(4455 * 72) * (28539/5812)"
   ]
  },
  {
   "cell_type": "markdown",
   "metadata": {},
   "source": [
    "If UVA Hospital proactively fills out UAI for every patient, the cost will be about 700K USD, which is 1M USD less than the status quo."
   ]
  },
  {
   "cell_type": "markdown",
   "metadata": {},
   "source": [
    "### 5.1 Evaluate the Model Considering Cost-benefit Analysis"
   ]
  },
  {
   "cell_type": "markdown",
   "metadata": {},
   "source": [
    "The following code evaluates the final XGBoost model by predicting class probabilities and labels on the test dataset, then calculating and printing key performance metrics like accuracy, precision, recall, F1-score, and AUC-ROC. It ensures the model generalizes well to unseen data and verifies that the optimized hyperparameters lead to strong predictive performance before deployment."
   ]
  },
  {
   "cell_type": "code",
   "execution_count": 26,
   "metadata": {},
   "outputs": [
    {
     "name": "stdout",
     "output_type": "stream",
     "text": [
      "Accuracy: 91.55\n",
      "PrecisionNegative: 93.30\n",
      "PrecisionPositive: 86.29\n",
      "RecallNegative: 95.34\n",
      "RecallPositive: 81.10\n",
      "AUC Score: 95.91\n",
      "\n"
     ]
    }
   ],
   "source": [
    "# Predict class probabilities for the test dataset\n",
    "predictedProbabilities = final_xgb.predict_proba(testData_transformed)  \n",
    "# Predict class labels for the test dataset\n",
    "predictedLabels = final_xgb.predict(testData_transformed)  \n",
    "# Evaluate model performance using a custom function\n",
    "calculateMetricsAndPrint(predictedLabels, predictedProbabilities, testLabels)  "
   ]
  },
  {
   "cell_type": "markdown",
   "metadata": {},
   "source": [
    "This code **plots the confusion matrix** for an XGBoost model by applying a custom decision threshold instead of the default 0.5. It first obtains the predicted probabilities, then converts them into binary predictions based on the specified **threshold (default 0.5)**, and finally visualizes the confusion matrix. By adjusting the threshold, we can control the trade-off between **false negatives (FN) and false positives (FP)**. Since **FN cost 347** and **FP cost 72**, lowering the threshold helps **reduce costly false negatives** by increasing recall, even if it slightly raises the number of false positives. This is essential for cost-sensitive decision-making, ensuring that high-impact misclassifications are minimized. "
   ]
  },
  {
   "cell_type": "code",
   "execution_count": 27,
   "metadata": {},
   "outputs": [],
   "source": [
    "def plot_conf_mat(clf, X_test, y_test, threshold=0.15):\n",
    "    # Get predicted probabilities for the positive class\n",
    "    y_proba = clf.predict_proba(X_test)[:, 1]\n",
    "    \n",
    "    # Apply the threshold to convert probabilities to binary predictions\n",
    "    y_pred = (y_proba >= threshold).astype(int)\n",
    "    \n",
    "    # Compute the confusion matrix\n",
    "    cm = confusion_matrix(y_test, y_pred)\n",
    "    \n",
    "    # Display the confusion matrix\n",
    "    disp = ConfusionMatrixDisplay(confusion_matrix=cm, display_labels=clf.classes_)\n",
    "    disp.plot(cmap=plt.cm.Blues)\n",
    "    plt.title(f'Confusion matrix with threshold={threshold}')\n",
    "    plt.show()"
   ]
  },
  {
   "cell_type": "code",
   "execution_count": 28,
   "metadata": {},
   "outputs": [
    {
     "data": {
      "image/png": "[encoded data removed]",
      "text/plain": [
       "<Figure size 640x480 with 2 Axes>"
      ]
     },
     "metadata": {},
     "output_type": "display_data"
    }
   ],
   "source": [
    "plot_conf_mat(final_xgb, # The classifier object\n",
    "              testData_transformed, # The test data set aside for evaluation in train_test_split\n",
    "              testLabels # Actual labels\n",
    "             )"
   ]
  },
  {
   "cell_type": "markdown",
   "metadata": {
    "tags": []
   },
   "source": [
    "The cost will be equal to:"
   ]
  },
  {
   "cell_type": "code",
   "execution_count": 33,
   "metadata": {},
   "outputs": [
    {
     "name": "stdout",
     "output_type": "stream",
     "text": [
      "Total Cost = 405836.1684445974.\n"
     ]
    }
   ],
   "source": [
    "FP_Cost = (478 * 72) * (28539/5812)\n",
    "FN_Cost = (139 * 347) * (28539/5812)\n",
    "\n",
    "print(\"Total Cost = {}.\".format(FP_Cost + FN_Cost))"
   ]
  },
  {
   "cell_type": "markdown",
   "metadata": {},
   "source": [
    "Let's compare this value with the previous two values:"
   ]
  },
  {
   "cell_type": "code",
   "execution_count": 35,
   "metadata": {},
   "outputs": [
    {
     "name": "stdout",
     "output_type": "stream",
     "text": [
      "Savings compared to scenario 1: 1906348.2398485888\n"
     ]
    }
   ],
   "source": [
    "Scenario_1_3 = 2312184.408293186 - 405836.1684445974\n",
    "print(\"Savings compared to scenario 1: {}\".format(Scenario_1_3))"
   ]
  },
  {
   "cell_type": "code",
   "execution_count": 36,
   "metadata": {},
   "outputs": [
    {
     "name": "stdout",
     "output_type": "stream",
     "text": [
      "Savings compared to scenario 2: 1169210.2252236751\n"
     ]
    }
   ],
   "source": [
    "Scenario_2_3 = 1575046.3936682725 - 405836.1684445974\n",
    "print(\"Savings compared to scenario 2: {}\".format(Scenario_2_3))"
   ]
  },
  {
   "cell_type": "markdown",
   "metadata": {},
   "source": [
    "### **Conclusion**  \n",
    "\n",
    "This project successfully developed a **cost-sensitive predictive model** for hospital discharge outcomes, balancing performance optimization with financial impact. By implementing **feature engineering, hyperparameter tuning, and threshold adjustment**, we minimized the high cost of false negatives while maintaining acceptable false positives. The integration of **Bayesian optimization and cost-sensitive training** ensured that the model aligned with business objectives, maximizing its real-world value for **UVA Hospital**. Moving forward, further enhancements such as incorporating **real-time patient data and additional clinical variables** could improve model robustness and decision-making efficiency, leading to better patient care and resource allocation. 🚀"
   ]
  }
 ],
 "metadata": {
  "interpreter": {
   "hash": "f7d1f0e70e3ca0134d66ef91f77ab860149e5029949fd8de746afe9338c863a1"
  },
  "kernelspec": {
   "display_name": "Python 3 (ipykernel)",
   "language": "python",
   "name": "python3"
  },
  "language_info": {
   "codemirror_mode": {
    "name": "ipython",
    "version": 3
   },
   "file_extension": ".py",
   "mimetype": "text/x-python",
   "name": "python",
   "nbconvert_exporter": "python",
   "pygments_lexer": "ipython3",
   "version": "3.11.9"
  }
 },
 "nbformat": 4,
 "nbformat_minor": 4
}
