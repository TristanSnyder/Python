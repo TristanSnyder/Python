{
 "cells": [
  {
   "cell_type": "markdown",
   "metadata": {},
   "source": [
    "# Case Competition 1: Employee Turnover (DL Version)"
   ]
  },
  {
   "cell_type": "markdown",
   "metadata": {},
   "source": [
    "In this notebook, we revisit the Hilton project and try to predict IntentToStay using deep learning instead of tree-based or other models."
   ]
  },
  {
   "cell_type": "code",
   "execution_count": 1,
   "metadata": {
    "tags": []
   },
   "outputs": [],
   "source": [
    "%%capture --no-display\n",
    "# Install packages:\n",
    "\n",
    "!pip install tensorflow\n",
    "!pip install scikeras\n",
    "# !pip install keras\n",
    "# !pip install seaborn\n",
    "# !pip install category_encoders"
   ]
  },
  {
   "cell_type": "code",
   "execution_count": 2,
   "metadata": {
    "scrolled": true,
    "tags": []
   },
   "outputs": [
    {
     "name": "stderr",
     "output_type": "stream",
     "text": [
      "2025-03-27 22:52:29.340653: I tensorflow/core/util/port.cc:153] oneDNN custom operations are on. You may see slightly different numerical results due to floating-point round-off errors from different computation orders. To turn them off, set the environment variable `TF_ENABLE_ONEDNN_OPTS=0`.\n",
      "2025-03-27 22:52:29.353951: E external/local_xla/xla/stream_executor/cuda/cuda_fft.cc:467] Unable to register cuFFT factory: Attempting to register factory for plugin cuFFT when one has already been registered\n",
      "WARNING: All log messages before absl::InitializeLog() is called are written to STDERR\n",
      "E0000 00:00:1743115949.368327     110 cuda_dnn.cc:8579] Unable to register cuDNN factory: Attempting to register factory for plugin cuDNN when one has already been registered\n",
      "E0000 00:00:1743115949.372643     110 cuda_blas.cc:1407] Unable to register cuBLAS factory: Attempting to register factory for plugin cuBLAS when one has already been registered\n",
      "W0000 00:00:1743115949.383368     110 computation_placer.cc:177] computation placer already registered. Please check linkage and avoid linking the same target more than once.\n",
      "W0000 00:00:1743115949.383381     110 computation_placer.cc:177] computation placer already registered. Please check linkage and avoid linking the same target more than once.\n",
      "W0000 00:00:1743115949.383382     110 computation_placer.cc:177] computation placer already registered. Please check linkage and avoid linking the same target more than once.\n",
      "W0000 00:00:1743115949.383383     110 computation_placer.cc:177] computation placer already registered. Please check linkage and avoid linking the same target more than once.\n",
      "2025-03-27 22:52:29.387518: I tensorflow/core/platform/cpu_feature_guard.cc:210] This TensorFlow binary is optimized to use available CPU instructions in performance-critical operations.\n",
      "To enable the following instructions: AVX2 AVX512F AVX512_VNNI FMA, in other operations, rebuild TensorFlow with the appropriate compiler flags.\n"
     ]
    }
   ],
   "source": [
    "# Import packages:\n",
    "\n",
    "import sys\n",
    "import pandas as pd\n",
    "pd.set_option('display.max_rows', 50)\n",
    "import numpy as np\n",
    "np.set_printoptions(threshold=sys.maxsize)\n",
    "import matplotlib.pyplot as plt\n",
    "import seaborn as sns\n",
    "from category_encoders import *\n",
    "\n",
    "# sklearn imports:\n",
    "from sklearn.model_selection import train_test_split\n",
    "from sklearn.preprocessing import LabelEncoder\n",
    "from sklearn.model_selection import cross_val_score\n",
    "from sklearn.model_selection import KFold\n",
    "from sklearn.preprocessing import StandardScaler\n",
    "from sklearn.pipeline import Pipeline\n",
    "from sklearn.preprocessing import MinMaxScaler\n",
    "\n",
    "# keras imports:\n",
    "import tensorflow as tf\n",
    "import keras\n",
    "from keras.models import Sequential\n",
    "from keras.layers import Dense, Dropout, Normalization, BatchNormalization\n",
    "from scikeras.wrappers import KerasRegressor\n",
    "from keras.optimizers import *\n",
    "from keras.backend import clear_session\n",
    "plt.style.use('fivethirtyeight')\n",
    "%matplotlib inline"
   ]
  },
  {
   "cell_type": "markdown",
   "metadata": {},
   "source": [
    "## 1- Read & Prepare the Data:"
   ]
  },
  {
   "cell_type": "code",
   "execution_count": 3,
   "metadata": {},
   "outputs": [],
   "source": [
    "trainInput = pd.read_csv(\"data/hilton_2023_train.csv\") \n",
    "trainData = trainInput.drop(columns = 'IntentToStayHighLow')\n",
    "trainLabels = LabelEncoder().fit_transform(trainInput.IntentToStayHighLow)\n",
    "\n",
    "testInput = pd.read_csv(\"data/hilton_2023_test.csv\")\n",
    "testData = testInput.drop(columns = 'IntentToStayHighLow')\n",
    "testLabels = LabelEncoder().fit_transform(testInput.IntentToStayHighLow)"
   ]
  },
  {
   "cell_type": "code",
   "execution_count": 4,
   "metadata": {},
   "outputs": [],
   "source": [
    "def summarize_dataframe(df):\n",
    "    missing_values = pd.concat([pd.DataFrame(df.columns, columns=['Variable Name']),\n",
    "                      pd.DataFrame(df.dtypes.values.reshape([-1,1]), columns=['Data Type']),\n",
    "                      pd.DataFrame(df.isnull().sum().values, columns=['Missing Values']),\n",
    "                      pd.DataFrame([df[name].nunique() for name in df.columns], columns=['Unique Values'])],\n",
    "                     axis=1).set_index('Variable Name')\n",
    "    return pd.concat([missing_values, df.describe(include='all').transpose()], axis=1).fillna(\"\")"
   ]
  },
  {
   "cell_type": "code",
   "execution_count": 5,
   "metadata": {},
   "outputs": [
    {
     "data": {
      "text/html": [
       "<div>\n",
       "<style scoped>\n",
       "    .dataframe tbody tr th:only-of-type {\n",
       "        vertical-align: middle;\n",
       "    }\n",
       "\n",
       "    .dataframe tbody tr th {\n",
       "        vertical-align: top;\n",
       "    }\n",
       "\n",
       "    .dataframe thead th {\n",
       "        text-align: right;\n",
       "    }\n",
       "</style>\n",
       "<table border=\"1\" class=\"dataframe\">\n",
       "  <thead>\n",
       "    <tr style=\"text-align: right;\">\n",
       "      <th></th>\n",
       "      <th>Data Type</th>\n",
       "      <th>Missing Values</th>\n",
       "      <th>Unique Values</th>\n",
       "      <th>count</th>\n",
       "      <th>mean</th>\n",
       "      <th>std</th>\n",
       "      <th>min</th>\n",
       "      <th>25%</th>\n",
       "      <th>50%</th>\n",
       "      <th>75%</th>\n",
       "      <th>max</th>\n",
       "    </tr>\n",
       "  </thead>\n",
       "  <tbody>\n",
       "    <tr>\n",
       "      <th>HotelInncode</th>\n",
       "      <td>int64</td>\n",
       "      <td>0</td>\n",
       "      <td>151</td>\n",
       "      <td>7000.0</td>\n",
       "      <td>100082.859571</td>\n",
       "      <td>40.995916</td>\n",
       "      <td>100000.00</td>\n",
       "      <td>100055.00</td>\n",
       "      <td>100085.00</td>\n",
       "      <td>100116.00</td>\n",
       "      <td>100161.00</td>\n",
       "    </tr>\n",
       "    <tr>\n",
       "      <th>HotelBrand</th>\n",
       "      <td>int64</td>\n",
       "      <td>0</td>\n",
       "      <td>12</td>\n",
       "      <td>7000.0</td>\n",
       "      <td>5.922714</td>\n",
       "      <td>2.380002</td>\n",
       "      <td>1.00</td>\n",
       "      <td>4.00</td>\n",
       "      <td>7.00</td>\n",
       "      <td>7.00</td>\n",
       "      <td>12.00</td>\n",
       "    </tr>\n",
       "    <tr>\n",
       "      <th>Generation</th>\n",
       "      <td>float64</td>\n",
       "      <td>0</td>\n",
       "      <td>5</td>\n",
       "      <td>7000.0</td>\n",
       "      <td>4.213429</td>\n",
       "      <td>0.838011</td>\n",
       "      <td>2.00</td>\n",
       "      <td>4.00</td>\n",
       "      <td>4.00</td>\n",
       "      <td>5.00</td>\n",
       "      <td>6.00</td>\n",
       "    </tr>\n",
       "    <tr>\n",
       "      <th>Department</th>\n",
       "      <td>int64</td>\n",
       "      <td>0</td>\n",
       "      <td>40</td>\n",
       "      <td>7000.0</td>\n",
       "      <td>17.742714</td>\n",
       "      <td>8.639199</td>\n",
       "      <td>1.00</td>\n",
       "      <td>10.00</td>\n",
       "      <td>21.00</td>\n",
       "      <td>21.00</td>\n",
       "      <td>42.00</td>\n",
       "    </tr>\n",
       "    <tr>\n",
       "      <th>FullTimePartTime</th>\n",
       "      <td>float64</td>\n",
       "      <td>0</td>\n",
       "      <td>4</td>\n",
       "      <td>7000.0</td>\n",
       "      <td>3.338000</td>\n",
       "      <td>0.643285</td>\n",
       "      <td>3.00</td>\n",
       "      <td>3.00</td>\n",
       "      <td>3.00</td>\n",
       "      <td>3.00</td>\n",
       "      <td>6.00</td>\n",
       "    </tr>\n",
       "    <tr>\n",
       "      <th>...</th>\n",
       "      <td>...</td>\n",
       "      <td>...</td>\n",
       "      <td>...</td>\n",
       "      <td>...</td>\n",
       "      <td>...</td>\n",
       "      <td>...</td>\n",
       "      <td>...</td>\n",
       "      <td>...</td>\n",
       "      <td>...</td>\n",
       "      <td>...</td>\n",
       "      <td>...</td>\n",
       "    </tr>\n",
       "    <tr>\n",
       "      <th>GenX</th>\n",
       "      <td>int64</td>\n",
       "      <td>0</td>\n",
       "      <td>2</td>\n",
       "      <td>7000.0</td>\n",
       "      <td>0.366286</td>\n",
       "      <td>0.481823</td>\n",
       "      <td>0.00</td>\n",
       "      <td>0.00</td>\n",
       "      <td>0.00</td>\n",
       "      <td>1.00</td>\n",
       "      <td>1.00</td>\n",
       "    </tr>\n",
       "    <tr>\n",
       "      <th>Millennial</th>\n",
       "      <td>int64</td>\n",
       "      <td>0</td>\n",
       "      <td>2</td>\n",
       "      <td>7000.0</td>\n",
       "      <td>0.373429</td>\n",
       "      <td>0.483749</td>\n",
       "      <td>0.00</td>\n",
       "      <td>0.00</td>\n",
       "      <td>0.00</td>\n",
       "      <td>1.00</td>\n",
       "      <td>1.00</td>\n",
       "    </tr>\n",
       "    <tr>\n",
       "      <th>GenZ</th>\n",
       "      <td>int64</td>\n",
       "      <td>0</td>\n",
       "      <td>2</td>\n",
       "      <td>7000.0</td>\n",
       "      <td>0.034571</td>\n",
       "      <td>0.182705</td>\n",
       "      <td>0.00</td>\n",
       "      <td>0.00</td>\n",
       "      <td>0.00</td>\n",
       "      <td>0.00</td>\n",
       "      <td>1.00</td>\n",
       "    </tr>\n",
       "    <tr>\n",
       "      <th>MCPaysat</th>\n",
       "      <td>float64</td>\n",
       "      <td>0</td>\n",
       "      <td>5</td>\n",
       "      <td>7000.0</td>\n",
       "      <td>0.246286</td>\n",
       "      <td>1.167550</td>\n",
       "      <td>-2.62</td>\n",
       "      <td>-0.62</td>\n",
       "      <td>0.38</td>\n",
       "      <td>1.38</td>\n",
       "      <td>1.38</td>\n",
       "    </tr>\n",
       "    <tr>\n",
       "      <th>PaySatMillennial</th>\n",
       "      <td>float64</td>\n",
       "      <td>0</td>\n",
       "      <td>6</td>\n",
       "      <td>7000.0</td>\n",
       "      <td>0.018474</td>\n",
       "      <td>0.762984</td>\n",
       "      <td>-2.62</td>\n",
       "      <td>0.00</td>\n",
       "      <td>0.00</td>\n",
       "      <td>0.00</td>\n",
       "      <td>1.38</td>\n",
       "    </tr>\n",
       "  </tbody>\n",
       "</table>\n",
       "<p>70 rows × 11 columns</p>\n",
       "</div>"
      ],
      "text/plain": [
       "                 Data Type  Missing Values  Unique Values   count  \\\n",
       "HotelInncode         int64               0            151  7000.0   \n",
       "HotelBrand           int64               0             12  7000.0   \n",
       "Generation         float64               0              5  7000.0   \n",
       "Department           int64               0             40  7000.0   \n",
       "FullTimePartTime   float64               0              4  7000.0   \n",
       "...                    ...             ...            ...     ...   \n",
       "GenX                 int64               0              2  7000.0   \n",
       "Millennial           int64               0              2  7000.0   \n",
       "GenZ                 int64               0              2  7000.0   \n",
       "MCPaysat           float64               0              5  7000.0   \n",
       "PaySatMillennial   float64               0              6  7000.0   \n",
       "\n",
       "                           mean        std        min        25%        50%  \\\n",
       "HotelInncode      100082.859571  40.995916  100000.00  100055.00  100085.00   \n",
       "HotelBrand             5.922714   2.380002       1.00       4.00       7.00   \n",
       "Generation             4.213429   0.838011       2.00       4.00       4.00   \n",
       "Department            17.742714   8.639199       1.00      10.00      21.00   \n",
       "FullTimePartTime       3.338000   0.643285       3.00       3.00       3.00   \n",
       "...                         ...        ...        ...        ...        ...   \n",
       "GenX                   0.366286   0.481823       0.00       0.00       0.00   \n",
       "Millennial             0.373429   0.483749       0.00       0.00       0.00   \n",
       "GenZ                   0.034571   0.182705       0.00       0.00       0.00   \n",
       "MCPaysat               0.246286   1.167550      -2.62      -0.62       0.38   \n",
       "PaySatMillennial       0.018474   0.762984      -2.62       0.00       0.00   \n",
       "\n",
       "                        75%        max  \n",
       "HotelInncode      100116.00  100161.00  \n",
       "HotelBrand             7.00      12.00  \n",
       "Generation             5.00       6.00  \n",
       "Department            21.00      42.00  \n",
       "FullTimePartTime       3.00       6.00  \n",
       "...                     ...        ...  \n",
       "GenX                   1.00       1.00  \n",
       "Millennial             1.00       1.00  \n",
       "GenZ                   0.00       1.00  \n",
       "MCPaysat               1.38       1.38  \n",
       "PaySatMillennial       0.00       1.38  \n",
       "\n",
       "[70 rows x 11 columns]"
      ]
     },
     "execution_count": 5,
     "metadata": {},
     "output_type": "execute_result"
    }
   ],
   "source": [
    "summarize_dataframe(trainData)"
   ]
  },
  {
   "cell_type": "code",
   "execution_count": 6,
   "metadata": {},
   "outputs": [],
   "source": [
    "feature_list = trainData.columns\n",
    "scalar = MinMaxScaler()\n",
    "scalar.fit(trainData)\n",
    "trainData = scalar.transform(trainData)\n",
    "\n",
    "scalar = MinMaxScaler()\n",
    "scalar.fit(testData)\n",
    "testData = scalar.transform(testData)"
   ]
  },
  {
   "cell_type": "markdown",
   "metadata": {},
   "source": [
    "## 2. Base Deep Learning"
   ]
  },
  {
   "cell_type": "code",
   "execution_count": 7,
   "metadata": {
    "scrolled": true
   },
   "outputs": [
    {
     "name": "stderr",
     "output_type": "stream",
     "text": [
      "/opt/conda/lib/python3.11/site-packages/keras/src/layers/core/dense.py:87: UserWarning: Do not pass an `input_shape`/`input_dim` argument to a layer. When using Sequential models, prefer using an `Input(shape)` object as the first layer in the model instead.\n",
      "  super().__init__(activity_regularizer=activity_regularizer, **kwargs)\n",
      "2025-03-27 22:52:31.191872: E external/local_xla/xla/stream_executor/cuda/cuda_platform.cc:51] failed call to cuInit: INTERNAL: CUDA error: Failed call to cuInit: UNKNOWN ERROR (303)\n"
     ]
    },
    {
     "data": {
      "text/html": [
       "<pre style=\"white-space:pre;overflow-x:auto;line-height:normal;font-family:Menlo,'DejaVu Sans Mono',consolas,'Courier New',monospace\"><span style=\"font-weight: bold\">Model: \"sequential\"</span>\n",
       "</pre>\n"
      ],
      "text/plain": [
       "\u001b[1mModel: \"sequential\"\u001b[0m\n"
      ]
     },
     "metadata": {},
     "output_type": "display_data"
    },
    {
     "data": {
      "text/html": [
       "<pre style=\"white-space:pre;overflow-x:auto;line-height:normal;font-family:Menlo,'DejaVu Sans Mono',consolas,'Courier New',monospace\">┏━━━━━━━━━━━━━━━━━━━━━━━━━━━━━━━━━┳━━━━━━━━━━━━━━━━━━━━━━━━┳━━━━━━━━━━━━━━━┓\n",
       "┃<span style=\"font-weight: bold\"> Layer (type)                    </span>┃<span style=\"font-weight: bold\"> Output Shape           </span>┃<span style=\"font-weight: bold\">       Param # </span>┃\n",
       "┡━━━━━━━━━━━━━━━━━━━━━━━━━━━━━━━━━╇━━━━━━━━━━━━━━━━━━━━━━━━╇━━━━━━━━━━━━━━━┩\n",
       "│ dense (<span style=\"color: #0087ff; text-decoration-color: #0087ff\">Dense</span>)                   │ (<span style=\"color: #00d7ff; text-decoration-color: #00d7ff\">None</span>, <span style=\"color: #00af00; text-decoration-color: #00af00\">128</span>)            │         <span style=\"color: #00af00; text-decoration-color: #00af00\">9,088</span> │\n",
       "├─────────────────────────────────┼────────────────────────┼───────────────┤\n",
       "│ normalization (<span style=\"color: #0087ff; text-decoration-color: #0087ff\">Normalization</span>)   │ (<span style=\"color: #00d7ff; text-decoration-color: #00d7ff\">None</span>, <span style=\"color: #00af00; text-decoration-color: #00af00\">128</span>)            │           <span style=\"color: #00af00; text-decoration-color: #00af00\">257</span> │\n",
       "├─────────────────────────────────┼────────────────────────┼───────────────┤\n",
       "│ batch_normalization             │ (<span style=\"color: #00d7ff; text-decoration-color: #00d7ff\">None</span>, <span style=\"color: #00af00; text-decoration-color: #00af00\">128</span>)            │           <span style=\"color: #00af00; text-decoration-color: #00af00\">512</span> │\n",
       "│ (<span style=\"color: #0087ff; text-decoration-color: #0087ff\">BatchNormalization</span>)            │                        │               │\n",
       "├─────────────────────────────────┼────────────────────────┼───────────────┤\n",
       "│ dense_1 (<span style=\"color: #0087ff; text-decoration-color: #0087ff\">Dense</span>)                 │ (<span style=\"color: #00d7ff; text-decoration-color: #00d7ff\">None</span>, <span style=\"color: #00af00; text-decoration-color: #00af00\">64</span>)             │         <span style=\"color: #00af00; text-decoration-color: #00af00\">8,256</span> │\n",
       "├─────────────────────────────────┼────────────────────────┼───────────────┤\n",
       "│ normalization_1 (<span style=\"color: #0087ff; text-decoration-color: #0087ff\">Normalization</span>) │ (<span style=\"color: #00d7ff; text-decoration-color: #00d7ff\">None</span>, <span style=\"color: #00af00; text-decoration-color: #00af00\">64</span>)             │           <span style=\"color: #00af00; text-decoration-color: #00af00\">129</span> │\n",
       "├─────────────────────────────────┼────────────────────────┼───────────────┤\n",
       "│ batch_normalization_1           │ (<span style=\"color: #00d7ff; text-decoration-color: #00d7ff\">None</span>, <span style=\"color: #00af00; text-decoration-color: #00af00\">64</span>)             │           <span style=\"color: #00af00; text-decoration-color: #00af00\">256</span> │\n",
       "│ (<span style=\"color: #0087ff; text-decoration-color: #0087ff\">BatchNormalization</span>)            │                        │               │\n",
       "├─────────────────────────────────┼────────────────────────┼───────────────┤\n",
       "│ dropout (<span style=\"color: #0087ff; text-decoration-color: #0087ff\">Dropout</span>)               │ (<span style=\"color: #00d7ff; text-decoration-color: #00d7ff\">None</span>, <span style=\"color: #00af00; text-decoration-color: #00af00\">64</span>)             │             <span style=\"color: #00af00; text-decoration-color: #00af00\">0</span> │\n",
       "├─────────────────────────────────┼────────────────────────┼───────────────┤\n",
       "│ dense_2 (<span style=\"color: #0087ff; text-decoration-color: #0087ff\">Dense</span>)                 │ (<span style=\"color: #00d7ff; text-decoration-color: #00d7ff\">None</span>, <span style=\"color: #00af00; text-decoration-color: #00af00\">1</span>)              │            <span style=\"color: #00af00; text-decoration-color: #00af00\">65</span> │\n",
       "└─────────────────────────────────┴────────────────────────┴───────────────┘\n",
       "</pre>\n"
      ],
      "text/plain": [
       "┏━━━━━━━━━━━━━━━━━━━━━━━━━━━━━━━━━┳━━━━━━━━━━━━━━━━━━━━━━━━┳━━━━━━━━━━━━━━━┓\n",
       "┃\u001b[1m \u001b[0m\u001b[1mLayer (type)                   \u001b[0m\u001b[1m \u001b[0m┃\u001b[1m \u001b[0m\u001b[1mOutput Shape          \u001b[0m\u001b[1m \u001b[0m┃\u001b[1m \u001b[0m\u001b[1m      Param #\u001b[0m\u001b[1m \u001b[0m┃\n",
       "┡━━━━━━━━━━━━━━━━━━━━━━━━━━━━━━━━━╇━━━━━━━━━━━━━━━━━━━━━━━━╇━━━━━━━━━━━━━━━┩\n",
       "│ dense (\u001b[38;5;33mDense\u001b[0m)                   │ (\u001b[38;5;45mNone\u001b[0m, \u001b[38;5;34m128\u001b[0m)            │         \u001b[38;5;34m9,088\u001b[0m │\n",
       "├─────────────────────────────────┼────────────────────────┼───────────────┤\n",
       "│ normalization (\u001b[38;5;33mNormalization\u001b[0m)   │ (\u001b[38;5;45mNone\u001b[0m, \u001b[38;5;34m128\u001b[0m)            │           \u001b[38;5;34m257\u001b[0m │\n",
       "├─────────────────────────────────┼────────────────────────┼───────────────┤\n",
       "│ batch_normalization             │ (\u001b[38;5;45mNone\u001b[0m, \u001b[38;5;34m128\u001b[0m)            │           \u001b[38;5;34m512\u001b[0m │\n",
       "│ (\u001b[38;5;33mBatchNormalization\u001b[0m)            │                        │               │\n",
       "├─────────────────────────────────┼────────────────────────┼───────────────┤\n",
       "│ dense_1 (\u001b[38;5;33mDense\u001b[0m)                 │ (\u001b[38;5;45mNone\u001b[0m, \u001b[38;5;34m64\u001b[0m)             │         \u001b[38;5;34m8,256\u001b[0m │\n",
       "├─────────────────────────────────┼────────────────────────┼───────────────┤\n",
       "│ normalization_1 (\u001b[38;5;33mNormalization\u001b[0m) │ (\u001b[38;5;45mNone\u001b[0m, \u001b[38;5;34m64\u001b[0m)             │           \u001b[38;5;34m129\u001b[0m │\n",
       "├─────────────────────────────────┼────────────────────────┼───────────────┤\n",
       "│ batch_normalization_1           │ (\u001b[38;5;45mNone\u001b[0m, \u001b[38;5;34m64\u001b[0m)             │           \u001b[38;5;34m256\u001b[0m │\n",
       "│ (\u001b[38;5;33mBatchNormalization\u001b[0m)            │                        │               │\n",
       "├─────────────────────────────────┼────────────────────────┼───────────────┤\n",
       "│ dropout (\u001b[38;5;33mDropout\u001b[0m)               │ (\u001b[38;5;45mNone\u001b[0m, \u001b[38;5;34m64\u001b[0m)             │             \u001b[38;5;34m0\u001b[0m │\n",
       "├─────────────────────────────────┼────────────────────────┼───────────────┤\n",
       "│ dense_2 (\u001b[38;5;33mDense\u001b[0m)                 │ (\u001b[38;5;45mNone\u001b[0m, \u001b[38;5;34m1\u001b[0m)              │            \u001b[38;5;34m65\u001b[0m │\n",
       "└─────────────────────────────────┴────────────────────────┴───────────────┘\n"
      ]
     },
     "metadata": {},
     "output_type": "display_data"
    },
    {
     "data": {
      "text/html": [
       "<pre style=\"white-space:pre;overflow-x:auto;line-height:normal;font-family:Menlo,'DejaVu Sans Mono',consolas,'Courier New',monospace\"><span style=\"font-weight: bold\"> Total params: </span><span style=\"color: #00af00; text-decoration-color: #00af00\">18,563</span> (72.52 KB)\n",
       "</pre>\n"
      ],
      "text/plain": [
       "\u001b[1m Total params: \u001b[0m\u001b[38;5;34m18,563\u001b[0m (72.52 KB)\n"
      ]
     },
     "metadata": {},
     "output_type": "display_data"
    },
    {
     "data": {
      "text/html": [
       "<pre style=\"white-space:pre;overflow-x:auto;line-height:normal;font-family:Menlo,'DejaVu Sans Mono',consolas,'Courier New',monospace\"><span style=\"font-weight: bold\"> Trainable params: </span><span style=\"color: #00af00; text-decoration-color: #00af00\">17,793</span> (69.50 KB)\n",
       "</pre>\n"
      ],
      "text/plain": [
       "\u001b[1m Trainable params: \u001b[0m\u001b[38;5;34m17,793\u001b[0m (69.50 KB)\n"
      ]
     },
     "metadata": {},
     "output_type": "display_data"
    },
    {
     "data": {
      "text/html": [
       "<pre style=\"white-space:pre;overflow-x:auto;line-height:normal;font-family:Menlo,'DejaVu Sans Mono',consolas,'Courier New',monospace\"><span style=\"font-weight: bold\"> Non-trainable params: </span><span style=\"color: #00af00; text-decoration-color: #00af00\">770</span> (3.02 KB)\n",
       "</pre>\n"
      ],
      "text/plain": [
       "\u001b[1m Non-trainable params: \u001b[0m\u001b[38;5;34m770\u001b[0m (3.02 KB)\n"
      ]
     },
     "metadata": {},
     "output_type": "display_data"
    }
   ],
   "source": [
    "# Clear the previous model:\n",
    "clear_session()\n",
    "\n",
    "model = Sequential()\n",
    "model.add(Dense(128, input_dim=trainData.shape[1], activation='leaky_relu'))\n",
    "model.add(Normalization())\n",
    "model.add(BatchNormalization())\n",
    "model.add(Dense(64, activation='leaky_relu'))\n",
    "model.add(Normalization())\n",
    "model.add(BatchNormalization())\n",
    "model.add(Dropout(0.8, seed=1))\n",
    "model.add(Dense(1, activation='sigmoid'))\n",
    "model.summary()"
   ]
  },
  {
   "cell_type": "code",
   "execution_count": 8,
   "metadata": {},
   "outputs": [],
   "source": [
    "model.compile(loss='binary_crossentropy', \n",
    "              optimizer='adamw', \n",
    "              metrics = ['AUC'])"
   ]
  },
  {
   "cell_type": "code",
   "execution_count": 9,
   "metadata": {
    "tags": []
   },
   "outputs": [
    {
     "name": "stdout",
     "output_type": "stream",
     "text": [
      "Epoch 1/20\n",
      "\u001b[1m219/219\u001b[0m \u001b[32m━━━━━━━━━━━━━━━━━━━━\u001b[0m\u001b[37m\u001b[0m \u001b[1m2s\u001b[0m 3ms/step - AUC: 0.8437 - loss: 0.6306 - val_AUC: 0.9151 - val_loss: 0.6240\n",
      "Epoch 2/20\n",
      "\u001b[1m219/219\u001b[0m \u001b[32m━━━━━━━━━━━━━━━━━━━━\u001b[0m\u001b[37m\u001b[0m \u001b[1m0s\u001b[0m 2ms/step - AUC: 0.8881 - loss: 0.4813 - val_AUC: 0.9186 - val_loss: 0.3793\n",
      "Epoch 3/20\n",
      "\u001b[1m219/219\u001b[0m \u001b[32m━━━━━━━━━━━━━━━━━━━━\u001b[0m\u001b[37m\u001b[0m \u001b[1m0s\u001b[0m 2ms/step - AUC: 0.9111 - loss: 0.3988 - val_AUC: 0.9197 - val_loss: 0.3730\n",
      "Epoch 4/20\n",
      "\u001b[1m219/219\u001b[0m \u001b[32m━━━━━━━━━━━━━━━━━━━━\u001b[0m\u001b[37m\u001b[0m \u001b[1m0s\u001b[0m 2ms/step - AUC: 0.9179 - loss: 0.3734 - val_AUC: 0.9199 - val_loss: 0.3839\n",
      "Epoch 5/20\n",
      "\u001b[1m219/219\u001b[0m \u001b[32m━━━━━━━━━━━━━━━━━━━━\u001b[0m\u001b[37m\u001b[0m \u001b[1m0s\u001b[0m 2ms/step - AUC: 0.9214 - loss: 0.3617 - val_AUC: 0.9194 - val_loss: 0.3674\n",
      "Epoch 6/20\n",
      "\u001b[1m219/219\u001b[0m \u001b[32m━━━━━━━━━━━━━━━━━━━━\u001b[0m\u001b[37m\u001b[0m \u001b[1m0s\u001b[0m 2ms/step - AUC: 0.9137 - loss: 0.3778 - val_AUC: 0.9199 - val_loss: 0.4241\n",
      "Epoch 7/20\n",
      "\u001b[1m219/219\u001b[0m \u001b[32m━━━━━━━━━━━━━━━━━━━━\u001b[0m\u001b[37m\u001b[0m \u001b[1m0s\u001b[0m 2ms/step - AUC: 0.9164 - loss: 0.3751 - val_AUC: 0.9199 - val_loss: 0.3975\n",
      "Epoch 8/20\n",
      "\u001b[1m219/219\u001b[0m \u001b[32m━━━━━━━━━━━━━━━━━━━━\u001b[0m\u001b[37m\u001b[0m \u001b[1m0s\u001b[0m 2ms/step - AUC: 0.9253 - loss: 0.3541 - val_AUC: 0.9200 - val_loss: 0.3663\n",
      "Epoch 9/20\n",
      "\u001b[1m219/219\u001b[0m \u001b[32m━━━━━━━━━━━━━━━━━━━━\u001b[0m\u001b[37m\u001b[0m \u001b[1m0s\u001b[0m 2ms/step - AUC: 0.9296 - loss: 0.3393 - val_AUC: 0.9194 - val_loss: 0.3697\n",
      "Epoch 10/20\n",
      "\u001b[1m219/219\u001b[0m \u001b[32m━━━━━━━━━━━━━━━━━━━━\u001b[0m\u001b[37m\u001b[0m \u001b[1m0s\u001b[0m 2ms/step - AUC: 0.9161 - loss: 0.3690 - val_AUC: 0.9202 - val_loss: 0.3801\n",
      "Epoch 11/20\n",
      "\u001b[1m219/219\u001b[0m \u001b[32m━━━━━━━━━━━━━━━━━━━━\u001b[0m\u001b[37m\u001b[0m \u001b[1m0s\u001b[0m 2ms/step - AUC: 0.9235 - loss: 0.3535 - val_AUC: 0.9198 - val_loss: 0.3671\n",
      "Epoch 12/20\n",
      "\u001b[1m219/219\u001b[0m \u001b[32m━━━━━━━━━━━━━━━━━━━━\u001b[0m\u001b[37m\u001b[0m \u001b[1m0s\u001b[0m 2ms/step - AUC: 0.9277 - loss: 0.3440 - val_AUC: 0.9182 - val_loss: 0.5153\n",
      "Epoch 13/20\n",
      "\u001b[1m219/219\u001b[0m \u001b[32m━━━━━━━━━━━━━━━━━━━━\u001b[0m\u001b[37m\u001b[0m \u001b[1m0s\u001b[0m 2ms/step - AUC: 0.9273 - loss: 0.3470 - val_AUC: 0.9194 - val_loss: 0.3656\n",
      "Epoch 14/20\n",
      "\u001b[1m219/219\u001b[0m \u001b[32m━━━━━━━━━━━━━━━━━━━━\u001b[0m\u001b[37m\u001b[0m \u001b[1m0s\u001b[0m 2ms/step - AUC: 0.9211 - loss: 0.3583 - val_AUC: 0.9185 - val_loss: 0.3663\n",
      "Epoch 15/20\n",
      "\u001b[1m219/219\u001b[0m \u001b[32m━━━━━━━━━━━━━━━━━━━━\u001b[0m\u001b[37m\u001b[0m \u001b[1m0s\u001b[0m 2ms/step - AUC: 0.9234 - loss: 0.3547 - val_AUC: 0.9183 - val_loss: 0.3684\n",
      "Epoch 16/20\n",
      "\u001b[1m219/219\u001b[0m \u001b[32m━━━━━━━━━━━━━━━━━━━━\u001b[0m\u001b[37m\u001b[0m \u001b[1m0s\u001b[0m 2ms/step - AUC: 0.9217 - loss: 0.3593 - val_AUC: 0.9194 - val_loss: 0.3640\n",
      "Epoch 17/20\n",
      "\u001b[1m219/219\u001b[0m \u001b[32m━━━━━━━━━━━━━━━━━━━━\u001b[0m\u001b[37m\u001b[0m \u001b[1m0s\u001b[0m 2ms/step - AUC: 0.9262 - loss: 0.3493 - val_AUC: 0.9206 - val_loss: 0.3659\n",
      "Epoch 18/20\n",
      "\u001b[1m219/219\u001b[0m \u001b[32m━━━━━━━━━━━━━━━━━━━━\u001b[0m\u001b[37m\u001b[0m \u001b[1m0s\u001b[0m 2ms/step - AUC: 0.9271 - loss: 0.3460 - val_AUC: 0.9202 - val_loss: 0.3621\n",
      "Epoch 19/20\n",
      "\u001b[1m219/219\u001b[0m \u001b[32m━━━━━━━━━━━━━━━━━━━━\u001b[0m\u001b[37m\u001b[0m \u001b[1m0s\u001b[0m 2ms/step - AUC: 0.9225 - loss: 0.3620 - val_AUC: 0.9191 - val_loss: 0.4648\n",
      "Epoch 20/20\n",
      "\u001b[1m219/219\u001b[0m \u001b[32m━━━━━━━━━━━━━━━━━━━━\u001b[0m\u001b[37m\u001b[0m \u001b[1m0s\u001b[0m 2ms/step - AUC: 0.9265 - loss: 0.3486 - val_AUC: 0.9190 - val_loss: 0.3831\n"
     ]
    }
   ],
   "source": [
    "history = model.fit(trainData, trainLabels, \n",
    "          epochs=20, \n",
    "          batch_size=32, \n",
    "          shuffle=True,   \n",
    "          verbose=1,\n",
    "          #validation_split=0.2)\n",
    "          validation_data=(testData, testLabels))"
   ]
  },
  {
   "cell_type": "code",
   "execution_count": 10,
   "metadata": {
    "tags": []
   },
   "outputs": [
    {
     "name": "stdout",
     "output_type": "stream",
     "text": [
      "dict_keys(['AUC', 'loss', 'val_AUC', 'val_loss'])\n"
     ]
    },
    {
     "data": {
      "image/png": "[encoded data removed]",
      "text/plain": [
       "<Figure size 640x480 with 1 Axes>"
      ]
     },
     "metadata": {},
     "output_type": "display_data"
    }
   ],
   "source": [
    "print(history.history.keys())\n",
    "\n",
    "plt.plot(history.history['AUC'])\n",
    "plt.plot(history.history['val_AUC'])\n",
    "plt.title('AUC Over Epochs')\n",
    "plt.ylabel('AUC')\n",
    "plt.xlabel('Epoch')\n",
    "plt.legend(['Train', 'Validation'], loc='upper left')\n",
    "plt.show()"
   ]
  },
  {
   "cell_type": "code",
   "execution_count": 11,
   "metadata": {},
   "outputs": [
    {
     "name": "stdout",
     "output_type": "stream",
     "text": [
      "\u001b[1m90/90\u001b[0m \u001b[32m━━━━━━━━━━━━━━━━━━━━\u001b[0m\u001b[37m\u001b[0m \u001b[1m0s\u001b[0m 1ms/step\n",
      "\u001b[1m90/90\u001b[0m \u001b[32m━━━━━━━━━━━━━━━━━━━━\u001b[0m\u001b[37m\u001b[0m \u001b[1m0s\u001b[0m 761us/step\n"
     ]
    }
   ],
   "source": [
    "predictions = (model.predict(testData) > 0.5).astype(\"int32\").flatten()\n",
    "predictionProbabilities = model.predict(testData).flatten()"
   ]
  },
  {
   "cell_type": "code",
   "execution_count": 12,
   "metadata": {},
   "outputs": [
    {
     "name": "stdout",
     "output_type": "stream",
     "text": [
      "Accuracy: 84.18\n",
      "PrecisionNegative: 81.43\n",
      "PrecisionPositive: 87.05\n",
      "RecallNegative: 86.76\n",
      "RecallPositive: 81.81\n",
      "AUC Score: 91.90\n",
      "\n"
     ]
    }
   ],
   "source": [
    "# Importing function that can be used to calculate different metrics such as accuracy, precision, recall.\n",
    "from sklearn.metrics import * \n",
    "\n",
    "def calculateMetricsAndPrint(predictions, predictionsProbabilities, actualLabels):\n",
    "    accuracy = accuracy_score(actualLabels, predictions) * 100\n",
    "    precisionNegative = precision_score(actualLabels, predictions, average = None)[0] * 100\n",
    "    precisionPositive = precision_score(actualLabels, predictions, average = None)[1] * 100\n",
    "    recallNegative = recall_score(actualLabels, predictions, average = None)[0] * 100\n",
    "    recallPositive = recall_score(actualLabels, predictions, average = None)[1] * 100\n",
    "    auc = roc_auc_score(actualLabels, predictionsProbabilities) * 100\n",
    "    \n",
    "    print(\"Accuracy: %.2f\\nPrecisionNegative: %.2f\\nPrecisionPositive: %.2f\\nRecallNegative: %.2f\\nRecallPositive: %.2f\\nAUC Score: %.2f\\n\" % \n",
    "          (accuracy, precisionNegative, precisionPositive, recallNegative, recallPositive, auc))\n",
    "    \n",
    "calculateMetricsAndPrint(predictions, predictionProbabilities, testLabels)"
   ]
  },
  {
   "cell_type": "code",
   "execution_count": 13,
   "metadata": {},
   "outputs": [
    {
     "name": "stdout",
     "output_type": "stream",
     "text": [
      "AUC Score = 91.904\n"
     ]
    },
    {
     "data": {
      "image/png": "[encoded data removed]",
      "text/plain": [
       "<Figure size 700x700 with 1 Axes>"
      ]
     },
     "metadata": {},
     "output_type": "display_data"
    }
   ],
   "source": [
    "def plot_roc_curve(fpr, tpr):\n",
    "    plt.plot(fpr, tpr, color='orange', label='ROC')\n",
    "    plt.plot([0, 1], [0, 1], color='darkblue', linestyle='--')\n",
    "    plt.xlabel('False Positive Rate')\n",
    "    plt.ylabel('True Positive Rate')\n",
    "    plt.title('Receiver Operating Characteristic (ROC) Curve')\n",
    "    plt.legend()\n",
    "    plt.show()\n",
    "    \n",
    "pos_probs = predictionProbabilities\n",
    "\n",
    "fpr, tpr, thresholds = roc_curve(testLabels, pos_probs, pos_label = 1)\n",
    "\n",
    "# calculate scores\n",
    "lr_auc = roc_auc_score(testLabels, pos_probs)\n",
    "print('AUC Score = %.3f' % (lr_auc * 100))\n",
    "plt.rcParams['figure.figsize'] = [7, 7]\n",
    "plot_roc_curve(fpr, tpr)"
   ]
  },
  {
   "cell_type": "markdown",
   "metadata": {},
   "source": [
    "## 3. Keras Tuner - Random Search"
   ]
  },
  {
   "cell_type": "code",
   "execution_count": 14,
   "metadata": {
    "scrolled": true
   },
   "outputs": [
    {
     "name": "stdout",
     "output_type": "stream",
     "text": [
      "Collecting keras-tuner\n",
      "  Using cached keras_tuner-1.4.7-py3-none-any.whl.metadata (5.4 kB)\n",
      "Requirement already satisfied: keras in /opt/conda/lib/python3.11/site-packages (from keras-tuner) (3.9.0)\n",
      "Requirement already satisfied: packaging in /opt/conda/lib/python3.11/site-packages (from keras-tuner) (24.1)\n",
      "Requirement already satisfied: requests in /opt/conda/lib/python3.11/site-packages (from keras-tuner) (2.32.3)\n",
      "Collecting kt-legacy (from keras-tuner)\n",
      "  Using cached kt_legacy-1.0.5-py3-none-any.whl.metadata (221 bytes)\n",
      "Requirement already satisfied: absl-py in /opt/conda/lib/python3.11/site-packages (from keras->keras-tuner) (2.1.0)\n",
      "Requirement already satisfied: numpy in /opt/conda/lib/python3.11/site-packages (from keras->keras-tuner) (2.1.2)\n",
      "Requirement already satisfied: rich in /opt/conda/lib/python3.11/site-packages (from keras->keras-tuner) (13.9.4)\n",
      "Requirement already satisfied: namex in /opt/conda/lib/python3.11/site-packages (from keras->keras-tuner) (0.0.8)\n",
      "Requirement already satisfied: h5py in /opt/conda/lib/python3.11/site-packages (from keras->keras-tuner) (3.11.0)\n",
      "Requirement already satisfied: optree in /opt/conda/lib/python3.11/site-packages (from keras->keras-tuner) (0.14.1)\n",
      "Requirement already satisfied: ml-dtypes in /opt/conda/lib/python3.11/site-packages (from keras->keras-tuner) (0.5.1)\n",
      "Requirement already satisfied: charset-normalizer<4,>=2 in /opt/conda/lib/python3.11/site-packages (from requests->keras-tuner) (3.3.2)\n",
      "Requirement already satisfied: idna<4,>=2.5 in /opt/conda/lib/python3.11/site-packages (from requests->keras-tuner) (3.7)\n",
      "Requirement already satisfied: urllib3<3,>=1.21.1 in /opt/conda/lib/python3.11/site-packages (from requests->keras-tuner) (2.2.2)\n",
      "Requirement already satisfied: certifi>=2017.4.17 in /opt/conda/lib/python3.11/site-packages (from requests->keras-tuner) (2025.1.31)\n",
      "Requirement already satisfied: typing-extensions>=4.5.0 in /opt/conda/lib/python3.11/site-packages (from optree->keras->keras-tuner) (4.12.2)\n",
      "Requirement already satisfied: markdown-it-py>=2.2.0 in /opt/conda/lib/python3.11/site-packages (from rich->keras->keras-tuner) (3.0.0)\n",
      "Requirement already satisfied: pygments<3.0.0,>=2.13.0 in /opt/conda/lib/python3.11/site-packages (from rich->keras->keras-tuner) (2.18.0)\n",
      "Requirement already satisfied: mdurl~=0.1 in /opt/conda/lib/python3.11/site-packages (from markdown-it-py>=2.2.0->rich->keras->keras-tuner) (0.1.2)\n",
      "Using cached keras_tuner-1.4.7-py3-none-any.whl (129 kB)\n",
      "Using cached kt_legacy-1.0.5-py3-none-any.whl (9.6 kB)\n",
      "Installing collected packages: kt-legacy, keras-tuner\n",
      "Successfully installed keras-tuner-1.4.7 kt-legacy-1.0.5\n",
      "Note: you may need to restart the kernel to use updated packages.\n"
     ]
    }
   ],
   "source": [
    "pip install keras-tuner"
   ]
  },
  {
   "cell_type": "code",
   "execution_count": 15,
   "metadata": {},
   "outputs": [],
   "source": [
    "import keras_tuner"
   ]
  },
  {
   "cell_type": "code",
   "execution_count": 16,
   "metadata": {
    "scrolled": true
   },
   "outputs": [
    {
     "name": "stdout",
     "output_type": "stream",
     "text": [
      "Reloading Tuner from ./untitled_project/tuner0.json\n"
     ]
    },
    {
     "name": "stderr",
     "output_type": "stream",
     "text": [
      "/opt/conda/lib/python3.11/site-packages/keras/src/layers/core/dense.py:87: UserWarning: Do not pass an `input_shape`/`input_dim` argument to a layer. When using Sequential models, prefer using an `Input(shape)` object as the first layer in the model instead.\n",
      "  super().__init__(activity_regularizer=activity_regularizer, **kwargs)\n",
      "/opt/conda/lib/python3.11/site-packages/keras/src/layers/activations/leaky_relu.py:41: UserWarning: Argument `alpha` is deprecated. Use `negative_slope` instead.\n",
      "  warnings.warn(\n",
      "/opt/conda/lib/python3.11/site-packages/keras/src/saving/saving_lib.py:757: UserWarning: Skipping variable loading for optimizer 'adamw', because it has 2 variables whereas the saved optimizer has 30 variables. \n",
      "  saveable.load_own_variables(weights_store.get(inner_path))\n"
     ]
    }
   ],
   "source": [
    "tf.keras.backend.clear_session()\n",
    "\n",
    "def build_model(hp):\n",
    "    model = keras.Sequential()\n",
    "    \n",
    "    units_layer1 = hp.Int('units_layer1', min_value=128, max_value=512, step=32)\n",
    "    model.add(keras.layers.Dense(units_layer1, input_dim=trainData.shape[1], activation='linear'))\n",
    "    model.add(keras.layers.LeakyReLU(alpha=hp.Float('leaky_alpha_layer1', 0.01, 0.9, step=0.005)))\n",
    "    model.add(keras.layers.Normalization())  \n",
    "    model.add(keras.layers.BatchNormalization())\n",
    "\n",
    "    units_layer2 = hp.Int('units_layer2', min_value=64, max_value=256, step=32)\n",
    "    model.add(keras.layers.Dense(units_layer2, activation='linear'))\n",
    "    model.add(keras.layers.LeakyReLU(alpha=hp.Float('leaky_alpha_layer2', 0.01, 0.9, step=0.005)))\n",
    "    model.add(keras.layers.Normalization())\n",
    "    model.add(keras.layers.BatchNormalization())\n",
    "\n",
    "    units_layer3 = hp.Int('units_layer3', min_value=16, max_value=64, step=16)\n",
    "    model.add(keras.layers.Dense(units_layer3, activation='linear'))\n",
    "    model.add(keras.layers.LeakyReLU(alpha=hp.Float('leaky_alpha_layer3', 0.01, 0.9, step=0.005)))\n",
    "    model.add(keras.layers.Normalization())\n",
    "    model.add(keras.layers.BatchNormalization())\n",
    "\n",
    "    \n",
    "    dropout_rate = hp.Float('dropout_rate', min_value=0.4, max_value=0.9, step=0.01)\n",
    "    model.add(keras.layers.Dropout(rate=dropout_rate, seed=1))\n",
    "    \n",
    "    model.add(keras.layers.Dense(1, activation='sigmoid'))\n",
    "    \n",
    "    model.compile(\n",
    "        loss='binary_crossentropy',  \n",
    "        optimizer='adamw',           \n",
    "        metrics=[keras.metrics.AUC(name='auc')]\n",
    "    )\n",
    "\n",
    "    return model\n",
    "\n",
    "early_stop = tf.keras.callbacks.EarlyStopping(\n",
    "    monitor='val_auc',\n",
    "    mode='max',\n",
    "    patience=15,\n",
    "    restore_best_weights=True\n",
    ")\n",
    "reduce_lr = tf.keras.callbacks.ReduceLROnPlateau(\n",
    "    monitor='val_auc',\n",
    "    mode='max',\n",
    "    factor=0.1,\n",
    "    patience=5,\n",
    "    verbose=1\n",
    ")\n",
    "\n",
    "tuner = keras_tuner.RandomSearch(\n",
    "    build_model,\n",
    "    objective='val_auc', \n",
    "    max_trials=100\n",
    ")\n",
    "\n",
    "tuner.search(trainData, trainLabels, epochs=60, validation_data=(testData, testLabels),\n",
    "             callbacks=[early_stop, reduce_lr])\n",
    "\n",
    "model = tuner.get_best_models()[0]"
   ]
  },
  {
   "cell_type": "markdown",
   "metadata": {},
   "source": [
    "Docs for model fitting: https://keras.io/api/models/model_training_apis/"
   ]
  },
  {
   "cell_type": "markdown",
   "metadata": {},
   "source": [
    "Docs for the predict method: https://keras.io/api/models/model_training_apis/"
   ]
  },
  {
   "cell_type": "code",
   "execution_count": 17,
   "metadata": {},
   "outputs": [
    {
     "name": "stdout",
     "output_type": "stream",
     "text": [
      "\u001b[1m90/90\u001b[0m \u001b[32m━━━━━━━━━━━━━━━━━━━━\u001b[0m\u001b[37m\u001b[0m \u001b[1m0s\u001b[0m 2ms/step\n",
      "\u001b[1m90/90\u001b[0m \u001b[32m━━━━━━━━━━━━━━━━━━━━\u001b[0m\u001b[37m\u001b[0m \u001b[1m0s\u001b[0m 778us/step\n"
     ]
    }
   ],
   "source": [
    "predictions = (model.predict(testData) > 0.5).astype(\"int32\").flatten()\n",
    "predictionProbabilities = model.predict(testData).flatten()"
   ]
  },
  {
   "cell_type": "code",
   "execution_count": 18,
   "metadata": {},
   "outputs": [
    {
     "name": "stdout",
     "output_type": "stream",
     "text": [
      "Accuracy: 83.87\n",
      "PrecisionNegative: 87.94\n",
      "PrecisionPositive: 80.94\n",
      "RecallNegative: 76.87\n",
      "RecallPositive: 90.30\n",
      "AUC Score: 92.45\n",
      "\n"
     ]
    }
   ],
   "source": [
    "# Importing function that can be used to calculate different metrics such as accuracy, precision, recall.\n",
    "from sklearn.metrics import * \n",
    "\n",
    "def calculateMetricsAndPrint(predictions, predictionsProbabilities, actualLabels):\n",
    "    accuracy = accuracy_score(actualLabels, predictions) * 100\n",
    "    precisionNegative = precision_score(actualLabels, predictions, average = None)[0] * 100\n",
    "    precisionPositive = precision_score(actualLabels, predictions, average = None)[1] * 100\n",
    "    recallNegative = recall_score(actualLabels, predictions, average = None)[0] * 100\n",
    "    recallPositive = recall_score(actualLabels, predictions, average = None)[1] * 100\n",
    "    auc = roc_auc_score(actualLabels, predictionsProbabilities) * 100\n",
    "    \n",
    "    print(\"Accuracy: %.2f\\nPrecisionNegative: %.2f\\nPrecisionPositive: %.2f\\nRecallNegative: %.2f\\nRecallPositive: %.2f\\nAUC Score: %.2f\\n\" % \n",
    "          (accuracy, precisionNegative, precisionPositive, recallNegative, recallPositive, auc))\n",
    "    \n",
    "calculateMetricsAndPrint(predictions, predictionProbabilities, testLabels)"
   ]
  },
  {
   "cell_type": "code",
   "execution_count": 19,
   "metadata": {},
   "outputs": [
    {
     "name": "stdout",
     "output_type": "stream",
     "text": [
      "AUC Score = 92.447\n"
     ]
    },
    {
     "data": {
      "image/png": "[encoded data removed]",
      "text/plain": [
       "<Figure size 700x700 with 1 Axes>"
      ]
     },
     "metadata": {},
     "output_type": "display_data"
    }
   ],
   "source": [
    "def plot_roc_curve(fpr, tpr):\n",
    "    plt.plot(fpr, tpr, color='orange', label='ROC')\n",
    "    plt.plot([0, 1], [0, 1], color='darkblue', linestyle='--')\n",
    "    plt.xlabel('False Positive Rate')\n",
    "    plt.ylabel('True Positive Rate')\n",
    "    plt.title('Receiver Operating Characteristic (ROC) Curve')\n",
    "    plt.legend()\n",
    "    plt.show()\n",
    "    \n",
    "pos_probs = predictionProbabilities\n",
    "\n",
    "fpr, tpr, thresholds = roc_curve(testLabels, pos_probs, pos_label = 1)\n",
    "\n",
    "# calculate scores\n",
    "lr_auc = roc_auc_score(testLabels, pos_probs)\n",
    "print('AUC Score = %.3f' % (lr_auc * 100))\n",
    "plt.rcParams['figure.figsize'] = [7, 7]\n",
    "plot_roc_curve(fpr, tpr)"
   ]
  },
  {
   "cell_type": "markdown",
   "metadata": {},
   "source": [
    "## 4. Apply to Kaggle and Submit:\n"
   ]
  },
  {
   "cell_type": "code",
   "execution_count": 20,
   "metadata": {},
   "outputs": [
    {
     "name": "stdout",
     "output_type": "stream",
     "text": [
      "\u001b[1m94/94\u001b[0m \u001b[32m━━━━━━━━━━━━━━━━━━━━\u001b[0m\u001b[37m\u001b[0m \u001b[1m0s\u001b[0m 787us/step\n"
     ]
    }
   ],
   "source": [
    "kaggleInput = pd.read_csv(\"data/hilton_2023_kaggle.csv\")\n",
    "scalar = MinMaxScaler()\n",
    "scalar.fit(kaggleInput)\n",
    "kaggleTest = scalar.transform(kaggleInput)\n",
    "kaggleInput['score'] = model.predict(kaggleTest).flatten()\n",
    "kaggleInput['id'] = kaggleInput.index"
   ]
  },
  {
   "cell_type": "code",
   "execution_count": 21,
   "metadata": {},
   "outputs": [],
   "source": [
    "kaggleInput[['id','score']].to_csv(\"data/Kaggle_Submission_M4.csv\", index = False)"
   ]
  },
  {
   "cell_type": "markdown",
   "metadata": {},
   "source": [
    "## 5. Experiment"
   ]
  },
  {
   "cell_type": "code",
   "execution_count": 22,
   "metadata": {
    "scrolled": true
   },
   "outputs": [
    {
     "name": "stdout",
     "output_type": "stream",
     "text": [
      "Reloading Tuner from ./untitled_project/tuner0.json\n"
     ]
    },
    {
     "name": "stderr",
     "output_type": "stream",
     "text": [
      "/opt/conda/lib/python3.11/site-packages/keras/src/layers/core/dense.py:87: UserWarning: Do not pass an `input_shape`/`input_dim` argument to a layer. When using Sequential models, prefer using an `Input(shape)` object as the first layer in the model instead.\n",
      "  super().__init__(activity_regularizer=activity_regularizer, **kwargs)\n",
      "/opt/conda/lib/python3.11/site-packages/keras/src/layers/activations/leaky_relu.py:41: UserWarning: Argument `alpha` is deprecated. Use `negative_slope` instead.\n",
      "  warnings.warn(\n",
      "/opt/conda/lib/python3.11/site-packages/keras/src/saving/saving_lib.py:757: UserWarning: Skipping variable loading for optimizer 'adamw', because it has 2 variables whereas the saved optimizer has 30 variables. \n",
      "  saveable.load_own_variables(weights_store.get(inner_path))\n"
     ]
    }
   ],
   "source": [
    "import tensorflow as tf\n",
    "from tensorflow import keras\n",
    "import keras_tuner\n",
    "\n",
    "tf.keras.backend.clear_session()\n",
    "\n",
    "def build_model(hp):\n",
    "    model = keras.Sequential()\n",
    "    \n",
    "    units_layer1 = hp.Choice('units_layer1', [16, 32, 48, 64])\n",
    "    model.add(keras.layers.Dense(units_layer1, input_dim=trainData.shape[1], activation='linear'))\n",
    "    model.add(keras.layers.LeakyReLU(alpha=hp.Float('leaky_alpha_layer1', 0.01, 0.9, step=0.005)))\n",
    "    model.add(keras.layers.Normalization())  \n",
    "    model.add(keras.layers.BatchNormalization())\n",
    "    \n",
    "    units_layer2 = hp.Choice('units_layer2', [64, 96, 128, 160, 192, 224, 256])\n",
    "    model.add(keras.layers.Dense(units_layer2, activation='linear'))\n",
    "    model.add(keras.layers.LeakyReLU(alpha=hp.Float('leaky_alpha_layer2', 0.01, 0.9, step=0.005)))\n",
    "    model.add(keras.layers.Normalization())\n",
    "    model.add(keras.layers.BatchNormalization())\n",
    "    \n",
    "    units_layer3 = hp.Choice('units_layer3', [128, 160, 192, 224, 256, 288, 320, 352, 384, 416, 448, 480, 512])\n",
    "    model.add(keras.layers.Dense(units_layer3, activation='linear'))\n",
    "    model.add(keras.layers.LeakyReLU(alpha=hp.Float('leaky_alpha_layer3', 0.01, 0.9, step=0.005)))\n",
    "    model.add(keras.layers.Normalization())\n",
    "    model.add(keras.layers.BatchNormalization())\n",
    "    \n",
    "    dropout_rate = hp.Float('dropout_rate', min_value=0.4, max_value=0.9, step=0.05)\n",
    "    model.add(keras.layers.Dropout(rate=dropout_rate, seed=1))\n",
    "    \n",
    "    model.add(keras.layers.Dense(1, activation='sigmoid'))\n",
    "    \n",
    "    model.compile(\n",
    "        loss='binary_crossentropy',  \n",
    "        optimizer='adamw',           \n",
    "        metrics=[keras.metrics.AUC(name='auc')]\n",
    "    )\n",
    "\n",
    "    return model\n",
    "\n",
    "early_stop = tf.keras.callbacks.EarlyStopping(\n",
    "    monitor='val_auc',\n",
    "    mode='max',\n",
    "    patience=11,\n",
    "    restore_best_weights=True\n",
    ")\n",
    "reduce_lr = tf.keras.callbacks.ReduceLROnPlateau(\n",
    "    monitor='val_auc',\n",
    "    mode='max',\n",
    "    factor=0.1,\n",
    "    patience=5,\n",
    "    verbose=1\n",
    ")\n",
    "\n",
    "# Define a custom tuner that includes batch_size as a hyperparameter.\n",
    "class MyTuner(keras_tuner.RandomSearch):\n",
    "    def run_trial(self, trial, *args, **kwargs):\n",
    "        hp = trial.hyperparameters\n",
    "        # Define a batch_size hyperparameter\n",
    "        batch_size = hp.Choice(\"batch_size\", values=[16, 32, 48, 64])\n",
    "        kwargs[\"batch_size\"] = batch_size\n",
    "        return super().run_trial(trial, *args, **kwargs)\n",
    "\n",
    "tuner = MyTuner(\n",
    "    build_model,\n",
    "    objective='val_auc', \n",
    "    max_trials=100\n",
    ")\n",
    "\n",
    "tuner.search(\n",
    "    trainData, trainLabels,\n",
    "    epochs=60,\n",
    "    validation_data=(testData, testLabels),\n",
    "    callbacks=[early_stop, reduce_lr]\n",
    ")\n",
    "\n",
    "model = tuner.get_best_models()[0]\n"
   ]
  },
  {
   "cell_type": "code",
   "execution_count": 23,
   "metadata": {},
   "outputs": [
    {
     "name": "stdout",
     "output_type": "stream",
     "text": [
      "Reloading Tuner from my_dir/extended_hyperparam_sech/tuner0.json\n"
     ]
    }
   ],
   "source": [
    "tf.keras.backend.clear_session()\n",
    "\n",
    "def build_model(hp):\n",
    "    model = keras.Sequential()\n",
    "    \n",
    "    # ----- First Dense Block -----\n",
    "    units_layer1 = hp.Choice('units_layer1', [16, 32, 48, 64])\n",
    "    init_layer1 = hp.Choice('kernel_initializer_layer1', ['glorot_uniform', 'he_normal', 'he_uniform'])\n",
    "    l2_layer1 = hp.Float('l2_reg_layer1', min_value=1e-6, max_value=1e-3, sampling='LOG', default=1e-4)\n",
    "    model.add(keras.layers.Dense(units_layer1, \n",
    "                                 input_dim=trainData.shape[1], \n",
    "                                 activation='linear',\n",
    "                                 kernel_initializer=init_layer1,\n",
    "                                 kernel_regularizer=keras.regularizers.l2(l2_layer1)))\n",
    "    model.add(keras.layers.LeakyReLU(alpha=hp.Float('leaky_alpha_layer1', 0.01, 0.9, step=0.005)))\n",
    "    model.add(keras.layers.Normalization())  \n",
    "    model.add(keras.layers.BatchNormalization())\n",
    "    dropout_rate1 = hp.Float('dropout_rate1', min_value=0.2, max_value=0.5, step=0.05)\n",
    "    model.add(keras.layers.Dropout(rate=dropout_rate1, seed=1))\n",
    "    \n",
    "    # ----- Second Dense Block -----\n",
    "    units_layer2 = hp.Choice('units_layer2', [64, 96, 128, 160, 192, 224, 256])\n",
    "    init_layer2 = hp.Choice('kernel_initializer_layer2', ['glorot_uniform', 'he_normal', 'he_uniform'])\n",
    "    l2_layer2 = hp.Float('l2_reg_layer2', min_value=1e-6, max_value=1e-3, sampling='LOG', default=1e-4)\n",
    "    model.add(keras.layers.Dense(units_layer2, \n",
    "                                 activation='linear',\n",
    "                                 kernel_initializer=init_layer2,\n",
    "                                 kernel_regularizer=keras.regularizers.l2(l2_layer2)))\n",
    "    model.add(keras.layers.LeakyReLU(alpha=hp.Float('leaky_alpha_layer2', 0.01, 0.9, step=0.005)))\n",
    "    model.add(keras.layers.Normalization())\n",
    "    model.add(keras.layers.BatchNormalization())\n",
    "    dropout_rate2 = hp.Float('dropout_rate2', min_value=0.2, max_value=0.5, step=0.05)\n",
    "    model.add(keras.layers.Dropout(rate=dropout_rate2, seed=2))\n",
    "    \n",
    "    # ----- Third Dense Block -----\n",
    "    units_layer3 = hp.Choice('units_layer3', [128, 160, 192, 224, 256, 288, 320, 352, 384, 416, 448, 480, 512])\n",
    "    init_layer3 = hp.Choice('kernel_initializer_layer3', ['glorot_uniform', 'he_normal', 'he_uniform'])\n",
    "    l2_layer3 = hp.Float('l2_reg_layer3', min_value=1e-6, max_value=1e-3, sampling='LOG', default=1e-4)\n",
    "    model.add(keras.layers.Dense(units_layer3, \n",
    "                                 activation='linear',\n",
    "                                 kernel_initializer=init_layer3,\n",
    "                                 kernel_regularizer=keras.regularizers.l2(l2_layer3)))\n",
    "    model.add(keras.layers.LeakyReLU(alpha=hp.Float('leaky_alpha_layer3', 0.01, 0.9, step=0.005)))\n",
    "    model.add(keras.layers.Normalization())\n",
    "    model.add(keras.layers.BatchNormalization())\n",
    "    dropout_rate3 = hp.Float('dropout_rate3', min_value=0.2, max_value=0.5, step=0.05)\n",
    "    model.add(keras.layers.Dropout(rate=dropout_rate3, seed=3))\n",
    "    \n",
    "    # ----- Output Layer -----\n",
    "    model.add(keras.layers.Dense(1, activation='sigmoid'))\n",
    "    \n",
    "    # ----- Optimizer: AdamW with tunable learning rate and weight decay -----\n",
    "    learning_rate = hp.Float('learning_rate', min_value=1e-5, max_value=1e-2, sampling='LOG', default=1e-3)\n",
    "    weight_decay = hp.Float('weight_decay', min_value=1e-6, max_value=1e-2, sampling='LOG', default=1e-4)\n",
    "    optimizer = keras.optimizers.AdamW(learning_rate=learning_rate, weight_decay=weight_decay)\n",
    "    \n",
    "    model.compile(\n",
    "        loss='binary_crossentropy',  \n",
    "        optimizer=optimizer,           \n",
    "        metrics=[keras.metrics.AUC(name='auc')]\n",
    "    )\n",
    "\n",
    "    return model\n",
    "\n",
    "early_stop = tf.keras.callbacks.EarlyStopping(\n",
    "    monitor='val_auc',\n",
    "    mode='max',\n",
    "    patience=11,\n",
    "    restore_best_weights=True\n",
    ")\n",
    "reduce_lr = tf.keras.callbacks.ReduceLROnPlateau(\n",
    "    monitor='val_auc',\n",
    "    mode='max',\n",
    "    factor=0.1,\n",
    "    patience=5,\n",
    "    verbose=1\n",
    ")\n",
    "\n",
    "# Subclass Hyperband to include batch size as a tunable hyperparameter.\n",
    "class MyHyperband(keras_tuner.Hyperband):\n",
    "    def run_trial(self, trial, *args, **kwargs):\n",
    "        hp = trial.hyperparameters\n",
    "        batch_size = hp.Choice(\"batch_size\", values=[16, 32, 48, 64])\n",
    "        kwargs[\"batch_size\"] = batch_size\n",
    "        return super().run_trial(trial, *args, **kwargs)\n",
    "\n",
    "# Instantiate the Hyperband tuner with the custom subclass.\n",
    "tuner = MyHyperband(\n",
    "    build_model,\n",
    "    objective='val_auc', \n",
    "    max_epochs=60,\n",
    "    factor=20,\n",
    "    directory='my_dir',\n",
    "    project_name='extended_hyperparam_sech'\n",
    ")\n",
    "\n",
    "tuner.search(\n",
    "    trainData, trainLabels,\n",
    "    validation_data=(testData, testLabels),\n",
    "    callbacks=[early_stop, reduce_lr]\n",
    ")\n",
    "\n",
    "model = tuner.get_best_models()[0]"
   ]
  },
  {
   "cell_type": "code",
   "execution_count": null,
   "metadata": {},
   "outputs": [],
   "source": [
    "pip install Torch"
   ]
  },
  {
   "cell_type": "code",
   "execution_count": null,
   "metadata": {},
   "outputs": [],
   "source": [
    "pip install optuna"
   ]
  },
  {
   "cell_type": "code",
   "execution_count": null,
   "metadata": {
    "scrolled": true
   },
   "outputs": [],
   "source": [
    "import torch\n",
    "import torch.nn as nn\n",
    "import torch.optim as optim\n",
    "from torch.utils.data import TensorDataset, DataLoader, random_split\n",
    "import optuna\n",
    "\n",
    "if isinstance(trainData, np.ndarray):\n",
    "    trainData = torch.tensor(trainData, dtype=torch.float32)\n",
    "if isinstance(trainLabels, np.ndarray):\n",
    "    trainLabels = torch.tensor(trainLabels, dtype=torch.float32)\n",
    "\n",
    "device = torch.device(\"cuda\" if torch.cuda.is_available() else \"cpu\")\n",
    "\n",
    "\n",
    "class CustomNormalization(nn.Module):\n",
    "    def __init__(self, mean, std):\n",
    "        super(CustomNormalization, self).__init__()\n",
    "        self.register_buffer('mean', mean)\n",
    "        self.register_buffer('std', std)\n",
    "        \n",
    "    def forward(self, x):\n",
    "        return (x - self.mean) / (self.std + 1e-7)\n",
    "\n",
    "class MyModel(nn.Module):\n",
    "    def __init__(self, input_dim, hidden_dim1, hidden_dim2, dropout_rate, use_custom_norm=False, norm_mean=None, norm_std=None):\n",
    "        super(MyModel, self).__init__()\n",
    "        self.use_custom_norm = use_custom_norm\n",
    "\n",
    "        self.fc1 = nn.Linear(input_dim, hidden_dim1)\n",
    "        self.relu1 = nn.ReLU()\n",
    "        if use_custom_norm:\n",
    "            self.norm1 = CustomNormalization(norm_mean, norm_std)\n",
    "        self.bn1 = nn.BatchNorm1d(hidden_dim1)\n",
    "        \n",
    "        self.fc2 = nn.Linear(hidden_dim1, hidden_dim2)\n",
    "        self.relu2 = nn.ReLU()\n",
    "        if use_custom_norm:\n",
    "            self.norm2 = CustomNormalization(norm_mean[:hidden_dim2], norm_std[:hidden_dim2])\n",
    "        self.bn2 = nn.BatchNorm1d(hidden_dim2)\n",
    "        \n",
    "        self.dropout = nn.Dropout(dropout_rate)\n",
    "        self.fc3 = nn.Linear(hidden_dim2, 1)\n",
    "        self.sigmoid = nn.Sigmoid()\n",
    "        \n",
    "    def forward(self, x):\n",
    "        x = self.fc1(x)\n",
    "        x = self.relu1(x)\n",
    "        if self.use_custom_norm:\n",
    "            x = self.norm1(x)\n",
    "        x = self.bn1(x)\n",
    "        \n",
    "        x = self.fc2(x)\n",
    "        x = self.relu2(x)\n",
    "        if self.use_custom_norm:\n",
    "            x = self.norm2(x)\n",
    "        x = self.bn2(x)\n",
    "        \n",
    "        x = self.dropout(x)\n",
    "        x = self.fc3(x)\n",
    "        x = self.sigmoid(x)\n",
    "        return x\n",
    "\n",
    "dataset = TensorDataset(trainData, trainLabels)\n",
    "batch_size = 32\n",
    "\n",
    "def objective(trial):\n",
    "    lr = trial.suggest_float(\"lr\", 1e-5, 1e-2, log=True)\n",
    "    weight_decay = trial.suggest_float(\"weight_decay\", 1e-7, 1e-2, log=True)\n",
    "    dropout_rate = trial.suggest_float(\"dropout_rate\", 0.2, 0.8)\n",
    "    hidden_dim1 = trial.suggest_int(\"hidden_dim1\", 32, 256)\n",
    "    hidden_dim2 = trial.suggest_int(\"hidden_dim2\", 16, 128)\n",
    "    \n",
    "    input_dim = trainData.shape[1]\n",
    "    model = MyModel(input_dim, hidden_dim1, hidden_dim2, dropout_rate, use_custom_norm=False)\n",
    "    model.to(device)\n",
    "    \n",
    "    optimizer = optim.AdamW(model.parameters(), lr=lr, weight_decay=weight_decay)\n",
    "    criterion = nn.BCELoss()\n",
    "    \n",
    "    train_size = int(0.8 * len(dataset))\n",
    "    val_size = len(dataset) - train_size\n",
    "    train_dataset, val_dataset = random_split(dataset, [train_size, val_size])\n",
    "    train_loader = DataLoader(train_dataset, batch_size=batch_size, shuffle=True)\n",
    "    val_loader = DataLoader(val_dataset, batch_size=batch_size, shuffle=False)\n",
    "    \n",
    "    num_epochs = 10  \n",
    "    for epoch in range(num_epochs):\n",
    "        model.train()\n",
    "        for batch_data, batch_labels in train_loader:\n",
    "            batch_data = batch_data.to(device)\n",
    "            batch_labels = batch_labels.to(device)\n",
    "            \n",
    "            optimizer.zero_grad()\n",
    "            outputs = model(batch_data)\n",
    "            loss = criterion(outputs, batch_labels.unsqueeze(1).float())\n",
    "            loss.backward()\n",
    "            optimizer.step()\n",
    "    \n",
    "    model.eval()\n",
    "    all_preds = []\n",
    "    all_labels = []\n",
    "    with torch.no_grad():\n",
    "        for batch_data, batch_labels in val_loader:\n",
    "            batch_data = batch_data.to(device)\n",
    "            outputs = model(batch_data)\n",
    "            all_preds.extend(outputs.cpu().numpy().flatten().tolist())\n",
    "            all_labels.extend(batch_labels.numpy().tolist())\n",
    "    \n",
    "    auc = roc_auc_score(all_labels, all_preds)\n",
    "    return auc\n",
    "\n",
    "study = optuna.create_study(direction=\"maximize\")\n",
    "study.optimize(objective, n_trials=150)\n",
    "\n",
    "print(\"Best trial:\")\n",
    "trial = study.best_trial\n",
    "print(\"  Value: \", trial.value)\n",
    "print(\"  Params: \")\n",
    "for key, value in trial.params.items():\n",
    "    print(f\"    {key}: {value}\")\n",
    "\n",
    "best_params = trial.params\n",
    "input_dim = trainData.shape[1]\n",
    "final_model = MyModel(input_dim, \n",
    "                      hidden_dim1=best_params[\"hidden_dim1\"], \n",
    "                      hidden_dim2=best_params[\"hidden_dim2\"], \n",
    "                      dropout_rate=best_params[\"dropout_rate\"],\n",
    "                      use_custom_norm=False)\n",
    "final_model.to(device)\n",
    "\n",
    "optimizer = optim.AdamW(final_model.parameters(), lr=best_params[\"lr\"], weight_decay=best_params[\"weight_decay\"])\n",
    "criterion = nn.BCELoss()\n",
    "scheduler = optim.lr_scheduler.ReduceLROnPlateau(optimizer, mode='min', factor=0.1, patience=5, verbose=True)\n",
    "\n",
    "train_loader = DataLoader(dataset, batch_size=batch_size, shuffle=True, num_workers=4)\n",
    "num_epochs = 20\n",
    "for epoch in range(num_epochs):\n",
    "    final_model.train()\n",
    "    train_loss = 0.0\n",
    "    for batch_data, batch_labels in train_loader:\n",
    "        batch_data = batch_data.to(device)\n",
    "        batch_labels = batch_labels.to(device)\n",
    "        \n",
    "        optimizer.zero_grad()\n",
    "        outputs = final_model(batch_data)\n",
    "        loss = criterion(outputs, batch_labels.unsqueeze(1).float())\n",
    "        loss.backward()\n",
    "        optimizer.step()\n",
    "        \n",
    "        train_loss += loss.item() * batch_data.size(0)\n",
    "    train_loss /= len(train_loader.dataset)\n",
    "    scheduler.step(train_loss)\n",
    "    print(f\"Epoch [{epoch+1}/{num_epochs}] - Loss: {train_loss:.4f}\")\n"
   ]
  }
 ],
 "metadata": {
  "kernelspec": {
   "display_name": "Python 3 (ipykernel)",
   "language": "python",
   "name": "python3"
  },
  "language_info": {
   "codemirror_mode": {
    "name": "ipython",
    "version": 3
   },
   "file_extension": ".py",
   "mimetype": "text/x-python",
   "name": "python",
   "nbconvert_exporter": "python",
   "pygments_lexer": "ipython3",
   "version": "3.11.9"
  }
 },
 "nbformat": 4,
 "nbformat_minor": 4
}
