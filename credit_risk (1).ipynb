{
 "cells": [
  {
   "cell_type": "markdown",
   "id": "79c02b24-00de-4feb-950b-59c8363eb20f",
   "metadata": {},
   "source": [
    "# Credit Risk Prediction"
   ]
  },
  {
   "cell_type": "markdown",
   "id": "e1e41e8f-4838-467f-8e59-5aa5ef9726c6",
   "metadata": {},
   "source": [
    "In this notebook, we aim to predict **loan status** (approved, rejected, or default) using machine learning models. Our process will involve:\n",
    "\n",
    "1. **Data Manipulation**: Cleaning the data by handling missing values, encoding categorical features, and addressing outliers.\n",
    "2. **Feature Engineering**: Creating new features like **loan-to-income ratio** and **debt-to-income ratio** to better capture loan risk factors.\n",
    "3. **Preprocessing**: Scaling numerical features and preparing the data for modeling.\n",
    "4. **Model Training**: Evaluating classifiers like **Logistic Regression**, **Random Forest**, **XGBoost**, and **LightGBM** with hyperparameter tuning to optimize performance.\n",
    "\n",
    "By applying these techniques, we’ll build a model to predict loan outcomes with high accuracy, helping improve decision-making in financial systems."
   ]
  },
  {
   "cell_type": "markdown",
   "id": "9f895a5e-12c7-4cfe-9c09-390a2fe040b0",
   "metadata": {},
   "source": [
    "## 1. Notebook Styling and Package Management"
   ]
  },
  {
   "cell_type": "code",
   "execution_count": null,
   "id": "d22cdac4-47fc-4c95-bcf4-d4c491519af5",
   "metadata": {},
   "outputs": [],
   "source": [
    "# --- Warning Suppression ---\n",
    "import warnings\n",
    "warnings.filterwarnings(\"ignore\")  # Suppresses warnings to keep the output clean\n",
    "# --- Data Manipulation Libraries ---\n",
    "import pandas as pd  # Pandas for handling and analyzing structured data (e.g., CSV, DataFrame)\n",
    "import numpy as np   # NumPy for numerical computations, arrays, and mathematical operations\n",
    "from sklearn.metrics import *\n",
    "from custom_functions import plot_conf_mat, plot_roc_curve, plot_feature_importance, calculateMetricsAndPrint\n",
    "# --- Data Visualization Libraries ---\n",
    "import matplotlib as mpl  # Core Matplotlib library for setting global styles and parameters\n",
    "import matplotlib.pyplot as plt  # Primary module for plotting static visualizations\n",
    "import seaborn as sns  # Seaborn for statistical data visualization with built-in themes\n",
    "import plotly.express as px  # Plotly Express for high-level interactive visualizations\n",
    "import plotly.figure_factory as ff  # Figure Factory for creating complex Plotly visualizations\n",
    "import plotly.graph_objects as go  # Graph Objects for detailed control over interactive plots\n",
    "\n",
    "# --- Styling and Configuration ---\n",
    "sns.set_style('darkgrid')  # Sets Seaborn's default style to 'darkgrid' for improved readability\n",
    "mpl.rcParams['font.size'] = 14  # Sets default font size for all Matplotlib plots\n",
    "mpl.rcParams['figure.facecolor'] = '#00000000'  # Makes the background of figures transparent"
   ]
  },
  {
   "cell_type": "markdown",
   "id": "45613f0c-8e2a-479a-8c26-b66f9e2880a4",
   "metadata": {},
   "source": [
    "## 2. Load Data"
   ]
  },
  {
   "cell_type": "code",
   "execution_count": null,
   "id": "37657342-ca13-4be2-ad86-5b1a53c5df31",
   "metadata": {},
   "outputs": [],
   "source": [
    "#Read in data with Pandas function\n",
    "data=pd.read_csv(\"credit_risk_dataset.csv\")"
   ]
  },
  {
   "cell_type": "markdown",
   "id": "33aa844b-3f07-4c93-ad30-54ee761e4584",
   "metadata": {},
   "source": [
    "# Feature Descriptions\n",
    "\n",
    "- **person_age**: Age of the individual applying for the loan.\n",
    "- **person_income**: Annual income of the individual.\n",
    "- **person_home_ownership**: Type of home ownership of the individual.\n",
    "  - **rent**: The individual is currently renting a property.\n",
    "  - **mortgage**: The individual has a mortgage on the property they own.\n",
    "  - **own**: The individual owns their home outright.\n",
    "  - **other**: Other categories of home ownership that may be specific to the dataset.\n",
    "- **person_emp_length**: Employment length of the individual in years.\n",
    "- **loan_intent**: The intent behind the loan application.\n",
    "- **loan_grade**: The grade assigned to the loan based on the creditworthiness of the borrower.\n",
    "  - **A**: The borrower has a high creditworthiness, indicating low risk.\n",
    "  - **B**: The borrower is relatively low-risk, but not as creditworthy as Grade A.\n",
    "  - **C**: The borrower's creditworthiness is moderate.\n",
    "  - **D**: The borrower is considered to have higher risk compared to previous grades.\n",
    "  - **E**: The borrower's creditworthiness is lower, indicating a higher risk.\n",
    "  - **F**: The borrower poses a significant credit risk.\n",
    "  - **G**: The borrower's creditworthiness is the lowest, signifying the highest risk.\n",
    "- **loan_amnt**: The loan amount requested by the individual.\n",
    "- **loan_int_rate**: The interest rate associated with the loan.\n",
    "- **loan_status**: Loan status, where 0 indicates non-default and 1 indicates default.\n",
    "  - **0**: Non-default - The borrower successfully repaid the loan as agreed, and there was no default.\n",
    "  - **1**: Default - The borrower failed to repay the loan according to the agreed-upon terms and defaulted on the loan.\n",
    "- **loan_percent_income**: The percentage of income represented by the loan amount.\n",
    "- **cb_person_default_on_file**: Historical default of the individual as per credit bureau records.\n",
    "  - **Y**: The individual has a history of defaults on their credit file.\n",
    "  - **N**: The individual does not have any history of defaults.\n",
    "- **cb_preson_cred_hist_length**: The length of credit history for the individual.\n"
   ]
  },
  {
   "cell_type": "markdown",
   "id": "2211b232-64e2-4dc7-98a6-3471181fa32b",
   "metadata": {},
   "source": [
    "## 3. Explore Data"
   ]
  },
  {
   "cell_type": "markdown",
   "id": "8f79d98a-3781-49f4-8843-da1ca13d9488",
   "metadata": {},
   "source": [
    "### Summarize Data"
   ]
  },
  {
   "cell_type": "markdown",
   "id": "e21494a8-370b-4d56-ae52-b2d49c7b7ef5",
   "metadata": {},
   "source": [
    "The `summarize_dataframe` function provides an overview of a given Pandas DataFrame, including each column's data type, number of missing values, and unique values. It combines this information with the statistical summary (`df.describe()`) of both numerical and categorical columns, returning a neatly formatted DataFrame for quick data exploration."
   ]
  },
  {
   "cell_type": "code",
   "execution_count": null,
   "id": "69dce5d4-a90b-4109-9f52-bb108eee0986",
   "metadata": {},
   "outputs": [],
   "source": [
    "def summarize_dataframe(df):\n",
    "    missing_values = pd.concat([pd.DataFrame(df.columns, columns=['Variable Name']), \n",
    "                      pd.DataFrame(df.dtypes.values.reshape([-1,1]), columns=['Data Type']),\n",
    "                      pd.DataFrame(df.isnull().sum().values, columns=['Missing Values']), \n",
    "                      pd.DataFrame([df[name].nunique() for name in df.columns], columns=['Unique Values'])], \n",
    "                     axis=1).set_index('Variable Name')\n",
    "    return pd.concat([missing_values, df.describe(include='all').transpose()], axis=1).fillna(\"\")"
   ]
  },
  {
   "cell_type": "code",
   "execution_count": null,
   "id": "cfa62c98-2d5f-4974-bab6-771ded440ef6",
   "metadata": {
    "scrolled": true
   },
   "outputs": [],
   "source": [
    "summarize_dataframe(data)"
   ]
  },
  {
   "cell_type": "markdown",
   "id": "d29d0819-fc9a-4470-8937-ca408d9437fc",
   "metadata": {},
   "source": [
    "### **Dataset Summary**  \n",
    "\n",
    "This summary provides an overview of a dataset with **32,581** entries and multiple features related to individuals and loans.  \n",
    "\n",
    "#### **Data Types & Missing Values:**  \n",
    "- Most columns are either numerical (**int64, float64**) or categorical (**object**).  \n",
    "- **person_emp_length** and **loan_int_rate** have missing values (**895** and **3,116**, respectively).  \n",
    "\n",
    "#### **Key Statistics:**  \n",
    "- **Age (`person_age`)**: Ranges from **20 to 144**, with an average of **27.7**.\n",
    "  \n",
    "- **Income (`person_income`)**: Varies widely from **4,000 to 6,000,000**, with a median of **55,000**.\n",
    "  \n",
    "- **Employment Length (`person_emp_length`)**: Averages **4.79 years**, with some missing values.\n",
    "\n",
    "- **Loan Amount (`loan_amnt`)**: Ranges from **500 to 35,000**, with a median of **8,000**.\n",
    "  \n",
    "- **Loan Interest Rate (`loan_int_rate`)**: Averages **11.01%**, but has **3,116 missing values**.\n",
    "  \n",
    "- **Loan Grade & Intent**: Categorical features with **7 and 6 unique values**, respectively.\n",
    "  \n",
    "- **Credit History (`cb_person_cred_hist_length`)**: Averages **5.8 years**, with a max of **30 years**.  \n",
    "\n",
    "#### **Categorical Features:**  \n",
    "- **Home Ownership (`person_home_ownership`)**: 4 categories, most common is **\"RENT\" (16,446 times)**.  \n",
    "- **Loan Intent (`loan_intent`)**: Most common purpose is **\"EDUCATION\" (6,453 times)**.  \n",
    "- **Default Status (`cb_person_default_on_file`)**: Binary feature with **\"N\" (26,836 times)**.  \n",
    "\n",
    "---\n",
    "\n",
    "### **Key Observations:**  \n",
    "- Some extreme values in **income (up to $6M)** and **age (max 144)** suggest potential outliers.\n",
    "-  Missing values in **employment length** and **loan interest rate** may require imputation or handling.\n",
    "-   Loan-related features (**amount, age, grade, interest rate**) and **income** could be key predictors for loan approval or default risk.  \n"
   ]
  },
  {
   "cell_type": "code",
   "execution_count": null,
   "id": "987719ab-7cc4-4d39-9b84-3eac96c06ae4",
   "metadata": {},
   "outputs": [],
   "source": [
    "data.head(5)"
   ]
  },
  {
   "cell_type": "code",
   "execution_count": null,
   "id": "78eff4c7-5a0d-4f44-a922-aa5735ed5315",
   "metadata": {},
   "outputs": [],
   "source": [
    "data.tail(5)"
   ]
  },
  {
   "cell_type": "code",
   "execution_count": null,
   "id": "0415c0f2-9309-4453-aa1b-784b39a2b69d",
   "metadata": {},
   "outputs": [],
   "source": [
    "data.nunique()"
   ]
  },
  {
   "cell_type": "code",
   "execution_count": null,
   "id": "82ddec56-59e7-456f-bde2-2e8e6bf47623",
   "metadata": {},
   "outputs": [],
   "source": [
    "data.loan_status.value_counts()"
   ]
  },
  {
   "cell_type": "code",
   "execution_count": null,
   "id": "2ccff666-2c4d-4aec-9ac4-ffbf3a5527a3",
   "metadata": {},
   "outputs": [],
   "source": [
    "data.duplicated().sum()"
   ]
  },
  {
   "cell_type": "markdown",
   "id": "eada476b-08fe-40db-8a76-293d1b30ad5b",
   "metadata": {},
   "source": [
    "### Correlation Matrix"
   ]
  },
  {
   "cell_type": "markdown",
   "id": "4d17c65d-65ad-45d0-94ec-4649585e9586",
   "metadata": {},
   "source": [
    "We will build a correlation matrix, but first, we need to create a copy of the data and remove any columns with data types that are incompatible with correlation calculations."
   ]
  },
  {
   "cell_type": "code",
   "execution_count": null,
   "id": "6cdcf024-e094-4f11-8a05-8b1ea5960f21",
   "metadata": {},
   "outputs": [],
   "source": [
    "data_copy = data.copy()"
   ]
  },
  {
   "cell_type": "code",
   "execution_count": null,
   "id": "2571b4d9-76a6-40d2-b8c0-53cfb5037e89",
   "metadata": {},
   "outputs": [],
   "source": [
    "data_copy = data_copy.drop(columns=[\"person_home_ownership\", \"loan_intent\", \"loan_grade\", \"cb_person_default_on_file\"])"
   ]
  },
  {
   "cell_type": "code",
   "execution_count": null,
   "id": "08654c10-dacd-4b92-86a0-c80b4de4ac9a",
   "metadata": {},
   "outputs": [],
   "source": [
    "data_copy.corr()"
   ]
  },
  {
   "cell_type": "code",
   "execution_count": null,
   "id": "96cd31c6-45c8-4e46-bc48-e015cd2422fb",
   "metadata": {},
   "outputs": [],
   "source": [
    "fig, ax = plt.subplots() \n",
    "fig.set_size_inches(15,8)\n",
    "sns.heatmap(data_copy.corr(), vmax =.8, square = True, annot = True,cmap='Greens' )\n",
    "plt.title('Confusion Matrix',fontsize=15);"
   ]
  },
  {
   "cell_type": "markdown",
   "id": "2c135033-8f52-41b7-ae49-ef33d2f66ef0",
   "metadata": {},
   "source": [
    "### Correlation Matrix Summary  \n",
    "- **Strong Positive Correlations:**  \n",
    "  - **Age and Credit History Length (0.86):** Older individuals tend to have longer credit histories.  \n",
    "  - **Loan Amount and Loan Percent Income (0.57):** Higher loan amounts are associated with a greater percentage of income being allocated to the loan.  \n",
    "\n",
    "- **Moderate Positive Correlations:**  \n",
    "  - **Income and Loan Amount (0.27):** Higher income is linked to higher loan amounts.  \n",
    "  - **Loan Interest Rate and Loan Status (0.34):** A higher interest rate appears to be associated with loan status, potentially indicating riskier loans.  \n",
    "\n",
    "- **Weak or Negligible Correlations:**  \n",
    "  - Loan interest rate has little correlation with most variables, except for a moderate connection with loan status.  \n",
    "  - Employment length has weak correlations with all features, suggesting it might not be a strong predictor of loan-related outcomes.  \n",
    "\n",
    "- **Negative Correlations:**  \n",
    "  - **Income and Loan Percent Income (-0.25):** Higher-income individuals tend to allocate a smaller proportion of their income to loan payments.  "
   ]
  },
  {
   "cell_type": "markdown",
   "id": "ed812935-4d5b-4c4c-b3b9-5edda9dda7d0",
   "metadata": {},
   "source": [
    "## Univarient  Analysis"
   ]
  },
  {
   "cell_type": "markdown",
   "id": "a486787c-fcdc-4adb-9a8b-b6cb17963824",
   "metadata": {},
   "source": [
    "Univariate analysis is the examination of a single variable in a dataset. It focuses on summarizing and understanding the distribution, central tendency (mean, median, mode), spread (variance, standard deviation), and outliers of individual variables."
   ]
  },
  {
   "cell_type": "code",
   "execution_count": null,
   "id": "5d3369b9-55bc-4bdc-9d18-8a31e1513f92",
   "metadata": {},
   "outputs": [],
   "source": [
    "#max and min income\n",
    "max_ = data['person_income'].max()\n",
    "min_ = data['person_income'].min()\n",
    "\n",
    "print(f\"maximum Income {max_}\")\n",
    "print(f\"minimum Income {min_}\")\n",
    "\n",
    "#people with an income between x and y\n",
    "def income_group(arr):\n",
    "    lenarr = len(arr)\n",
    "    for i in range(0,lenarr-1):\n",
    "        next = arr[i]+1\n",
    "        num_people = data['person_income'].between(next,arr[i+1]).sum()\n",
    "        print(f'Income between {next} and {arr[i+1]}: Number of people {num_people}')\n",
    "        \n",
    "income_group([0, 25000, 50000, 75000, 100000,float('inf')])"
   ]
  },
  {
   "cell_type": "code",
   "execution_count": null,
   "id": "aafb59cd-dd0e-4276-9cdd-4915adfd2272",
   "metadata": {},
   "outputs": [],
   "source": [
    "#MAX AND MIN AGE\n",
    "max_ = data['person_age'].max()\n",
    "min_ = data['person_age'].min()\n",
    "print(f\"maximum Age {max_}\")\n",
    "print(f\"minimum Age {min_}\")\n",
    "\n",
    "# people with an age between x and y\n",
    "def age_group(arr):\n",
    "    lenarr = len(arr)\n",
    "    for i in range(0,lenarr-1):\n",
    "        next = arr[i]+1\n",
    "        num_people = data['person_age'].between(next,arr[i+1]).sum()\n",
    "        print(f'Age between {next} and {arr[i+1]}: Number of people {num_people}')\n",
    "        \n",
    "age_group([0 ,18, 26, 36, 46, 56, 66])"
   ]
  },
  {
   "cell_type": "code",
   "execution_count": null,
   "id": "d162d338-1835-488c-80e1-7d9bba14747a",
   "metadata": {},
   "outputs": [],
   "source": [
    "#min and max loan amount\n",
    "max_loan_amount = data['loan_amnt'].max()\n",
    "min_loan_amount = data['loan_amnt'].min()\n",
    "\n",
    "print(f\"maximum Loan Amount {max_loan_amount}\")\n",
    "print(f\"minimum Loan Amount {min_loan_amount}\")\n",
    "\n",
    "# people with an income between x and y\n",
    "def loan_amount_group(arr):\n",
    "    lenarr = len(arr)\n",
    "    for i in range(0,lenarr-1):\n",
    "        next = arr[i]+1\n",
    "        num_people = data['loan_amnt'].between(next,arr[i+1]).sum()\n",
    "        print(f'Loan Amount between {next} and {arr[i+1]}: Number of people {num_people}')\n",
    "        \n",
    "loan_amount_group([0, 5000, 10000, 15000, float('inf')])"
   ]
  },
  {
   "cell_type": "code",
   "execution_count": null,
   "id": "979f3d83-b434-4c67-a0d4-6a0409b3c564",
   "metadata": {},
   "outputs": [],
   "source": [
    "level_counts=data.person_home_ownership.value_counts()\n",
    "fig=px.pie(values=level_counts.values,\n",
    "          names=level_counts.index,\n",
    "          color_discrete_sequence=px.colors.sequential.Mint,\n",
    "          title= 'person_home_ownership'\n",
    "          )\n",
    "fig.update_traces(textinfo='label+percent+value', textfont_size=13,\n",
    "                  marker=dict(line=dict(color='#102000', width=0.2)))\n",
    "\n",
    "fig.data[0].marker.line.width = 2\n",
    "fig.data[0].marker.line.color='gray'\n",
    "fig.show()"
   ]
  },
  {
   "cell_type": "code",
   "execution_count": null,
   "id": "da6fdf9d-097b-4558-a473-42beba7c1277",
   "metadata": {},
   "outputs": [],
   "source": [
    "level_counts=data.loan_grade.value_counts()\n",
    "fig=px.pie(values=level_counts.values,\n",
    "          names=level_counts.index,\n",
    "          color_discrete_sequence=px.colors.sequential.Mint,\n",
    "          title= 'loan_grade'\n",
    "          )\n",
    "fig.update_traces(textinfo='label+percent+value', textfont_size=13,\n",
    "                  marker=dict(line=dict(color='#102000', width=0.2)))\n",
    "\n",
    "fig.data[0].marker.line.width = 2\n",
    "fig.data[0].marker.line.color='gray'\n",
    "fig.show()"
   ]
  },
  {
   "cell_type": "code",
   "execution_count": null,
   "id": "97c54d0c-2140-4b88-9183-473bbf4ae4fe",
   "metadata": {},
   "outputs": [],
   "source": [
    "fig=px.histogram(data, x = 'loan_intent',histnorm = 'percent', text_auto = '.2f',template = 'presentation', title = 'loan intent',color_discrete_sequence=px.colors.sequential.Mint)\n",
    "fig.update_layout()\n",
    "fig.show()"
   ]
  },
  {
   "cell_type": "code",
   "execution_count": null,
   "id": "2f26bc11-e4e4-4614-b19f-85772fb05c7f",
   "metadata": {},
   "outputs": [],
   "source": [
    "fig=px.histogram(data, x = 'cb_person_cred_hist_length', text_auto = '.2f',template = 'presentation', title = 'person credit history length',color_discrete_sequence=px.colors.sequential.Mint)\n",
    "fig.update_layout()\n",
    "fig.show()"
   ]
  },
  {
   "cell_type": "markdown",
   "id": "23ad2ecc-55aa-444a-82ca-9bcd212c9325",
   "metadata": {},
   "source": [
    "The charts provide insights into key categorical and numerical features in the loan dataset. Homeownership is dominated by renters (50.5%), followed by mortgage holders (41.3%), while only a small portion owns their homes. Loan grades are primarily distributed across A (33.1%), B (32.1%), and C (19.8%), with lower representation in grades D through G. Loan intent varies, with education (19.8%), medical (18.6%), and personal (16.9%) being the most common reasons for borrowing. Credit history length is skewed, with most individuals having a short credit history, concentrated around the lower end of the scale. These distributions highlight key borrower characteristics that could impact loan decisions."
   ]
  },
  {
   "cell_type": "code",
   "execution_count": null,
   "id": "7f026c80-dcc0-4b84-9f4d-179031e49990",
   "metadata": {},
   "outputs": [],
   "source": [
    "sns.pairplot(data,hue=\"loan_status\")"
   ]
  },
  {
   "cell_type": "markdown",
   "id": "19bd39e4-fdfa-4d72-a366-df897c94ec28",
   "metadata": {},
   "source": [
    "The pair plot visualizes relationships between numerical variables in the loan dataset, distinguishing loan statuses (0 and 1) with color coding. The diagonal plots show the distribution of individual variables, highlighting skewness in age, income, and loan amount. Scatter plots reveal weak correlations, with loan amount and income showing some positive association. Outliers are present, particularly in income and age. Loan status does not show strong separability across most features, suggesting complex relationships that may require further feature engineering or advanced modeling techniques."
   ]
  },
  {
   "cell_type": "markdown",
   "id": "790fcd9b-a6fb-4275-a7e1-7bdc9d59672f",
   "metadata": {},
   "source": [
    "## Feature Engineering"
   ]
  },
  {
   "cell_type": "markdown",
   "id": "b0868d17-dd24-4847-acfb-163347b870da",
   "metadata": {},
   "source": [
    "### Dealing with outliers"
   ]
  },
  {
   "cell_type": "markdown",
   "id": "a11d07d4-5098-4617-be87-2fd1ee579a5c",
   "metadata": {},
   "source": [
    "Handling outliers before building a model is crucial because extreme values can distort statistical relationships and lead to biased or unstable predictions. Outliers can disproportionately affect models like linear regression by skewing coefficients or influencing decision boundaries in classification models. By detecting and addressing outliers—through removal, transformation, or capping—we improve model accuracy, robustness, and generalizability to new data."
   ]
  },
  {
   "cell_type": "code",
   "execution_count": null,
   "id": "1da3b85e-cfa9-48fd-929d-467d5f10fe07",
   "metadata": {},
   "outputs": [],
   "source": [
    "data.isnull().sum()"
   ]
  },
  {
   "cell_type": "markdown",
   "id": "f59e8749-ed14-42c6-bb92-d01504c80476",
   "metadata": {},
   "source": [
    "Dropping null values is necessary to prevent errors and inconsistencies in model training and analysis. Many machine learning algorithms cannot handle missing data, leading to inaccurate predictions or failed computations. Removing null values ensures a cleaner dataset, improves model performance, and prevents biases that could arise from incomplete information."
   ]
  },
  {
   "cell_type": "code",
   "execution_count": null,
   "id": "33149c62-c426-4c60-9340-c73bc205dce5",
   "metadata": {},
   "outputs": [],
   "source": [
    "# drop values that are null\n",
    "data.dropna(axis=0,inplace=True)"
   ]
  },
  {
   "cell_type": "code",
   "execution_count": null,
   "id": "54c4fabe-c507-4ff7-88a3-9bb8363fa6b5",
   "metadata": {},
   "outputs": [],
   "source": [
    "data.isnull().sum()"
   ]
  },
  {
   "cell_type": "code",
   "execution_count": null,
   "id": "48c2b35f-9f24-4b81-83dc-939c8c927fc8",
   "metadata": {},
   "outputs": [],
   "source": [
    "#person_age max 144 (issue)\n",
    "#person_emp_length max 123 (issue)\n",
    "data.reset_index(inplace = True)"
   ]
  },
  {
   "cell_type": "markdown",
   "id": "eaf52e1b-6997-42e2-9b99-b2056b4b846c",
   "metadata": {},
   "source": [
    "### Age Groups"
   ]
  },
  {
   "cell_type": "markdown",
   "id": "ce4497d1-771f-4aa4-8f7f-8de25df5e471",
   "metadata": {},
   "source": [
    "Grouping ages in loan data using defined bins helps uncover patterns in borrowing behavior, loan approvals, and default risks across different age ranges. For example, segmenting borrowers into groups like **20-25, 26-35, 36-45, 46-55, and 56-65** allows us to analyze how financial stability, credit history, and loan repayment tendencies vary by age. Younger borrowers (20-25) may have limited credit history and lower incomes, leading to higher loan rejection rates or higher interest rates, while those in the **26-35 and 36-45** age groups might have more stable incomes and better credit scores, improving their chances of loan approval. Older borrowers (46-55 and 56-65) may have stronger credit histories but different debt-to-income considerations. By categorizing age, we enhance model interpretability, reduce noise, and capture meaningful insights that help in risk assessment and lending decisions."
   ]
  },
  {
   "cell_type": "code",
   "execution_count": null,
   "id": "4910a7a8-f6e6-4375-b9da-e18b51fa7ee7",
   "metadata": {},
   "outputs": [],
   "source": [
    "import matplotlib.pyplot as plt \n",
    "verti = data['person_age'].value_counts().values\n",
    "hori = data['person_age'].value_counts().index\n",
    "fig = plt.figure(figsize = (15, 5))\n",
    "plt.bar(hori, verti)"
   ]
  },
  {
   "cell_type": "code",
   "execution_count": null,
   "id": "10eba8d0-8f9c-4b4c-9016-018ef1aac629",
   "metadata": {},
   "outputs": [],
   "source": [
    "(data['person_age'].value_counts().values>90).sum()"
   ]
  },
  {
   "cell_type": "code",
   "execution_count": null,
   "id": "77586519-3c44-4961-b1c3-f5d6ad3c76e5",
   "metadata": {},
   "outputs": [],
   "source": [
    "data = data.drop(data[data['person_age'] > 80].index, axis=0)\n",
    "#dropping age above 80"
   ]
  },
  {
   "cell_type": "code",
   "execution_count": null,
   "id": "0cb589ce-b3c6-4690-a8c4-401c7bc7b5bc",
   "metadata": {},
   "outputs": [],
   "source": [
    "data['age_group'] = pd.cut(data['person_age'],\n",
    "                           bins=[20, 26, 36, 46, 56, 66],\n",
    "                           labels=['20-25', '26-35', '36-45', '46-55', '56-65'])"
   ]
  },
  {
   "cell_type": "code",
   "execution_count": null,
   "id": "44c106f5-8380-4495-90ac-9fdb325fcaa5",
   "metadata": {},
   "outputs": [],
   "source": [
    "data['age_group'].dtype"
   ]
  },
  {
   "cell_type": "markdown",
   "id": "e5325b9c-b8e2-4a47-bd39-eba1a5d6baf2",
   "metadata": {},
   "source": [
    "### Income Groups"
   ]
  },
  {
   "cell_type": "markdown",
   "id": "f25012ba-9488-4eb9-a765-4ee2fc9d31f2",
   "metadata": {},
   "source": [
    "Creating income groups in loan data helps analyze borrowing behavior, loan approval rates, and default risk across different financial brackets. By segmenting income into five categories—low (<25,000),low-middle (25,000-50,000), middle (50,000-75,000), high-middle (75,000-100,000), and high (>$100,000)—we can identify trends in loan repayment and lending risk. Lower-income borrowers may have higher debt-to-income ratios and face stricter lending criteria, while middle and high-income groups typically secure better loan terms and lower default risk. This structured grouping helps improve model interpretability, mitigates the impact of extreme income values, and allows for better feature engineering by capturing non-linear relationships between income and loan outcomes."
   ]
  },
  {
   "cell_type": "code",
   "execution_count": null,
   "id": "d43dd325-933c-4c6e-9587-626d6cc879aa",
   "metadata": {},
   "outputs": [],
   "source": [
    "data['income_group'] = pd.cut(data['person_income'],\n",
    "                              bins=[0, 25000, 50000, 75000, 100000, float('inf')],\n",
    "                              labels=['low', 'low-middle', 'middle', 'high-middle', 'high'])"
   ]
  },
  {
   "cell_type": "code",
   "execution_count": null,
   "id": "cac04eef-0c9d-4509-9adb-fca4e5678421",
   "metadata": {},
   "outputs": [],
   "source": [
    "data['income_group']"
   ]
  },
  {
   "cell_type": "markdown",
   "id": "4f473183-edb9-41f9-8f0a-14e58b017951",
   "metadata": {},
   "source": [
    "### Loan Amount"
   ]
  },
  {
   "cell_type": "markdown",
   "id": "5b2e45b3-eb70-4b74-b808-8b8c93bd8ae0",
   "metadata": {},
   "source": [
    "Categorizing loan amounts into **small (≤5,000), medium (5,001-10,000), large (10,001-15,000), and very large (>15,000)** helps identify trends in loan approvals, default rates, and interest rate distributions across different loan sizes. Smaller loans are more common among lower-income borrowers or those with limited credit history, while very large loans are typically associated with higher-income individuals or riskier lending decisions. Grouping loan amounts simplifies feature relationships, reduces noise, and enhances interpretability by capturing non-linear patterns that raw numerical values might obscure. This approach also allows lenders to tailor risk management strategies and lending criteria for different loan categories."
   ]
  },
  {
   "cell_type": "code",
   "execution_count": null,
   "id": "123b55cc-3bee-4c2c-bec4-8210bc36405a",
   "metadata": {},
   "outputs": [],
   "source": [
    "data['loan_amount_group'] = pd.cut(data['loan_amnt'],\n",
    "                                   bins=[0, 5000, 10000, 15000, float('inf')],\n",
    "                                   labels=['small', 'medium', 'large', 'very large'])"
   ]
  },
  {
   "cell_type": "code",
   "execution_count": null,
   "id": "4c140ad8-9fe0-4e12-93ba-0ccd20d13d08",
   "metadata": {},
   "outputs": [],
   "source": [
    "data['loan_amount_group']"
   ]
  },
  {
   "cell_type": "code",
   "execution_count": null,
   "id": "82d3750a-7e94-4523-984a-141c16b5a4ea",
   "metadata": {},
   "outputs": [],
   "source": [
    "data = data.drop(data[data['person_emp_length'] > 60].index, axis=0)"
   ]
  },
  {
   "cell_type": "code",
   "execution_count": null,
   "id": "adcacc55-ead2-4d3f-a9eb-21523e76dd33",
   "metadata": {},
   "outputs": [],
   "source": [
    "data = data.drop(['index'], axis=1)\n",
    "data.reset_index(inplace = True)\n",
    "data = data.drop(['index'], axis=1)"
   ]
  },
  {
   "cell_type": "code",
   "execution_count": null,
   "id": "43ff098d-d7f3-4406-9169-29e0d0ab74fc",
   "metadata": {},
   "outputs": [],
   "source": [
    "data['person_home_ownership'].value_counts()"
   ]
  },
  {
   "cell_type": "markdown",
   "id": "571138f8-caa9-4c6b-b93e-a993f34f842d",
   "metadata": {},
   "source": [
    "### Financial Ratios"
   ]
  },
  {
   "cell_type": "markdown",
   "id": "3ef03676-5493-4ad8-b5d2-c78de7fa3668",
   "metadata": {},
   "source": [
    "Creating **loan-to-income ratio, loan-to-employment length ratio, and interest rate-to-loan amount ratio** provides key insights into borrowing behavior and loan risk assessment. **Loan-to-income ratio** measures a borrower's debt burden relative to their income, where higher values indicate increased financial strain and potential default risk. **Loan-to-employment length ratio** evaluates financial stability by comparing employment duration to the loan amount, helping assess repayment ability. **Interest rate-to-loan amount ratio** highlights how interest rates vary with loan sizes, identifying whether larger loans are associated with higher risk and interest rates. These engineered features enhance model performance by capturing meaningful financial relationships that raw data may not fully express."
   ]
  },
  {
   "cell_type": "code",
   "execution_count": null,
   "id": "69a21bcb-b1c6-4efe-9c20-82c634bcbe4d",
   "metadata": {},
   "outputs": [],
   "source": [
    "# Create loan-to-income ratio\n",
    "data['loan_to_income_ratio'] = data['loan_amnt'] / data['person_income']\n",
    "\n",
    "# Create loan-to-employment length ratio\n",
    "data['loan_to_emp_length_ratio'] =  data['person_emp_length']/ data['loan_amnt'] \n",
    "\n",
    "# Create interest rate-to-loan amount ratio\n",
    "data['int_rate_to_loan_amt_ratio'] = data['loan_int_rate'] / data['loan_amnt']"
   ]
  },
  {
   "cell_type": "code",
   "execution_count": null,
   "id": "9e3da4f4-d111-4d8b-ba64-154ee69cdcde",
   "metadata": {},
   "outputs": [],
   "source": [
    "data.columns"
   ]
  },
  {
   "cell_type": "markdown",
   "id": "ea1e4a11-fb0d-4415-aa7a-1066fd12306c",
   "metadata": {},
   "source": [
    "### A couple of steps to prepare columns for preprocessing"
   ]
  },
  {
   "cell_type": "code",
   "execution_count": null,
   "id": "5972dda0-8f0e-417c-b5b4-8d10ccc7a917",
   "metadata": {},
   "outputs": [],
   "source": [
    "raw_data = data.copy()"
   ]
  },
  {
   "cell_type": "code",
   "execution_count": null,
   "id": "5b41c620-da64-44c5-b54b-31ebd19a72c3",
   "metadata": {},
   "outputs": [],
   "source": [
    "#Organize Columns\n",
    "col_list = ['person_age',#\n",
    " 'person_income',#\n",
    " 'person_home_ownership',#\n",
    " 'person_emp_length',#\n",
    " 'loan_intent', #\n",
    " 'loan_grade',#\n",
    " 'loan_amnt',#\n",
    " 'loan_int_rate',#\n",
    " 'loan_status',#\n",
    " 'loan_percent_income',#\n",
    " 'cb_person_default_on_file',#\n",
    " 'cb_person_cred_hist_length',\n",
    "'age_group','income_group','loan_amount_group']\n",
    "\n",
    "drop_colums = []\n",
    "scale_cols = ['person_income','person_age','person_emp_length', 'loan_amnt','loan_int_rate','cb_person_cred_hist_length','loan_percent_income','loan_to_income_ratio', 'loan_to_emp_length_ratio',\n",
    "       'int_rate_to_loan_amt_ratio']\n",
    "ohe_colums = ['cb_person_default_on_file','loan_grade', 'person_home_ownership','loan_intent','income_group','age_group','loan_amount_group']\n",
    "le_colums = []"
   ]
  },
  {
   "cell_type": "code",
   "execution_count": null,
   "id": "89589f1d-b6d4-4906-b6ca-959b12f4c43d",
   "metadata": {},
   "outputs": [],
   "source": [
    "data = data.drop(drop_colums, axis=1)"
   ]
  },
  {
   "cell_type": "code",
   "execution_count": null,
   "id": "4006584a-53fe-43dd-a87b-d0433ca1445e",
   "metadata": {},
   "outputs": [],
   "source": [
    "data.columns"
   ]
  },
  {
   "cell_type": "markdown",
   "id": "d2aaf09b-1ebb-4bb7-842e-c438c9ee1086",
   "metadata": {},
   "source": [
    "## Data Preprocessing"
   ]
  },
  {
   "cell_type": "code",
   "execution_count": null,
   "id": "8faa8b96-bd78-49ca-91ab-8cfcaa78752f",
   "metadata": {},
   "outputs": [],
   "source": [
    "# Separating Features (X) and Target Variable (Y)\n",
    "\n",
    "# X: Creating the feature matrix by dropping the target variable ('loan_status')\n",
    "X = data.drop(['loan_status'], axis=1)  # All independent variables used for prediction\n",
    "\n",
    "# Y: Defining the target variable (loan_status), which represents whether a loan is approved or defaulted\n",
    "Y = data['loan_status']  # Dependent variable (label) for model training"
   ]
  },
  {
   "cell_type": "markdown",
   "id": "d4672470-044e-4b1b-88fa-360a2890123e",
   "metadata": {},
   "source": [
    "Spit Data into traing data and test data"
   ]
  },
  {
   "cell_type": "code",
   "execution_count": null,
   "id": "31777ed9-543d-4c4c-921b-60bb11d85253",
   "metadata": {},
   "outputs": [],
   "source": [
    "# Importing train_test_split function from scikit-learn\n",
    "from sklearn.model_selection import train_test_split\n",
    "\n",
    "# Splitting the dataset into training and testing sets\n",
    "x_train, x_test, y_train, y_test = train_test_split(\n",
    "    X,  # Feature matrix\n",
    "    Y,  # Target variable (loan_status)\n",
    "    test_size=0.2,  # 20% of the data is allocated for testing, 80% for training\n",
    "    random_state=12  # Ensures reproducibility by setting a fixed random seed\n",
    ")"
   ]
  },
  {
   "cell_type": "code",
   "execution_count": null,
   "id": "f9a32480-3b29-4350-bbbf-74dab26b24e4",
   "metadata": {},
   "outputs": [],
   "source": [
    "print(x_train.shape,x_test.shape)"
   ]
  },
  {
   "cell_type": "code",
   "execution_count": null,
   "id": "f3c58707-2f04-4381-b2d8-5a7df50d095c",
   "metadata": {},
   "outputs": [],
   "source": [
    "# Resetting the index of the training and testing feature datasets\n",
    "x_train.reset_index(inplace=True)  # Ensures the index starts from 0 after splitting\n",
    "x_test.reset_index(inplace=True)   # Avoids misalignment issues when processing data\n",
    "\n",
    "# This is useful because train_test_split retains the original dataset's indices,\n",
    "# and resetting the index ensures a clean, sequential order for further operations."
   ]
  },
  {
   "cell_type": "code",
   "execution_count": null,
   "id": "ecc9fe1f-6918-4063-83f8-d4d15f927c7c",
   "metadata": {},
   "outputs": [],
   "source": [
    "x_train.columns"
   ]
  },
  {
   "cell_type": "markdown",
   "id": "c85a24cc-6bb2-463f-949f-2d171796c6ce",
   "metadata": {},
   "source": [
    "This code initializes a **OneHotEncoder**, which converts categorical variables into a numerical format for machine learning models. It fits the encoder to the specified categorical columns in the training dataset, learning the unique categories in each column. This ensures that categorical data is transformed into a binary matrix, where each category is represented by a separate column with `0` or `1` values, making it suitable for model training."
   ]
  },
  {
   "cell_type": "code",
   "execution_count": null,
   "id": "08294051-a309-4862-b239-e1257664bf62",
   "metadata": {},
   "outputs": [],
   "source": [
    "# Importing OneHotEncoder from scikit-learn for categorical feature encoding\n",
    "from sklearn.preprocessing import OneHotEncoder\n",
    "\n",
    "# Creating an instance of OneHotEncoder\n",
    "ohe = OneHotEncoder()\n",
    "\n",
    "# Fitting the encoder to the categorical columns in the training data\n",
    "ohe.fit(x_train[ohe_colums])  # Learns the unique categories for one-hot encoding"
   ]
  },
  {
   "cell_type": "code",
   "execution_count": null,
   "id": "f33066ed-1149-4ca7-86d6-4b30cc2ac01c",
   "metadata": {},
   "outputs": [],
   "source": [
    "ohe.categories_"
   ]
  },
  {
   "cell_type": "markdown",
   "id": "7ff279b1-228d-4b37-afb1-ae81ea0c67b4",
   "metadata": {},
   "source": [
    "This code extracts the unique categories learned by the **OneHotEncoder** and merges them into a single NumPy array. Each `ohe.categories_[i]` represents the distinct categories from a specific categorical column. Using `np.concatenate()`, these categories are combined into one array, allowing for easier tracking of the transformed feature names. This step is useful for aligning encoded data with its corresponding categories when analyzing or interpreting the results."
   ]
  },
  {
   "cell_type": "code",
   "execution_count": null,
   "id": "66eeece1-01b6-4fbd-8ce2-8aa217e58366",
   "metadata": {},
   "outputs": [],
   "source": [
    "# Merging the unique categories learned by OneHotEncoder into a single array\n",
    "merge_ohe_col = np.concatenate((\n",
    "    ohe.categories_[0],  # Categories from the first categorical column\n",
    "    ohe.categories_[1],  # Categories from the second categorical column\n",
    "    ohe.categories_[2],  # Categories from the third categorical column\n",
    "    ohe.categories_[3],  # Categories from the fourth categorical column\n",
    "    ohe.categories_[4],  # Categories from the fifth categorical column\n",
    "    ohe.categories_[5],  # Categories from the sixth categorical column\n",
    "    ohe.categories_[6]   # Categories from the seventh categorical column\n",
    "))"
   ]
  },
  {
   "cell_type": "code",
   "execution_count": null,
   "id": "877cfd03-20eb-49ff-9ac0-d9154ce11978",
   "metadata": {},
   "outputs": [],
   "source": [
    "merge_ohe_col"
   ]
  },
  {
   "cell_type": "code",
   "execution_count": null,
   "id": "210900df-4c31-4fb6-b23d-7e1705f7663e",
   "metadata": {},
   "outputs": [],
   "source": [
    "# Transforming categorical features in the training set using OneHotEncoder\n",
    "# Converts the encoded data into a DataFrame with appropriate column names\n",
    "ohe_data = pd.DataFrame(\n",
    "    ohe.transform(x_train[ohe_colums]).toarray(),  # Applies OHE transformation and converts to an array\n",
    "    columns=merge_ohe_col  # Assigns meaningful column names using merged category names\n",
    ")\n",
    "\n",
    "# Transforming categorical features in the testing set using OneHotEncoder\n",
    "# Converts the encoded data into a DataFrame with appropriate column names\n",
    "ohe_data2 = pd.DataFrame(\n",
    "    ohe.transform(x_test[ohe_colums]).toarray(),  # Applies OHE transformation to test data\n",
    "    columns=merge_ohe_col  # Assigns column names to match the training set\n",
    ")"
   ]
  },
  {
   "cell_type": "code",
   "execution_count": null,
   "id": "0721683e-83e7-453c-a97c-41c960b21f98",
   "metadata": {},
   "outputs": [],
   "source": [
    "# Merging the one-hot encoded categorical features with the original training data\n",
    "X_new = pd.concat([ohe_data, x_train], axis=1)  # Combines encoded data with the training dataset\n",
    "X_new = X_new.drop(ohe_colums, axis=1)  # Removes the original categorical columns since they are now encoded\n",
    "\n",
    "# Merging the one-hot encoded categorical features with the original testing data\n",
    "X_new_test = pd.concat([ohe_data2, x_test], axis=1)  # Combines encoded data with the test dataset\n",
    "X_new_test = X_new_test.drop(ohe_colums, axis=1)  # Removes the original categorical columns from the test set"
   ]
  },
  {
   "cell_type": "code",
   "execution_count": null,
   "id": "37f76ce3-e2df-4bfb-bb7f-ffb9f0a099c5",
   "metadata": {},
   "outputs": [],
   "source": [
    "X_new.head()"
   ]
  },
  {
   "cell_type": "code",
   "execution_count": null,
   "id": "225c7bf2-2c8d-485e-b227-0065ff57581e",
   "metadata": {},
   "outputs": [],
   "source": [
    "X_new.shape"
   ]
  },
  {
   "cell_type": "code",
   "execution_count": null,
   "id": "e52bdaf8-5745-4197-b87a-fc062efce554",
   "metadata": {},
   "outputs": [],
   "source": [
    "X_new_test.head()"
   ]
  },
  {
   "cell_type": "code",
   "execution_count": null,
   "id": "5b6083be-d37b-454b-b144-4f8fb6d9eebf",
   "metadata": {},
   "outputs": [],
   "source": [
    "# Importing different scalers from scikit-learn for feature scaling\n",
    "from sklearn.preprocessing import MinMaxScaler, StandardScaler, RobustScaler\n",
    "\n",
    "# Defining the columns that need to be scaled\n",
    "scale_cols = ['person_income', 'person_age', 'person_emp_length', 'loan_amnt', 'loan_int_rate',\n",
    "              'cb_person_cred_hist_length', 'loan_percent_income', 'loan_to_emp_length_ratio',\n",
    "              'int_rate_to_loan_amt_ratio']\n",
    "\n",
    "# Placeholder lists for different types of scaling methods\n",
    "uniform_col = []  # Intended for MinMax scaling (not used in current code)\n",
    "normal_col = scale_cols  # Features that will be scaled using StandardScaler\n",
    "bimodal_col = []  # Intended for Robust scaling (not used in current code)\n",
    "\n",
    "# Initializing different scalers for various types of distributions\n",
    "scaler_uniform = MinMaxScaler()  # Scales data to a range of [0,1]\n",
    "\n",
    "# Applying MinMaxScaler if there are any uniform distribution columns (currently commented out)\n",
    "# X_new.loc[:, uniform_col] = scaler_uniform.fit_transform(X_new.loc[:, uniform_col])\n",
    "# X_new_test.loc[:, uniform_col] = scaler_uniform.transform(X_new_test.loc[:, uniform_col])\n",
    "\n",
    "scaler_normal = StandardScaler()  # Standardizes data by centering it to mean=0 and variance=1\n",
    "\n",
    "# Applying StandardScaler to normally distributed columns\n",
    "X_new.loc[:, normal_col] = scaler_normal.fit_transform(X_new.loc[:, normal_col])  # Fit & transform training data\n",
    "X_new_test.loc[:, normal_col] = scaler_normal.transform(X_new_test.loc[:, normal_col])  # Transform test data\n",
    "\n",
    "scaler_bimodal = RobustScaler()  # Uses median and IQR for scaling, useful for handling outliers\n",
    "\n",
    "# Applying RobustScaler if there are any bimodal distribution columns (currently commented out)\n",
    "# X_new.loc[:, bimodal_col] = scaler_bimodal.fit_transform(X_new.loc[:, bimodal_col])\n",
    "# X_new_test.loc[:, bimodal_col] = scaler_bimodal.transform(X_new_test.loc[:, bimodal_col])"
   ]
  },
  {
   "cell_type": "code",
   "execution_count": null,
   "id": "99849c86-6d05-45f6-aff9-06c672cddd3b",
   "metadata": {},
   "outputs": [],
   "source": [
    "X_new_test.head()"
   ]
  },
  {
   "cell_type": "markdown",
   "id": "f26060b6-2639-4c56-a768-6ec49204fbe9",
   "metadata": {},
   "source": [
    "## Train Classifiers"
   ]
  },
  {
   "cell_type": "markdown",
   "id": "93403c78-8cbb-4d4f-8a0a-3d1fb2e64ddb",
   "metadata": {},
   "source": [
    "### Installing Necessary Packages"
   ]
  },
  {
   "cell_type": "code",
   "execution_count": null,
   "id": "667f6664-8503-4e31-abb0-f96ffd9d1975",
   "metadata": {},
   "outputs": [],
   "source": [
    "pip install catboost"
   ]
  },
  {
   "cell_type": "code",
   "execution_count": null,
   "id": "19ca6a3c-298d-4bfa-9dc7-a735ac90432d",
   "metadata": {
    "scrolled": true
   },
   "outputs": [],
   "source": [
    "pip install optunahub"
   ]
  },
  {
   "cell_type": "code",
   "execution_count": null,
   "id": "04c99d69-fa31-401f-b817-23c3ebe82782",
   "metadata": {},
   "outputs": [],
   "source": [
    "# Importing machine learning models from scikit-learn and other libraries\n",
    "\n",
    "# Linear Models\n",
    "from sklearn.linear_model import LinearRegression  # Linear regression model for continuous target prediction\n",
    "from sklearn.linear_model import LogisticRegression  # Logistic regression for binary classification\n",
    "\n",
    "# Support Vector Machine (SVM)\n",
    "from sklearn.svm import SVC  # Support Vector Classifier for binary/multi-class classification\n",
    "\n",
    "# Naive Bayes\n",
    "from sklearn.naive_bayes import MultinomialNB  # Multinomial Naive Bayes, often used for text classification\n",
    "\n",
    "# Decision Trees and Nearest Neighbors\n",
    "from sklearn.tree import DecisionTreeClassifier  # Decision tree classifier for non-linear relationships\n",
    "from sklearn.neighbors import KNeighborsClassifier  # k-Nearest Neighbors (KNN) classifier for proximity-based classification\n",
    "\n",
    "# Ensemble Models (Bagging & Boosting)\n",
    "from sklearn.ensemble import RandomForestClassifier  # Random Forest classifier using multiple decision trees\n",
    "from sklearn.ensemble import AdaBoostClassifier  # Adaptive Boosting classifier for ensemble learning\n",
    "from sklearn.ensemble import BaggingClassifier  # Bagging classifier for reducing variance in models\n",
    "from sklearn.ensemble import ExtraTreesClassifier  # Extra Trees classifier, a variation of Random Forest with randomized splits\n",
    "from sklearn.ensemble import GradientBoostingClassifier  # Gradient Boosting classifier for iterative model training\n",
    "\n",
    "# XGBoost (Extreme Gradient Boosting)\n",
    "from xgboost import XGBClassifier  # XGBoost classifier, optimized for speed and performance\n",
    "\n",
    "# CatBoost (Categorical Boosting)\n",
    "from catboost import CatBoostClassifier  # CatBoost classifier, efficient for categorical data\n",
    "\n",
    "# LightGBM (Light Gradient Boosting Machine)\n",
    "import lightgbm as lgb  # LightGBM library for efficient gradient boosting\n",
    "from lightgbm import LGBMClassifier  # LightGBM classifier, optimized for speed and accuracy\n",
    "from lightgbm import LGBMRegressor  # LightGBM regressor for continuous target predictions\n",
    "\n",
    "# Evaluation Metrics\n",
    "from sklearn.metrics import make_scorer, mean_absolute_error  # Custom scoring functions and MAE metric\n",
    "from sklearn.metrics import mean_squared_error as MSE  # Mean Squared Error (MSE) metric\n",
    "\n",
    "# Hyperparameter Optimization\n",
    "from optuna import *  # Optuna library for automated hyperparameter tuning\n",
    "\n",
    "# Model Selection & Cross-Validation\n",
    "from sklearn.model_selection import GridSearchCV  # Grid search for hyperparameter tuning\n",
    "from sklearn.model_selection import StratifiedKFold  # Stratified K-Fold cross-validation for imbalanced datasets\n",
    "from sklearn.model_selection import KFold, cross_val_score  # K-Fold cross-validation and model scoring"
   ]
  },
  {
   "cell_type": "markdown",
   "id": "4497e4bf-5aed-48bb-9b13-4d21841649e7",
   "metadata": {},
   "source": [
    "This code **initializes a diverse set of machine learning classifiers**, ranging from **traditional algorithms** (e.g., Logistic Regression, Decision Trees) to **ensemble-based models** (e.g., Random Forest, XGBoost, LightGBM) and **boosting techniques** (e.g., AdaBoost, Gradient Boosting). These models vary in complexity and effectiveness across different types of datasets:  \n",
    "\n",
    "- **Simple models** like Logistic Regression and Naive Bayes provide **baseline performance** for classification.  \n",
    "- **Tree-based models** (Decision Tree, Random Forest, Extra Trees) are **interpretable and handle non-linearity well**.  \n",
    "- **Ensemble methods** (Bagging, Boosting, XGBoost, CatBoost, LightGBM) enhance **model accuracy and robustness**.  \n",
    "- **SVM and k-NN** work well for **high-dimensional and structured data**, respectively.  \n",
    "\n",
    "By initializing multiple models, this approach allows for **comparative evaluation** to determine the best-performing classifier for a given dataset."
   ]
  },
  {
   "cell_type": "code",
   "execution_count": null,
   "id": "ea4a8e79-0eec-4b7e-9873-725d07465883",
   "metadata": {},
   "outputs": [],
   "source": [
    "# Initializing various machine learning models for classification\n",
    "\n",
    "# Support Vector Machine (SVM) classifier\n",
    "svc = SVC()  # Uses hyperplanes to separate classes, effective for high-dimensional data\n",
    "\n",
    "# k-Nearest Neighbors (KNN) classifier\n",
    "knc = KNeighborsClassifier()  # Classifies based on the nearest neighbors in feature space\n",
    "\n",
    "# Naive Bayes classifier (Multinomial Naive Bayes)\n",
    "mnb = MultinomialNB()  # Probabilistic classifier best suited for text and categorical data\n",
    "\n",
    "# Decision Tree classifier\n",
    "dtc = DecisionTreeClassifier()  # Splits data into decision nodes for classification\n",
    "\n",
    "# Logistic Regression classifier\n",
    "lrc = LogisticRegression()  # Linear model for binary/multi-class classification, outputs probability scores\n",
    "\n",
    "# Random Forest classifier\n",
    "rfc = RandomForestClassifier()  # Ensemble model that builds multiple decision trees and averages results\n",
    "\n",
    "# AdaBoost classifier (Adaptive Boosting)\n",
    "abc = AdaBoostClassifier()  # Sequentially trains weak models and adjusts weights to improve performance\n",
    "\n",
    "# Bagging classifier\n",
    "bc = BaggingClassifier()  # Uses bootstrap aggregation to reduce variance and improve stability\n",
    "\n",
    "# Extra Trees classifier\n",
    "etc = ExtraTreesClassifier()  # Similar to Random Forest but uses more randomness in feature splits\n",
    "\n",
    "# Gradient Boosting Decision Trees (GBDT) classifier\n",
    "gbdt = GradientBoostingClassifier()  # Sequentially builds trees to correct errors from previous trees\n",
    "\n",
    "# XGBoost classifier\n",
    "xgb = XGBClassifier()  # Optimized implementation of gradient boosting with better performance\n",
    "\n",
    "# CatBoost classifier\n",
    "cat = CatBoostClassifier(verbose=0)  # Boosting algorithm optimized for categorical features, silenced output\n",
    "\n",
    "# LightGBM (Light Gradient Boosting Machine) classifier\n",
    "lgb = lgb.LGBMClassifier()  # Gradient boosting model optimized for speed and efficiency"
   ]
  },
  {
   "cell_type": "markdown",
   "id": "2beaecb5-e12e-4dbf-852b-9c39981c1a3c",
   "metadata": {},
   "source": [
    "The selected models in this dictionary represent a **balanced mix of traditional and advanced machine learning algorithms**, chosen for their distinct strengths in classification tasks:  \n",
    "\n",
    "- **k-Nearest Neighbors (KNN)** is included as a **baseline distance-based model**, which is simple yet effective for small to medium-sized datasets with well-defined patterns.  \n",
    "- **XGBoost (XGB)** is a **highly optimized gradient boosting algorithm**, known for its **speed, scalability, and superior predictive performance**, making it ideal for complex datasets.  \n",
    "- **CatBoost (CAT)** is selected for its ability to **handle categorical variables natively**, reducing preprocessing overhead while improving accuracy.  \n",
    "- **LightGBM (LGB)** is chosen for its **efficient training on large datasets**, leveraging histogram-based feature selection to significantly reduce memory usage and computation time.  \n",
    "\n",
    "By including **both traditional and advanced gradient boosting models**, this selection ensures that we evaluate a mix of **interpretability, efficiency, and predictive power**, ultimately allowing us to find the best-performing classifier for our dataset. "
   ]
  },
  {
   "cell_type": "code",
   "execution_count": null,
   "id": "ab1c83f4-564a-487a-95f9-2942e1c0362b",
   "metadata": {},
   "outputs": [],
   "source": [
    "# Creating a dictionary of selected classification models for training and evaluation\n",
    "clf = {\n",
    "    'KN' : knc,   # k-Nearest Neighbors (KNN) - A distance-based classifier that works well with smaller datasets\n",
    "    'xgb': xgb,   # XGBoost - A high-performance gradient boosting model, optimized for speed and accuracy\n",
    "    'cat': cat,   # CatBoost - A gradient boosting model specialized for handling categorical features efficiently\n",
    "    'lgb': lgb    # LightGBM - A fast, efficient gradient boosting model for large datasets\n",
    "}"
   ]
  },
  {
   "cell_type": "markdown",
   "id": "b9678540-80c8-41c1-95aa-65bb08a0741d",
   "metadata": {},
   "source": [
    "The following function **trains and evaluates a classification model** using multiple performance metrics and visualizations. It fits the model to the training data, makes predictions on the test set, and leverages custom functions to calculate and display key metrics, including **accuracy, precision, recall, AUC score, and specificity**. The function also generates a **confusion matrix** for assessing classification performance and plots an **ROC curve** to visualize the trade-off between true positive and false positive rates. By structuring the evaluation process with modular functions, the code ensures a comprehensive and standardized approach to assessing model performance."
   ]
  },
  {
   "cell_type": "code",
   "execution_count": null,
   "id": "142d3d86-44fe-4ee7-a90c-36d00d840ca0",
   "metadata": {},
   "outputs": [],
   "source": [
    "# Importing required libraries\n",
    "from sklearn.metrics import accuracy_score, precision_score, recall_score, confusion_matrix\n",
    "\n",
    "# Function to train and evaluate a classifier with integrated custom functions\n",
    "def train_classifier(clf, X_train, y_train, X_test, y_test):\n",
    "    # Train the model\n",
    "    clf.fit(X_train, y_train)\n",
    "\n",
    "    # Make predictions on the test set\n",
    "    y_pred = clf.predict(X_test)\n",
    "    y_pred_prob = clf.predict_proba(X_test)  # Get probabilities for ROC curve calculation\n",
    "\n",
    "    # Use the custom function to calculate all relevant metrics\n",
    "    calculateMetricsAndPrint(y_pred, y_pred_prob, y_test)\n",
    "\n",
    "    # Plot confusion matrix using the custom function\n",
    "    plot_conf_mat(clf, X_test, y_test)\n",
    "\n",
    "    # Plot ROC Curve using the custom function\n",
    "    plot_roc_curve(y_test, [item[1] for item in y_pred_prob])\n",
    "\n",
    "    # Return predictions for further analysis if needed\n",
    "    return y_pred"
   ]
  },
  {
   "cell_type": "markdown",
   "id": "767e973c-4f97-4788-8d84-7deec46d2c29",
   "metadata": {},
   "source": [
    "This function **trains and evaluates a classification model** using multiple performance metrics and visualizations. It fits the model to the training data, makes predictions on the test set, and leverages custom functions to calculate and display key metrics, including **accuracy, precision, recall, AUC score, and specificity**. The function also generates a **confusion matrix** for assessing classification performance and plots an **ROC curve** to visualize the trade-off between true positive and false positive rates. By structuring the evaluation process with modular functions, the code ensures a comprehensive and standardized approach to assessing model performance."
   ]
  },
  {
   "cell_type": "code",
   "execution_count": null,
   "id": "5873b072-1da8-48d5-8f9f-bf8d1d850093",
   "metadata": {},
   "outputs": [],
   "source": [
    "# Dropping columns with NaN (missing) values in the training dataset\n",
    "X_new = X_new.drop(\n",
    "    columns=[col for col in X_new.columns if pd.isna(col)],  # Identifies columns with NaN values\n",
    "    axis=1  # Specifies that columns (not rows) should be removed\n",
    ")\n",
    "\n",
    "# Dropping columns with NaN (missing) values in the test dataset\n",
    "X_new_test = X_new_test.drop(\n",
    "    columns=[col for col in X_new_test.columns if pd.isna(col)],  # Identifies columns with NaN values\n",
    "    axis=1  # Specifies column removal\n",
    ")"
   ]
  },
  {
   "cell_type": "code",
   "execution_count": null,
   "id": "d3228f26-1c41-42ba-85b7-3d4442465ed6",
   "metadata": {
    "scrolled": true
   },
   "outputs": [],
   "source": [
    "!pip install tabulate"
   ]
  },
  {
   "cell_type": "code",
   "execution_count": null,
   "id": "94f5b62d-46d6-4968-95fb-f71b69ff3885",
   "metadata": {},
   "outputs": [],
   "source": [
    "# Import the `tabulate` library to format results in a table\n",
    "from tabulate import tabulate\n",
    "\n",
    "# Initialize an empty list to store performance metrics for different models\n",
    "results = []\n",
    "\n",
    "# Loop through each classifier in the dictionary `clf`, train it, and evaluate performance\n",
    "for name, model in clf.items():\n",
    "    print(f\"\\n🔹 Training {name} Model...\\n\")  # Print the model name being trained\n",
    "\n",
    "    # Train the classifier and get predictions\n",
    "    y_pred = train_classifier(model, X_new, y_train, X_new_test, y_test)\n",
    "\n",
    "    # Get predicted probabilities for the ROC curve\n",
    "    y_pred_prob = model.predict_proba(X_new_test)\n",
    "\n",
    "    # Compute performance metrics for evaluation\n",
    "    accuracy = accuracy_score(y_test, y_pred)  # Overall accuracy of the model\n",
    "    precision = precision_score(y_test, y_pred)  # Precision (Positive Predictive Value)\n",
    "    recall = recall_score(y_test, y_pred)  # Recall (True Positive Rate)\n",
    "    \n",
    "    # Extract True Negatives (TN), False Positives (FP), False Negatives (FN), and True Positives (TP)\n",
    "    tn, fp, fn, tp = confusion_matrix(y_test, y_pred).ravel()\n",
    "    specificity = tn / (tn + fp)  # Compute specificity (True Negative Rate)\n",
    "\n",
    "    # Store results in the list with formatted floating-point numbers\n",
    "    results.append([name, f\"{accuracy:.4f}\", f\"{precision:.4f}\", f\"{recall:.4f}\", f\"{specificity:.4f}\"])\n",
    "\n",
    "    # Display a completion message for each model after training\n",
    "    print(f\"{name} model completed.\\n\")\n",
    "\n",
    "# Print a formatted summary table of all model results\n",
    "print(\"\\n📊 **Model Performance Summary** 📊\\n\")\n",
    "print(tabulate(results, headers=[\"Model\", \"Accuracy\", \"Precision\", \"Recall\", \"Specificity\"], tablefmt=\"fancy_grid\"))"
   ]
  },
  {
   "cell_type": "markdown",
   "id": "dfa849ad-bb42-4032-af70-460b714f1e25",
   "metadata": {},
   "source": [
    "### **Key Takeaways from the Model Performance Summary**  \n",
    "\n",
    "1. **Gradient Boosting Models Outperform k-Nearest Neighbors (KNN)**  \n",
    "   - **XGBoost (`xgb`), CatBoost (`cat`), and LightGBM (`lgb`)** all have significantly higher accuracy (~94%) compared to **KNN (`KN`)**, which only achieved **79.43% accuracy**.  \n",
    "   - This suggests that **ensemble boosting methods** are much more effective for this dataset than distance-based classification.  \n",
    "\n",
    "2. **Precision is Highest for Boosting Models**  \n",
    "   - **CatBoost (`cat`) and LightGBM (`lgb`)** have the highest precision values (**0.9852 and 0.9869, respectively**), meaning they make fewer false positive predictions.  \n",
    "   - KNN has the **lowest precision (0.5565)**, indicating it has a higher tendency to incorrectly classify negative cases as positive.  \n",
    "\n",
    "3. **Recall Differences Show Trade-offs**  \n",
    "   - **XGBoost (`xgb`) has the highest recall (0.7572)**, meaning it correctly identifies most of the actual positives.  \n",
    "   - **CatBoost (`cat`) and LightGBM (`lgb`)** have slightly lower recall scores (~0.75 and 0.7291, respectively), meaning they may miss more positives compared to XGBoost.  \n",
    "   - **KNN (`KN`) has the lowest recall (0.2613)**, which means it fails to capture a significant number of actual positive cases.  \n",
    "\n",
    "4. **Specificity is Strong Across All Models**  \n",
    "   - All models have very high **specificity (> 0.94)**, meaning they correctly classify negative cases well.  \n",
    "   - **LightGBM (`lgb`) has the highest specificity (0.9973)**, indicating it makes very few false positive errors.  \n",
    "\n",
    "### **Final Thoughts**  \n",
    "✅ **XGBoost is the best overall model**, balancing **high recall (0.7572)** with strong precision and accuracy.  \n",
    "✅ **CatBoost and LightGBM perform similarly**, excelling in **precision** and **specificity**, making them ideal if false positives need to be minimized.  \n",
    "❌ **KNN performs the worst**, with **low recall and precision**, making it unsuitable for this dataset.  "
   ]
  },
  {
   "cell_type": "markdown",
   "id": "e17317f5-f32d-4db9-a747-10d5f956c6a9",
   "metadata": {},
   "source": [
    "In the context of loan default prediction, two key factors come into play: the potential financial impact of missed loan defaults and the risk of denying loans to trustworthy applicants.\n",
    "\n",
    "1- Recall (Sensitivity): Recall measures how well the model identifies actual loan defaults. For lenders, missing a loan that eventually defaults can lead to significant financial losses. Thus, achieving a high Recall is essential because it ensures that most potential default cases are detected, minimizing the risk of financial setbacks.\n",
    "\n",
    "2- Specificity: Specificity gauges the model's accuracy in identifying loans that won't default. Misclassifying a reliable borrower as a potential defaulter (false positive) can result in lost business opportunities. By emphasizing high Specificity, the model aims to avoid misclassifications that could deny loans to credible applicants.\n",
    "\n",
    "3- Precision: Precision is a key metric as it evaluates the accuracy of positive predictions. Lenders need to avoid false positives (incorrectly predicting defaults) to prevent unwarranted actions. Maintaining high Precision ensures that when the model predicts a default, it's highly likely to be accurate. This protects the lender from unnecessary costs and safeguards borrower relationships."
   ]
  },
  {
   "cell_type": "markdown",
   "id": "d406bf43-da9a-4cb1-a4bf-fda2bd5fe41a",
   "metadata": {},
   "source": [
    "### Hyperparameter Optimizing with Optuna on an XGBClassifier"
   ]
  },
  {
   "cell_type": "markdown",
   "id": "009a52a3-21e4-4ae2-a8e9-beb596619b62",
   "metadata": {},
   "source": [
    "The following code **automates hyperparameter tuning and training of an XGBoost classifier using Optuna** to maximize the **AUC score** while addressing class imbalance.  \n",
    "\n",
    "- **Handles categorical variables** by encoding them with **one-hot encoding**, ensuring compatibility with XGBoost.  \n",
    "- **Optimizes hyperparameters** dynamically using **Optuna**, searching for the best combination through an intelligent, automated process.  \n",
    "- **Incorporates automatic class balancing** using **`scale_pos_weight`**, allowing the model to handle imbalanced datasets more effectively.  \n",
    "- **Reduces computation time** by **checking for an existing trained model**, loading it if available, and skipping redundant retraining.  \n",
    "- **Ensures efficient feature alignment**, preventing mismatches between training and test datasets after encoding.  \n",
    "- **Improves predictive performance** by **automatically selecting optimal hyperparameters**, refining the model for better accuracy, recall, and precision.  \n",
    "- **Uses AUC as the optimization metric**, ensuring the classifier is well-calibrated for distinguishing between classes, reducing false negatives, and enhancing decision-making.  \n",
    "\n",
    "By integrating **Optuna for hyperparameter tuning** and **automatic class balancing**, this approach **eliminates manual tuning, enhances generalization, and ensures a fully automated, efficient, and high-performing machine learning pipeline**. "
   ]
  },
  {
   "cell_type": "code",
   "execution_count": null,
   "id": "6d218207-bacb-4b6d-bd6b-605887f19f74",
   "metadata": {
    "scrolled": true
   },
   "outputs": [],
   "source": [
    "# Import required libraries\n",
    "import optuna  # Optuna for hyperparameter optimization\n",
    "import os  # To check for saved models\n",
    "import pickle  # To save and load models\n",
    "import logging  # Logging to suppress excessive output\n",
    "# Suppress detailed trial outputs, only show important messages\n",
    "optuna.logging.set_verbosity(optuna.logging.WARNING)\n",
    "\n",
    "# Identify categorical features to encode\n",
    "cat_features = [\n",
    "    \"person_home_ownership\", \"loan_intent\", \"loan_grade\",\n",
    "    \"cb_person_default_on_file\", \"age_group\", \"income_group\", \"loan_amount_group\"\n",
    "]\n",
    "\n",
    "# Convert categorical features into numerical representations using one-hot encoding\n",
    "x_train = pd.get_dummies(x_train, columns=cat_features)\n",
    "x_test = pd.get_dummies(x_test, columns=cat_features)\n",
    "\n",
    "# Ensure both train and test datasets have the same columns after encoding\n",
    "x_train, x_test = x_train.align(x_test, join='left', axis=1, fill_value=0)\n",
    "\n",
    "# Compute `scale_pos_weight` to handle class imbalance (ratio of negative to positive cases)\n",
    "num_negatives = np.sum(y_train == 0)\n",
    "num_positives = np.sum(y_train == 1)\n",
    "scale_pos_weight = num_negatives / num_positives  # Weighting factor for positive class\n",
    "\n",
    "# File name for the saved model\n",
    "filename = \"final_xgboost.sav\"\n",
    "\n",
    "# Check if a pre-trained model exists, and load it if available\n",
    "if os.path.exists(filename):\n",
    "    print(f\"'{filename}' found. Loading the model and skipping training...\")\n",
    "    with open(filename, \"rb\") as file:\n",
    "        loaded_model = pickle.load(file)\n",
    "    print(\"Model loaded successfully. You are now ready to analyze.\")\n",
    "else:\n",
    "    print(f\"'{filename}' not found. Training a new model...\")\n",
    "\n",
    "    # Objective function for optimizing AUC using Optuna\n",
    "    def optimize_auc(trial):\n",
    "        # Define hyperparameter search space for XGBoost, including `scale_pos_weight`\n",
    "        param = {\n",
    "            'n_estimators': trial.suggest_int('n_estimators', 100, 1000),  # Number of boosting rounds\n",
    "            'max_depth': trial.suggest_int('max_depth', 2, 10),  # Maximum tree depth\n",
    "            'learning_rate': trial.suggest_float('learning_rate', 0.01, 0.3),  # Learning rate\n",
    "            'subsample': trial.suggest_float('subsample', 0.5, 1.0),  # Row sampling\n",
    "            'colsample_bytree': trial.suggest_float('colsample_bytree', 0.5, 1.0),  # Feature sampling\n",
    "            'reg_lambda': trial.suggest_float('reg_lambda', 1.0, 10.0),  # L2 regularization\n",
    "            'reg_alpha': trial.suggest_float('reg_alpha', 0.0, 10.0),  # L1 regularization\n",
    "            'gamma': trial.suggest_float('gamma', 0.0, 5.0),  # Minimum loss reduction\n",
    "            'min_child_weight': trial.suggest_int('min_child_weight', 1, 10),  # Minimum sum of weights for child nodes\n",
    "            'scale_pos_weight': trial.suggest_float('scale_pos_weight', scale_pos_weight * 0.5, scale_pos_weight * 1.5)  # Adjust class balancing\n",
    "        }\n",
    "\n",
    "        # Train the XGBoost model using the suggested hyperparameters\n",
    "        model = XGBClassifier(\n",
    "            **param,\n",
    "            random_state=42,\n",
    "            eval_metric='auc',  # Use AUC as evaluation metric\n",
    "            use_label_encoder=False  # Avoids unnecessary warning messages\n",
    "        )\n",
    "        model.fit(x_train, y_train)\n",
    "\n",
    "        # Predict probabilities for AUC calculation\n",
    "        predictions_proba = model.predict_proba(x_test)[:, 1]  # Probability of class 1\n",
    "\n",
    "        # Compute AUC score (maximize AUC)\n",
    "        return roc_auc_score(y_test, predictions_proba)  # Optuna automatically maximizes this metric\n",
    "\n",
    "    # Create an Optuna study to optimize AUC\n",
    "    study = optuna.create_study(direction='maximize')\n",
    "    study.optimize(optimize_auc, n_trials=50, show_progress_bar=True)  # Show progress bar\n",
    "\n",
    "    # Get best hyperparameters found by Optuna\n",
    "    print(\"Best hyperparameters:\", study.best_params)\n",
    "    best_params = study.best_params\n",
    "\n",
    "    # Train the final model with the best hyperparameters and auto-balancing\n",
    "    loaded_model = XGBClassifier(\n",
    "        **best_params,\n",
    "        random_state=42,\n",
    "        eval_metric='auc',\n",
    "        use_label_encoder=False\n",
    "    )\n",
    "    loaded_model.fit(x_train, y_train)\n",
    "\n",
    "    # Save the trained model to avoid retraining in the future\n",
    "    with open(filename, \"wb\") as file:\n",
    "        pickle.dump(loaded_model, file)\n",
    "    print(f\"Model trained and saved as '{filename}'.\")\n",
    "\n",
    "# Load the final trained model (either newly trained or pre-saved)\n",
    "final_xgboost = pickle.load(open(filename, \"rb\"))"
   ]
  },
  {
   "cell_type": "code",
   "execution_count": null,
   "id": "a76e2eb8-f576-44d7-b92c-e9ac89ca443a",
   "metadata": {},
   "outputs": [],
   "source": [
    "predictedProbabilities = final_xgboost.predict_proba(x_test)\n",
    "predictedLabels = final_xgboost.predict(x_test) \n",
    "calculateMetricsAndPrint(predictedLabels, predictedProbabilities, y_test)"
   ]
  },
  {
   "cell_type": "code",
   "execution_count": null,
   "id": "59445361-73d0-4df3-a533-d41aeeb09955",
   "metadata": {},
   "outputs": [],
   "source": [
    "plot_conf_mat(final_xgboost, # The classifier object\n",
    "              x_test, # The test data set aside for evaluation in train_test_split\n",
    "              y_test # Actual labels\n",
    "             )"
   ]
  },
  {
   "cell_type": "code",
   "execution_count": null,
   "id": "815de9a0-4eef-4fb5-846f-33d188b7353b",
   "metadata": {},
   "outputs": [],
   "source": [
    "print(\"F1 Score:\",f1_score(y_test, predictedLabels, average='micro'))"
   ]
  },
  {
   "cell_type": "code",
   "execution_count": null,
   "id": "37c9707c-9b8b-414e-8611-0e179fdea93f",
   "metadata": {},
   "outputs": [],
   "source": [
    "positiveProbabilities = predictedProbabilities[:,1]"
   ]
  },
  {
   "cell_type": "code",
   "execution_count": null,
   "id": "d949caa4-68ba-4964-8177-9211e004ba48",
   "metadata": {},
   "outputs": [],
   "source": [
    "plot_roc_curve(y_test, # Actual labels\n",
    "               positiveProbabilities, # Prediction scores for the positive class\n",
    "               pos_label = 1 # Indicate the label that corresponds to the positive class\n",
    "              )"
   ]
  },
  {
   "cell_type": "code",
   "execution_count": null,
   "id": "235709a2-af31-40af-9e5f-fe537dd75065",
   "metadata": {},
   "outputs": [],
   "source": [
    "log_loss(y_test,positiveProbabilities)"
   ]
  },
  {
   "cell_type": "markdown",
   "id": "397c51cd-b293-4807-9327-0791d19a2fa8",
   "metadata": {},
   "source": [
    "The **Optuna-tuned XGBoost classifier** demonstrates **strong overall performance**, achieving **94.50% accuracy** with a high **AUC score of 96.82**, indicating excellent discriminatory power between classes.  \n",
    "\n",
    "- **Precision & Recall Tradeoff:**  \n",
    "  - The model is **highly precise** in predicting both **negative cases (93.89%)** and **positive cases (97.45%)**, meaning it correctly identifies most of its predictions.  \n",
    "  - **Recall for negatives is extremely high (99.44%)**, indicating it correctly classifies nearly all non-defaulting loans.  \n",
    "  - **Recall for positives (76.69%)** is lower, meaning **some defaulting loans are missed (false negatives)** but still captured at a reasonable rate.  \n",
    "\n",
    "- **Confusion Matrix Analysis:**  \n",
    "  - The model correctly predicts **4,458 non-default cases** while misclassifying **only 25** as defaults (very low false positives).  \n",
    "  - Among actual default cases, it correctly identifies **954** defaults but **misses 290**, meaning it sometimes underestimates risk.  \n",
    "\n",
    "- **Log Loss (0.1563):**  \n",
    "  - The low log loss suggests the model makes **confident and well-calibrated predictions**, reinforcing its robustness.  \n",
    "\n",
    "### **Conclusion**  \n",
    "This **XGBoost model is highly reliable** in predicting loan outcomes, particularly **avoiding false positives**, which is crucial in lending. However, the **recall for defaults (76.69%) could be improved** to ensure more risky loans are flagged. Strategies like **adjusting the decision threshold** or using **cost-sensitive learning** may help balance false negatives and false positives better. "
   ]
  },
  {
   "cell_type": "markdown",
   "id": "5fec4cc8-093f-4a63-a5df-23affd3ebb9b",
   "metadata": {},
   "source": [
    "## AutoML"
   ]
  },
  {
   "cell_type": "markdown",
   "id": "a3a5f9bd-f77b-431d-82f2-88d06e729ab9",
   "metadata": {},
   "source": [
    "To further improve model performance, we will utilize **AutoML with Optuna**, which excels in **hyperparameter tuning, ensemble learning, and automated feature selection**. AutoML techniques, combined with Optuna’s efficient **Tree-structured Parzen Estimators (TPE) optimization**, allow us to build a more **robust and adaptive model** while minimizing manual effort.\n",
    "\n",
    "### **Why AutoML is Effective for Ensembles & Feature Selection**\n",
    "✅ **Optimized Hyperparameter Tuning** – AutoML dynamically searches for the best hyperparameters across multiple ensemble models (e.g., **XGBoost, LightGBM, and CatBoost**) without requiring exhaustive grid searches.  \n",
    "✅ **Stacking & Blending** – AutoML can combine multiple models to form powerful ensembles, leveraging the strengths of each algorithm to maximize performance.  \n",
    "✅ **Automated Feature Selection** – AutoML identifies **high-impact features** and removes redundant ones, ensuring the model focuses on the most predictive variables.  \n",
    "✅ **Golden Feature Generation** – AutoML **creates new synthetic features** by combining existing ones, uncovering hidden patterns in the data that may improve classification accuracy.  \n",
    "✅ **Handling Imbalanced Data** – AutoML optimizes techniques like **class weighting and sampling strategies** to balance false positives and false negatives, reducing bias.  \n",
    "\n",
    "By implementing **AutoML with Optuna**, we aim to **refine feature selection, enhance ensemble learning, and fine-tune hyperparameters** to create a high-performing, well-generalized model. "
   ]
  },
  {
   "cell_type": "code",
   "execution_count": null,
   "id": "3d72f733-a4a1-4e6e-a271-31e979cbbd3b",
   "metadata": {
    "scrolled": true
   },
   "outputs": [],
   "source": [
    "!pip install mljar-supervised"
   ]
  },
  {
   "cell_type": "code",
   "execution_count": null,
   "id": "56f040f7-c4a1-4cf1-a081-891d7f0d4068",
   "metadata": {},
   "outputs": [],
   "source": [
    "from supervised.automl import AutoML"
   ]
  },
  {
   "cell_type": "code",
   "execution_count": null,
   "id": "cc0b37c0-ee05-4be4-a7e5-83ae9fad9446",
   "metadata": {},
   "outputs": [],
   "source": [
    "import pickle\n",
    "import os\n",
    "from supervised.automl import AutoML  # Ensure correct import\n",
    "\n",
    "filename = \"automl.sav\"\n",
    "\n",
    "# Check if the model file exists\n",
    "if os.path.exists(filename):\n",
    "    print(f\"'{filename}' found. Loading the model and skipping training...\")\n",
    "    with open(filename, \"rb\") as file:\n",
    "        loaded_model = pickle.load(file)\n",
    "    print(\"Model loaded successfully. You are now ready to analyze.\")\n",
    "else:\n",
    "    print(f\"'{filename}' not found. Training a new model...\")\n",
    "\n",
    "    # Initialize AutoML\n",
    "    automl = AutoML(\n",
    "        mode=\"Optuna\", \n",
    "        eval_metric=\"auc\",\n",
    "        algorithms=[\"LightGBM\", \"Xgboost\", \"CatBoost\"],  # Ensure correct algorithm names\n",
    "        optuna_time_budget=100,   # Tune each algorithm for 30 minutes\n",
    "        total_time_limit=100,  # Total time limit\n",
    "        features_selection=True,  \n",
    "        mix_encoding=False,\n",
    "        golden_features=True,\n",
    "        kmeans_features=False\n",
    "    )\n",
    "\n",
    "    # Ensure trainData and trainLabels exist before fitting\n",
    "    try:\n",
    "        automl.fit(x_train, y_train)\n",
    "    except NameError as e:\n",
    "        print(f\"Error: {e}. Ensure trainData and trainLabels are defined.\")\n",
    "        exit()\n",
    "\n",
    "    # Save the trained model\n",
    "    with open(filename, \"wb\") as file:\n",
    "        pickle.dump(automl, file)\n",
    "    print(f\"Model trained and saved as '{filename}'.\")\n",
    "automl = pickle.load(open(filename, \"rb\"))"
   ]
  },
  {
   "cell_type": "code",
   "execution_count": null,
   "id": "704b7618-42d2-49e1-9fd3-f8f2c04e5380",
   "metadata": {},
   "outputs": [],
   "source": [
    "automl.report()"
   ]
  },
  {
   "cell_type": "markdown",
   "id": "a82213af-5e1d-4b7b-acf5-d9916b3d73ef",
   "metadata": {},
   "source": [
    "### **Key Insights from Leaderboard Table:**\n",
    "- **Top Models**: \n",
    "  - The best model overall is the **Ensemble Stacked** model, achieving the highest **AUC score of 0.9684**, indicating it is the most **effective in distinguishing between classes**.  \n",
    "  - **XGBoost**, **CatBoost**, and **LightGBM** models also perform very well, with AUC scores ranging between **0.9555** and **0.9630**, suggesting they provide strong predictive power for loan classification.\n",
    "\n",
    "### **Interpretation Based on Loan Data Context**:\n",
    "1. **AUC Score**:\n",
    "   - A **higher AUC score** indicates better model performance in predicting the classes (likely loan defaults or approvals) in an imbalanced dataset. Since **AUC** measures the true positive rate (recall) against the false positive rate, these models are **very well-calibrated for distinguishing between defaulting and non-defaulting loans**.\n",
    "   - The **Ensemble Stacked** model outperforms others, likely by combining the strengths of the **base models (XGBoost, CatBoost, LightGBM)**, which are all strong in their handling of high-dimensional data and feature interactions.\n",
    "\n",
    "2. **Boxplot and Scatter Plot**:\n",
    "   - From the **boxplot**, it's evident that **XGBoost** and **CatBoost** models have **lower variance** in performance compared to LightGBM. This suggests that **XGBoost and CatBoost are more consistent** across different training/test splits.\n",
    "   - The **scatter plot** shows a **clear trend** where **XGBoost** has a steady improvement in performance with more iterations, while **LightGBM** starts off slower but converges to a competitive performance.\n",
    "\n",
    "3. **Model Selection for Loan Data**:\n",
    "   - The **Ensemble Stacked model** seems ideal if we aim for the **best overall predictive performance** for loan outcomes.\n",
    "   - **XGBoost** and **CatBoost** are strong candidates for models requiring **speed and accuracy** (e.g., **real-time loan decision-making**).\n",
    "   - **LightGBM** is also highly efficient and could be useful for scenarios requiring **scalability** across larger datasets or real-time environments.\n",
    "\n",
    "### **Conclusion**:\n",
    "- **Ensemble Stacked** emerges as the **best performing model** with the highest AUC, making it ideal for loan classification tasks where **accuracy and precision are critical**.\n",
    "- **XGBoost**, **CatBoost**, and **LightGBM** are highly competitive models with minimal variance and can be considered based on specific use cases (e.g., speed, data size, or model complexity)."
   ]
  },
  {
   "cell_type": "markdown",
   "id": "02ee9e19-19d1-4dea-880e-8da5f639df5b",
   "metadata": {},
   "source": [
    "## Business Insights"
   ]
  },
  {
   "cell_type": "markdown",
   "id": "12eac196-5730-4089-9e51-f2c6890da86f",
   "metadata": {},
   "source": [
    "### **Adjusting the Threshold Based on Business Needs**\n",
    "- **False Positives (FP)**: These occur when the model incorrectly predicts a **loan will default (1)** when it actually does **not default (0)**. Minimizing **false positives** is important if the business aims to **avoid issuing loans to individuals who are unlikely to default**, thereby preventing unnecessary financial risk.\n",
    "  \n",
    "- **False Negatives (FN)**: These occur when the model incorrectly predicts a **loan will not default (0)** when it actually **defaults (1)**. Minimizing **false negatives** is crucial if the business wants to **ensure no profitable loans are missed**, meaning loans that should have been flagged as risky should not be approved.\n",
    "\n",
    "---\n",
    "\n",
    "### **Evaluation at Different Thresholds**\n",
    "After adjusting the decision threshold:\n",
    "- Lowering the threshold (e.g., from 0.5 to 0.3) would make the model **more lenient**, increasing the likelihood of **approving loans for risky individuals (false positives)**, but **reducing the chance of missing risky loans** (false negatives).\n",
    "- Raising the threshold (e.g., from 0.5 to 0.7) would make the model **more conservative**, **reducing the number of false positives**, but it could **increase the number of missed defaults** (false negatives)."
   ]
  },
  {
   "cell_type": "markdown",
   "id": "aa14af89-5949-4e36-bd90-68fa2724300a",
   "metadata": {},
   "source": [
    "### Hypothetical Costs of False Positives (FP) and False Negatives (FN) in Loan Default Prediction\n",
    "\n",
    "When predicting **loan status** (default or non-default), the costs of **false positives (FP)** and **false negatives (FN)** are significant for financial institutions. These costs are often associated with the **risk** of losing money or **missing profitable opportunities**. Below are some potential hypothetical costs:\n",
    "\n",
    "### **1. False Positives (FP) - Predicted Default but No Default**\n",
    "A **false positive** occurs when a loan is predicted to default (1) when it actually does not (0). The business mistakenly identifies a safe borrower as a risk, which leads to unnecessary actions.\n",
    "\n",
    "#### **Hypothetical Costs of FP:**\n",
    "- **Loan Denial or Higher Interest Rates**:  \n",
    "  - The borrower might be denied the loan or offered a higher interest rate, leading to **customer dissatisfaction** and potential **loss of future business**.  \n",
    "  - **Cost Example**: The **loss of a customer** could result in **$5,000** in missed loan revenue (e.g., interest payments over the term of the loan).\n",
    "  \n",
    "- **Operational Costs for Reassessment**:  \n",
    "  - The financial institution might need to **reassess the loan**, leading to **extra processing costs** (e.g., hours spent reviewing the decision, customer communication).\n",
    "  - **Cost Example**: The **operational cost** of reassessing the loan could be **$500 per false positive**.\n",
    "\n",
    "- **Reputational Damage**:  \n",
    "  - A high **rate of loan denials** due to over-predicting defaults could damage the bank’s **reputation**, potentially leading to a **loss of trust** and **customers**.\n",
    "  - **Cost Example**: **$10,000** in lost revenue due to reputational damage and loss of customers.\n",
    "\n",
    "### **2. False Negatives (FN) - Predicted Non-Default but Default Occurs**\n",
    "A **false negative** happens when a loan is predicted to **not default (0)**, but it actually does (1). This results in the bank issuing a loan to a borrower who ultimately defaults.\n",
    "\n",
    "#### **Hypothetical Costs of FN:**\n",
    "- **Loan Losses**:  \n",
    "  - When a loan defaults, the lender **loses money**. The amount depends on the loan size and the severity of the default (whether the loan is secured or unsecured).\n",
    "  - **Cost Example**: The **loss in principal** could be substantial, e.g., a 50,000 loan that defaults might cost the bank **$50,000** in lost capital. This is especially costly if the borrower cannot repay or if collateral is insufficient.\n",
    "\n",
    "- **Recovery Costs**:  \n",
    "  - For **secured loans**, the lender may attempt to recover the amount by taking possession of the collateral. However, **repossession and recovery efforts** can be expensive and might not fully recover the loan value.\n",
    "  - **Cost Example**: The **repossession and legal costs** to recover the loan could be **$10,000** per defaulted loan.\n",
    "\n",
    "- **Operational and Collection Costs**:  \n",
    "  - For both **secured and unsecured loans**, the bank incurs **additional collection costs** (e.g., debt collection agencies, legal fees).\n",
    "  - **Cost Example**: The **collection costs** may be around **$2,000** for each defaulted loan that requires extensive collection efforts.\n",
    "\n",
    "- **Opportunity Costs**:  \n",
    "  - A false negative could mean that a **higher-risk borrower** was approved for a loan, which could have been **used by a more reliable borrower**.\n",
    "  - **Cost Example**: The **opportunity cost** of losing a **more reliable borrower** who could have been approved with that capital is difficult to quantify but could be substantial in terms of long-term customer value.\n",
    "\n",
    "---\n",
    "\n",
    "### **Summary of Hypothetical Costs**\n",
    "| Type of Error | Hypothetical Cost per Case | Description |\n",
    "|---------------|----------------------------|-------------|\n",
    "| **False Positive (FP)** | **5,000** | Missed loan revenue from denying a good customer. |\n",
    "| **False Positive (FP)** | **500** | Operational costs for reassessment. |\n",
    "| **False Positive (FP)** | **10,000** | Reputational damage and loss of customers. |\n",
    "| **False Negative (FN)** | **50,000** | Lost capital from a defaulted loan (unsecured). |\n",
    "| **False Negative (FN)** | **10,000** | Recovery costs (repossession and legal fees). |\n",
    "| **False Negative (FN)** | **2,000** | Collection and operational costs for default recovery. |\n"
   ]
  },
  {
   "cell_type": "markdown",
   "id": "5ea1a88e-2436-4907-a780-eefd2c5c5612",
   "metadata": {},
   "source": [
    "### **Hypothetical Costs of FP and FN** in Loan Default Prediction\n",
    "\n",
    "1. **False Positives (FP)**: When a **non-defaulting loan** is predicted as a default, the bank denies the loan, leading to lost opportunities.\n",
    "\n",
    "   - **Cost per False Positive (FP)**:\n",
    "     - **Lost loan revenue**: If the bank denies a **10,000 loan**, the **lost interest** over the loan term (e.g., 5 years) could be **2,000**.\n",
    "     - **Customer acquisition and retention cost**: Losing a customer could lead to missed revenue in future loan products, estimated at **500**.\n",
    "     - **Operational cost**: Time and resources spent reviewing and rejecting the loan could cost around **300**.\n",
    "\n",
    "     **Total FP Cost**: **2,800** (including lost interest, customer retention, and operational costs).\n",
    "\n",
    "2. **False Negatives (FN)**: When a **defaulting loan** is predicted as non-default, the bank approves the loan, leading to financial loss when the borrower defaults.\n",
    "\n",
    "   - **Cost per False Negative (FN)**:\n",
    "     - **Loan default**: If the bank approves a **10,000 loan** and the borrower defaults, the **financial loss** could be as high as **10,000** if no collateral is involved.\n",
    "     - **Recovery and collection costs**: Additional costs to recover the loan or attempt collection, such as legal fees and collection agency fees, could total around **2,500**.\n",
    "     - **Reputation cost**: If the default is widespread or significant, it could damage the bank's reputation, leading to **1,000** in lost future business.\n",
    "\n",
    "     **Total FN Cost**: **13,500** (including loan loss, collection efforts, and reputation damage).\n",
    "\n",
    "### **Threshold Adjustment**\n",
    "- **Minimizing False Positives**: In a scenario where the bank focuses on **reducing FP** to avoid rejecting valuable customers, it could incur an additional **2,800** per false positive but potentially **avoid losing a good loan**.\n",
    "  \n",
    "- **Minimizing False Negatives**: Focusing on **reducing FN** will protect the bank from **13,500** losses per false negative, ensuring that risky loans are not approved, but might result in rejecting **good loans**.\n",
    "\n",
    "### **Conclusion**\n",
    "- **False Positives (FP)**: **2,800** per misclassification.\n",
    "- **False Negatives (FN)**: **13,500** per misclassification.\n",
    "\n",
    "In this economic environment, where **loan defaults** can be quite costly, the bank may lean towards **minimizing false negatives** to prevent larger financial losses, but careful **threshold tuning** will be necessary to find the optimal balance between customer approval and risk management."
   ]
  },
  {
   "cell_type": "markdown",
   "id": "0606c060-1e00-4f20-ae26-1082ec621bc8",
   "metadata": {},
   "source": [
    "## Cost Benefit Analysis"
   ]
  },
  {
   "cell_type": "markdown",
   "id": "0551d6a0-3398-42ab-bbb4-a4e42df87606",
   "metadata": {},
   "source": [
    "Using this information, we can go ahead and conduct cost-benefit analysis. First, we estimate the cost or savings per cell in the confusion matrix:\n",
    "\n",
    "|       | Predicted 0 | Predicted 1     |\n",
    "| :---        |    :----:   |          ---: |\n",
    "| Actual 0      | No cost      | 2800 USD additional cost  |\n",
    "| Actual 1   | 13500 USD additional cost | No cost    |\n",
    "\n",
    "Before comparing the two models, let's estimate the costs associated with two naive models: "
   ]
  },
  {
   "cell_type": "code",
   "execution_count": null,
   "id": "8ef2fd95-d4db-4a86-9de7-592bdaf6b313",
   "metadata": {},
   "outputs": [],
   "source": [
    "import matplotlib.pyplot as plt\n",
    "import seaborn as sns\n",
    "\n",
    "f, ax = plt.subplots(1, 2, figsize=(18, 8))\n",
    "\n",
    "# Plot the pie chart\n",
    "data['loan_status'].value_counts().plot.pie(\n",
    "    explode=[0, 0.1], autopct='%1.1f%%', ax=ax[0], shadow=True\n",
    ")\n",
    "ax[0].set_title('loan_status')\n",
    "ax[0].set_ylabel('')\n",
    "\n",
    "# Plot the countplot\n",
    "sns.countplot(x='loan_status', data=data, ax=ax[1])\n",
    "ax[1].set_title('loan_status')\n",
    "\n",
    "# Adding count annotations on top of each bar in the countplot\n",
    "for p in ax[1].patches:\n",
    "    height = p.get_height()\n",
    "    ax[1].text(p.get_x() + p.get_width() / 2, height + 50,  # Adjust '50' for spacing\n",
    "               f'{height}', ha='center', va='center')\n",
    "\n",
    "plt.show()\n"
   ]
  },
  {
   "cell_type": "markdown",
   "id": "feeae67c-be09-437c-9d92-eb4250108970",
   "metadata": {},
   "source": [
    "#### Scenario 1: No predictive model:"
   ]
  },
  {
   "cell_type": "markdown",
   "id": "1c6897d5-a6f7-4678-9897-437e0870c734",
   "metadata": {},
   "source": [
    "|       | Predicted 0 | Predicted 1     |\n",
    "| :---        |    :----:   |          ---: |\n",
    "| Actual 0      | 22,429       | 0   |\n",
    "| Actual 1   | 6,202       | 0      |"
   ]
  },
  {
   "cell_type": "markdown",
   "id": "38fb04d0-d9f7-4f07-82a9-2b7be61b0f11",
   "metadata": {},
   "source": [
    "The cost associated with this model will be equal to:"
   ]
  },
  {
   "cell_type": "code",
   "execution_count": null,
   "id": "12971f60-cbe3-42d0-95ef-3087d6c92129",
   "metadata": {},
   "outputs": [],
   "source": [
    "13500*6202"
   ]
  },
  {
   "cell_type": "markdown",
   "id": "e2bb1854-e6e7-4caf-8f7c-a53589949ee8",
   "metadata": {},
   "source": [
    "#### Scenario 2: No predictive model:"
   ]
  },
  {
   "cell_type": "markdown",
   "id": "33052f40-f27a-4bb5-aa69-d09778f416c2",
   "metadata": {},
   "source": [
    "\n",
    "|       | Predicted 0 | Predicted 1     |\n",
    "| :---        |    :----:   |          ---: |\n",
    "| Actual 0      | 0       | 22,429   |\n",
    "| Actual 1   | 0       | 6,202      |\n",
    "\n",
    "The cost will be equal to:"
   ]
  },
  {
   "cell_type": "code",
   "execution_count": null,
   "id": "ed7407ed-8ba1-492f-9e6f-6070c774065c",
   "metadata": {},
   "outputs": [],
   "source": [
    "2800*22429"
   ]
  },
  {
   "cell_type": "markdown",
   "id": "0de3465c-cc81-45f3-a66d-c38903c59da7",
   "metadata": {},
   "source": [
    "If the bank predicts **non-defaults** for all loans, the cost will be about **62.8M USD**, which is significantly lower than the **83.7M USD** cost incurred by missing **defaults** (false negatives). This approach would reduce the financial losses by approximately **21M USD** compared to the status quo, where no predictive model is used. However, it is crucial to implement a balanced **predictive model** to further minimize both **false negatives** and **false positives** to reduce costs effectively."
   ]
  },
  {
   "cell_type": "markdown",
   "id": "d1559f65-560d-4724-b5bc-0ffd660936e6",
   "metadata": {},
   "source": [
    "## Adjust Threshold"
   ]
  },
  {
   "cell_type": "code",
   "execution_count": null,
   "id": "59bee1c1-5797-41d7-aede-858618b5240c",
   "metadata": {},
   "outputs": [],
   "source": [
    "def plot_conf_mat(clf, X_test, y_test, threshold=0.5):\n",
    "    # Get predicted probabilities for the positive class\n",
    "    y_proba = clf.predict_proba(X_test)[:, 1]\n",
    "    \n",
    "    # Apply the threshold to convert probabilities to binary predictions\n",
    "    y_pred = (y_proba >= threshold).astype(int)\n",
    "    \n",
    "    # Compute the confusion matrix\n",
    "    cm = confusion_matrix(y_test, y_pred)\n",
    "    \n",
    "    # Display the confusion matrix\n",
    "    disp = ConfusionMatrixDisplay(confusion_matrix=cm, display_labels=clf.classes_)\n",
    "    disp.plot(cmap=plt.cm.Blues)\n",
    "    plt.title(f'Confusion matrix with threshold={threshold}')\n",
    "    plt.show()"
   ]
  },
  {
   "cell_type": "code",
   "execution_count": null,
   "id": "7e240d54-a62d-4b2d-b352-440805a5efbb",
   "metadata": {},
   "outputs": [],
   "source": [
    "plot_conf_mat(final_xgboost, # The classifier object\n",
    "              x_test, # The test data set aside for evaluation in train_test_split\n",
    "              y_test # Actual labels\n",
    "             )"
   ]
  },
  {
   "cell_type": "markdown",
   "id": "47a6c34f-6de0-4c88-bc30-5a0c3901de3e",
   "metadata": {},
   "source": [
    "The cost will be equal to:"
   ]
  },
  {
   "cell_type": "code",
   "execution_count": null,
   "id": "550a3bf4-84c2-47df-8883-0669d3c7f567",
   "metadata": {},
   "outputs": [],
   "source": [
    "x_test.shape"
   ]
  },
  {
   "cell_type": "code",
   "execution_count": null,
   "id": "9fdded90-7797-4ea7-8e46-afe63ce8c5ea",
   "metadata": {},
   "outputs": [],
   "source": [
    "data.shape"
   ]
  },
  {
   "cell_type": "code",
   "execution_count": null,
   "id": "1c6b962d-3200-45b0-ab2b-bef37cd13fa2",
   "metadata": {},
   "outputs": [],
   "source": [
    "FP_Cost = (48 * 2800) * (28631/5727) #Extrapolate on total\n",
    "FN_Cost = (273 * 13500) * (28539/5812) #Extrapolate on total\n",
    "\n",
    "print(\"Total Cost = ${:.2f}\".format(FP_Cost + FN_Cost))"
   ]
  },
  {
   "cell_type": "code",
   "execution_count": null,
   "id": "0b39157b-e841-42a1-8885-d42ffa65ade2",
   "metadata": {},
   "outputs": [],
   "source": [
    "Scenario_1_3 = 83727000 - 18769030.10\n",
    "print(\"Savings compared to scenario 1: ${:.2f}\".format(Scenario_1_3))"
   ]
  },
  {
   "cell_type": "code",
   "execution_count": null,
   "id": "10e08a49-510a-456e-87e7-3a1125875deb",
   "metadata": {
    "scrolled": true
   },
   "outputs": [],
   "source": [
    "Scenario_2_3 = 62801200 - 18769030.10\n",
    "print(\"Savings compared to scenario 2: ${:.2f}\".format(Scenario_2_3))"
   ]
  },
  {
   "cell_type": "markdown",
   "id": "dc1fd77b-0fd2-42e9-b51c-eaf798b6cc0e",
   "metadata": {},
   "source": [
    "#### Let's see if we can make more improvements by increasing the threshold"
   ]
  },
  {
   "cell_type": "markdown",
   "id": "56d8fdb9-065b-4f3b-8afb-1cb09f89c9af",
   "metadata": {},
   "source": [
    "First we will try lowering the threshold to .25"
   ]
  },
  {
   "cell_type": "code",
   "execution_count": null,
   "id": "3f516ea5-9023-4918-968f-57a5cc5fdce4",
   "metadata": {},
   "outputs": [],
   "source": [
    "def plot_conf_mat(clf, X_test, y_test, threshold=0.75):\n",
    "    # Get predicted probabilities for the positive class\n",
    "    y_proba = clf.predict_proba(X_test)[:, 1]\n",
    "    \n",
    "    # Apply the threshold to convert probabilities to binary predictions\n",
    "    y_pred = (y_proba >= threshold).astype(int)\n",
    "    \n",
    "    # Compute the confusion matrix\n",
    "    cm = confusion_matrix(y_test, y_pred)\n",
    "    \n",
    "    # Display the confusion matrix\n",
    "    disp = ConfusionMatrixDisplay(confusion_matrix=cm, display_labels=clf.classes_)\n",
    "    disp.plot(cmap=plt.cm.Blues)\n",
    "    plt.title(f'Confusion matrix with threshold={threshold}')\n",
    "    plt.show()"
   ]
  },
  {
   "cell_type": "code",
   "execution_count": null,
   "id": "daaa108c-3a50-4972-908a-0ca1750c5d47",
   "metadata": {},
   "outputs": [],
   "source": [
    "plot_conf_mat(final_xgboost, # The classifier object\n",
    "              x_test, # The test data set aside for evaluation in train_test_split\n",
    "              y_test # Actual labels\n",
    "             )"
   ]
  },
  {
   "cell_type": "code",
   "execution_count": null,
   "id": "68c8c5e8-046b-43fd-a069-8bce9a4523a8",
   "metadata": {},
   "outputs": [],
   "source": [
    "FP_Cost = (3 * 2800) * (28631/5727) #Extrapolate on total\n",
    "FN_Cost = (350 * 13500) * (28539/5812) #Extrapolate on total\n",
    "\n",
    "print(\"Total Cost = ${:.2f}\".format(FP_Cost + FN_Cost))"
   ]
  },
  {
   "cell_type": "code",
   "execution_count": null,
   "id": "87e4a14e-3df6-4cec-b780-77904d030a46",
   "metadata": {},
   "outputs": [],
   "source": [
    "Scenario_1_3 = 83727000 - 23243435.12\n",
    "print(\"Savings compared to scenario 1: ${:.2f}\".format(Scenario_1_3))"
   ]
  },
  {
   "cell_type": "code",
   "execution_count": null,
   "id": "4c03895c-b43f-4a90-ba47-d6699579ce27",
   "metadata": {},
   "outputs": [],
   "source": [
    "Scenario_2_3 = 62801200 - 23243435.12\n",
    "print(\"Savings compared to scenario 2: ${:.2f}\".format(Scenario_2_3))"
   ]
  },
  {
   "cell_type": "markdown",
   "id": "0c2ac0d3-0a54-4146-8f89-a38677812af6",
   "metadata": {},
   "source": [
    "Not great, we ended up costing more money than the default threshold of 0.5"
   ]
  },
  {
   "cell_type": "markdown",
   "id": "9aadf02c-cf09-49b9-8d8b-4a279b19e862",
   "metadata": {},
   "source": [
    "#### Let's see if we can make more improvements by lowering the threshold"
   ]
  },
  {
   "cell_type": "markdown",
   "id": "e8d0e5d8-57af-41d2-ae81-021e004eca2d",
   "metadata": {},
   "source": [
    "Now we will try lowering the threshold to .25"
   ]
  },
  {
   "cell_type": "code",
   "execution_count": null,
   "id": "5b58d69c-208b-46dd-bd0f-25dbb719fa1b",
   "metadata": {},
   "outputs": [],
   "source": [
    "def plot_conf_mat(clf, X_test, y_test, threshold=0.25):\n",
    "    # Get predicted probabilities for the positive class\n",
    "    y_proba = clf.predict_proba(X_test)[:, 1]\n",
    "    \n",
    "    # Apply the threshold to convert probabilities to binary predictions\n",
    "    y_pred = (y_proba >= threshold).astype(int)\n",
    "    \n",
    "    # Compute the confusion matrix\n",
    "    cm = confusion_matrix(y_test, y_pred)\n",
    "    \n",
    "    # Display the confusion matrix\n",
    "    disp = ConfusionMatrixDisplay(confusion_matrix=cm, display_labels=clf.classes_)\n",
    "    disp.plot(cmap=plt.cm.Blues)\n",
    "    plt.title(f'Confusion matrix with threshold={threshold}')\n",
    "    plt.show()"
   ]
  },
  {
   "cell_type": "code",
   "execution_count": null,
   "id": "78356de1-3852-4b08-bddb-f5b75f80e7d4",
   "metadata": {},
   "outputs": [],
   "source": [
    "plot_conf_mat(final_xgboost, # The classifier object\n",
    "              x_test, # The test data set aside for evaluation in train_test_split\n",
    "              y_test # Actual labels\n",
    "             )"
   ]
  },
  {
   "cell_type": "code",
   "execution_count": null,
   "id": "8e373b99-6cdd-4fce-beb5-2e9c1757c9ff",
   "metadata": {},
   "outputs": [],
   "source": [
    "FP_Cost = (225 * 2800) * (28631/5727) #Extrapolate on total\n",
    "FN_Cost = (168 * 13500) * (28539/5812) #Extrapolate on total\n",
    "\n",
    "print(\"Total Cost = ${:.2f}\".format(FP_Cost + FN_Cost))"
   ]
  },
  {
   "cell_type": "code",
   "execution_count": null,
   "id": "44ba439f-00d1-44e4-9dca-d00c649445d9",
   "metadata": {},
   "outputs": [],
   "source": [
    "Scenario_1_3 = 83727000 - 14286251.65\n",
    "print(\"Savings compared to scenario 1: ${:.2f}\".format(Scenario_1_3))"
   ]
  },
  {
   "cell_type": "code",
   "execution_count": null,
   "id": "977169df-1453-4c75-9831-f0442ee4c82c",
   "metadata": {},
   "outputs": [],
   "source": [
    "Scenario_2_3 = 62801200 - 14286251.65\n",
    "print(\"Savings compared to scenario 2: ${:.2f}\".format(Scenario_2_3))"
   ]
  },
  {
   "cell_type": "markdown",
   "id": "117a127b-a2de-4649-8165-524ca19e146d",
   "metadata": {},
   "source": [
    "This approach is a significant improvement, and while further optimization is always possible, it provides a solid foundation for managing financial risks. By fine-tuning the decision threshold, the bank can dynamically adjust its model depending on the **economic conditions** and **market trends**. As conditions change — for example, in times of economic downturn when loan defaults may increase — the bank can adjust the threshold to be more cautious, minimizing **false negatives** and protecting against potential losses. Conversely, in more stable or growth periods, the bank could adjust the threshold to minimize **false positives**, avoiding unnecessary loan rejections and capturing profitable opportunities. This level of flexibility ensures that the bank remains adaptable and can maximize profitability while managing risk effectively."
   ]
  }
 ],
 "metadata": {
  "kernelspec": {
   "display_name": "Python 3 (ipykernel)",
   "language": "python",
   "name": "python3"
  },
  "language_info": {
   "codemirror_mode": {
    "name": "ipython",
    "version": 3
   },
   "file_extension": ".py",
   "mimetype": "text/x-python",
   "name": "python",
   "nbconvert_exporter": "python",
   "pygments_lexer": "ipython3",
   "version": "3.11.9"
  }
 },
 "nbformat": 4,
 "nbformat_minor": 5
}
