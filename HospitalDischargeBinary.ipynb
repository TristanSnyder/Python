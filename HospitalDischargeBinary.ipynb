{
 "cells": [
  {
   "cell_type": "markdown",
   "metadata": {},
   "source": [
    "# Predicting Hospital Discharge Outcomes"
   ]
  },
  {
   "cell_type": "markdown",
   "metadata": {},
   "source": [
    "In this code, we will explore a dataset of patient hospital discharge outcomes as a function of the treatment they receive. We will then examine the business value of the predictive model for UVA Hospital. Finally, we learn how to use cost-sensitive training to maximize the business value of the predictive model."
   ]
  },
  {
   "cell_type": "markdown",
   "metadata": {},
   "source": [
    "## 1. Import packages"
   ]
  },
  {
   "cell_type": "markdown",
   "metadata": {},
   "source": [
    "First, we will import our normal selection of packages. However, this time, we will be importing the classification version of the models we've been using. These will have different names, but generally, the parameters will be identical or nearly so."
   ]
  },
  {
   "cell_type": "code",
   "execution_count": 1,
   "metadata": {},
   "outputs": [],
   "source": [
    "import numpy as np # Library for math operations\n",
    "import pandas as pd # Library for data handling\n",
    "import sklearn # The machine learning library we will be using in this entire course\n",
    "from sklearn import tree # Tree function is used for visualizing decision tree\n",
    "from sklearn.metrics import * \n",
    "# Importing function that can be used to calculate different metrics\n",
    "from sklearn.tree import DecisionTreeClassifier # Importing Decision Tree Classifier \n",
    "from sklearn.ensemble import RandomForestClassifier  # Importing Random Forest Classifier \n",
    "from sklearn.model_selection import train_test_split # Importing function that can split a dataset into training and testing set\n",
    "from sklearn.preprocessing import LabelEncoder, MinMaxScaler, StandardScaler # Importing function for scaling the data\n",
    "from sklearn.ensemble import StackingClassifier, GradientBoostingClassifier, VotingClassifier\n",
    "from sklearn.model_selection import GridSearchCV # Importing GridSearchCV\n",
    "from sklearn.pipeline import make_pipeline\n",
    "from sklearn.neighbors import KNeighborsClassifier\n",
    "from sklearn.linear_model import LogisticRegression\n",
    "from xgboost import XGBClassifier # Importing the XGBoost Classifier \n",
    "import matplotlib.pyplot as plt # Importing the package for plotting\n",
    "plt.style.use('fivethirtyeight') # Use the styling from FiveThirtyEight Website\n",
    "import seaborn as sns # Importing another package for plotting\n",
    "from sklearn.pipeline import Pipeline\n",
    "from custom_functions import plot_conf_mat, plot_roc_curve, plot_feature_importance, calculateMetricsAndPrint"
   ]
  },
  {
   "cell_type": "markdown",
   "metadata": {},
   "source": [
    "## 2. Load the Data"
   ]
  },
  {
   "cell_type": "code",
   "execution_count": 2,
   "metadata": {},
   "outputs": [],
   "source": [
    "trainInput = pd.read_csv(\"DischargeTrain.csv\")\n",
    "testInput = pd.read_csv(\"DischargeTest.csv\")"
   ]
  },
  {
   "cell_type": "code",
   "execution_count": 3,
   "metadata": {},
   "outputs": [
    {
     "data": {
      "text/html": [
       "<div>\n",
       "<style scoped>\n",
       "    .dataframe tbody tr th:only-of-type {\n",
       "        vertical-align: middle;\n",
       "    }\n",
       "\n",
       "    .dataframe tbody tr th {\n",
       "        vertical-align: top;\n",
       "    }\n",
       "\n",
       "    .dataframe thead th {\n",
       "        text-align: right;\n",
       "    }\n",
       "</style>\n",
       "<table border=\"1\" class=\"dataframe\">\n",
       "  <thead>\n",
       "    <tr style=\"text-align: right;\">\n",
       "      <th></th>\n",
       "      <th>Unique_Patient_Encounter_ID</th>\n",
       "      <th>Discharge_Type</th>\n",
       "      <th>Unique_Patient_ID</th>\n",
       "      <th>Sex</th>\n",
       "      <th>Marital_Status</th>\n",
       "      <th>Payment_Class</th>\n",
       "      <th>Previous_Discharge_Type</th>\n",
       "      <th>Age</th>\n",
       "      <th>ReadmissionCount</th>\n",
       "      <th>Diseases of the circulatory system-Cerebrovascular disease+Count*(sk_dim_dx)</th>\n",
       "      <th>...</th>\n",
       "      <th>Subacute/SNF vs HHPT pending progress+First*(PTValue)</th>\n",
       "      <th>Script given to CM+First*(PTValue)</th>\n",
       "      <th>Long Term Acute Care Hospital+First*(PTValue)</th>\n",
       "      <th>Home with nearly 24/7+First*(PTValue)</th>\n",
       "      <th>Home with initial 24/7+First*(PTValue)</th>\n",
       "      <th>Outpatient Cardiac rehab+First*(PTValue)</th>\n",
       "      <th>Outpatient Pulmonary rehab+First*(PTValue)</th>\n",
       "      <th>Hospice+First*(PTValue)</th>\n",
       "      <th>AMPAC_Raw_Score</th>\n",
       "      <th>AMPAC_Scaled_Score</th>\n",
       "    </tr>\n",
       "  </thead>\n",
       "  <tbody>\n",
       "    <tr>\n",
       "      <th>0</th>\n",
       "      <td>33434057</td>\n",
       "      <td>Home Health Agency</td>\n",
       "      <td>298873</td>\n",
       "      <td>Female</td>\n",
       "      <td>Single</td>\n",
       "      <td>Medicare Replacement</td>\n",
       "      <td>NaN</td>\n",
       "      <td>54</td>\n",
       "      <td>1</td>\n",
       "      <td>0</td>\n",
       "      <td>...</td>\n",
       "      <td>0</td>\n",
       "      <td>0</td>\n",
       "      <td>0</td>\n",
       "      <td>0</td>\n",
       "      <td>0</td>\n",
       "      <td>0</td>\n",
       "      <td>0</td>\n",
       "      <td>0</td>\n",
       "      <td>0</td>\n",
       "      <td>0</td>\n",
       "    </tr>\n",
       "    <tr>\n",
       "      <th>1</th>\n",
       "      <td>38150727</td>\n",
       "      <td>Infusion / Home</td>\n",
       "      <td>165661</td>\n",
       "      <td>Male</td>\n",
       "      <td>Divorced</td>\n",
       "      <td>Do not use</td>\n",
       "      <td>NaN</td>\n",
       "      <td>58</td>\n",
       "      <td>1</td>\n",
       "      <td>0</td>\n",
       "      <td>...</td>\n",
       "      <td>0</td>\n",
       "      <td>0</td>\n",
       "      <td>0</td>\n",
       "      <td>0</td>\n",
       "      <td>0</td>\n",
       "      <td>0</td>\n",
       "      <td>0</td>\n",
       "      <td>0</td>\n",
       "      <td>0</td>\n",
       "      <td>0</td>\n",
       "    </tr>\n",
       "  </tbody>\n",
       "</table>\n",
       "<p>2 rows × 833 columns</p>\n",
       "</div>"
      ],
      "text/plain": [
       "   Unique_Patient_Encounter_ID      Discharge_Type  Unique_Patient_ID     Sex  \\\n",
       "0                     33434057  Home Health Agency             298873  Female   \n",
       "1                     38150727     Infusion / Home             165661    Male   \n",
       "\n",
       "  Marital_Status         Payment_Class Previous_Discharge_Type  Age  \\\n",
       "0         Single  Medicare Replacement                     NaN   54   \n",
       "1       Divorced            Do not use                     NaN   58   \n",
       "\n",
       "   ReadmissionCount  \\\n",
       "0                 1   \n",
       "1                 1   \n",
       "\n",
       "   Diseases of the circulatory system-Cerebrovascular disease+Count*(sk_dim_dx)  \\\n",
       "0                                                  0                              \n",
       "1                                                  0                              \n",
       "\n",
       "   ...  Subacute/SNF vs HHPT pending progress+First*(PTValue)  \\\n",
       "0  ...                                                  0       \n",
       "1  ...                                                  0       \n",
       "\n",
       "   Script given to CM+First*(PTValue)  \\\n",
       "0                                   0   \n",
       "1                                   0   \n",
       "\n",
       "   Long Term Acute Care Hospital+First*(PTValue)  \\\n",
       "0                                              0   \n",
       "1                                              0   \n",
       "\n",
       "   Home with nearly 24/7+First*(PTValue)  \\\n",
       "0                                      0   \n",
       "1                                      0   \n",
       "\n",
       "   Home with initial 24/7+First*(PTValue)  \\\n",
       "0                                       0   \n",
       "1                                       0   \n",
       "\n",
       "   Outpatient Cardiac rehab+First*(PTValue)  \\\n",
       "0                                         0   \n",
       "1                                         0   \n",
       "\n",
       "   Outpatient Pulmonary rehab+First*(PTValue)  Hospice+First*(PTValue)  \\\n",
       "0                                           0                        0   \n",
       "1                                           0                        0   \n",
       "\n",
       "   AMPAC_Raw_Score  AMPAC_Scaled_Score  \n",
       "0                0                   0  \n",
       "1                0                   0  \n",
       "\n",
       "[2 rows x 833 columns]"
      ]
     },
     "execution_count": 3,
     "metadata": {},
     "output_type": "execute_result"
    }
   ],
   "source": [
    "trainInput.head(2)"
   ]
  },
  {
   "cell_type": "code",
   "execution_count": 4,
   "metadata": {},
   "outputs": [
    {
     "data": {
      "text/html": [
       "<div>\n",
       "<style scoped>\n",
       "    .dataframe tbody tr th:only-of-type {\n",
       "        vertical-align: middle;\n",
       "    }\n",
       "\n",
       "    .dataframe tbody tr th {\n",
       "        vertical-align: top;\n",
       "    }\n",
       "\n",
       "    .dataframe thead th {\n",
       "        text-align: right;\n",
       "    }\n",
       "</style>\n",
       "<table border=\"1\" class=\"dataframe\">\n",
       "  <thead>\n",
       "    <tr style=\"text-align: right;\">\n",
       "      <th></th>\n",
       "      <th>Unique_Patient_Encounter_ID</th>\n",
       "      <th>Discharge_Type</th>\n",
       "      <th>Unique_Patient_ID</th>\n",
       "      <th>Sex</th>\n",
       "      <th>Marital_Status</th>\n",
       "      <th>Payment_Class</th>\n",
       "      <th>Previous_Discharge_Type</th>\n",
       "      <th>Age</th>\n",
       "      <th>ReadmissionCount</th>\n",
       "      <th>Diseases of the circulatory system-Cerebrovascular disease+Count*(sk_dim_dx)</th>\n",
       "      <th>...</th>\n",
       "      <th>Subacute/SNF vs HHPT pending progress+First*(PTValue)</th>\n",
       "      <th>Script given to CM+First*(PTValue)</th>\n",
       "      <th>Long Term Acute Care Hospital+First*(PTValue)</th>\n",
       "      <th>Home with nearly 24/7+First*(PTValue)</th>\n",
       "      <th>Home with initial 24/7+First*(PTValue)</th>\n",
       "      <th>Outpatient Cardiac rehab+First*(PTValue)</th>\n",
       "      <th>Outpatient Pulmonary rehab+First*(PTValue)</th>\n",
       "      <th>Hospice+First*(PTValue)</th>\n",
       "      <th>AMPAC_Raw_Score</th>\n",
       "      <th>AMPAC_Scaled_Score</th>\n",
       "    </tr>\n",
       "  </thead>\n",
       "  <tbody>\n",
       "    <tr>\n",
       "      <th>0</th>\n",
       "      <td>37607139</td>\n",
       "      <td>Skilled Nursing Facility (SNF)</td>\n",
       "      <td>227723</td>\n",
       "      <td>Female</td>\n",
       "      <td>Divorced</td>\n",
       "      <td>Medicare</td>\n",
       "      <td>NaN</td>\n",
       "      <td>89</td>\n",
       "      <td>0</td>\n",
       "      <td>10</td>\n",
       "      <td>...</td>\n",
       "      <td>0</td>\n",
       "      <td>0</td>\n",
       "      <td>0</td>\n",
       "      <td>0</td>\n",
       "      <td>0</td>\n",
       "      <td>0</td>\n",
       "      <td>0</td>\n",
       "      <td>0</td>\n",
       "      <td>18</td>\n",
       "      <td>0</td>\n",
       "    </tr>\n",
       "    <tr>\n",
       "      <th>1</th>\n",
       "      <td>34657024</td>\n",
       "      <td>Skilled Nursing Facility (SNF)</td>\n",
       "      <td>188569</td>\n",
       "      <td>Female</td>\n",
       "      <td>Widowed</td>\n",
       "      <td>Medicare</td>\n",
       "      <td>NaN</td>\n",
       "      <td>80</td>\n",
       "      <td>0</td>\n",
       "      <td>0</td>\n",
       "      <td>...</td>\n",
       "      <td>0</td>\n",
       "      <td>0</td>\n",
       "      <td>0</td>\n",
       "      <td>0</td>\n",
       "      <td>0</td>\n",
       "      <td>0</td>\n",
       "      <td>0</td>\n",
       "      <td>0</td>\n",
       "      <td>16</td>\n",
       "      <td>0</td>\n",
       "    </tr>\n",
       "  </tbody>\n",
       "</table>\n",
       "<p>2 rows × 833 columns</p>\n",
       "</div>"
      ],
      "text/plain": [
       "   Unique_Patient_Encounter_ID                  Discharge_Type  \\\n",
       "0                     37607139  Skilled Nursing Facility (SNF)   \n",
       "1                     34657024  Skilled Nursing Facility (SNF)   \n",
       "\n",
       "   Unique_Patient_ID     Sex Marital_Status Payment_Class  \\\n",
       "0             227723  Female       Divorced      Medicare   \n",
       "1             188569  Female        Widowed      Medicare   \n",
       "\n",
       "  Previous_Discharge_Type  Age  ReadmissionCount  \\\n",
       "0                     NaN   89                 0   \n",
       "1                     NaN   80                 0   \n",
       "\n",
       "   Diseases of the circulatory system-Cerebrovascular disease+Count*(sk_dim_dx)  \\\n",
       "0                                                 10                              \n",
       "1                                                  0                              \n",
       "\n",
       "   ...  Subacute/SNF vs HHPT pending progress+First*(PTValue)  \\\n",
       "0  ...                                                  0       \n",
       "1  ...                                                  0       \n",
       "\n",
       "   Script given to CM+First*(PTValue)  \\\n",
       "0                                   0   \n",
       "1                                   0   \n",
       "\n",
       "   Long Term Acute Care Hospital+First*(PTValue)  \\\n",
       "0                                              0   \n",
       "1                                              0   \n",
       "\n",
       "   Home with nearly 24/7+First*(PTValue)  \\\n",
       "0                                      0   \n",
       "1                                      0   \n",
       "\n",
       "   Home with initial 24/7+First*(PTValue)  \\\n",
       "0                                       0   \n",
       "1                                       0   \n",
       "\n",
       "   Outpatient Cardiac rehab+First*(PTValue)  \\\n",
       "0                                         0   \n",
       "1                                         0   \n",
       "\n",
       "   Outpatient Pulmonary rehab+First*(PTValue)  Hospice+First*(PTValue)  \\\n",
       "0                                           0                        0   \n",
       "1                                           0                        0   \n",
       "\n",
       "   AMPAC_Raw_Score  AMPAC_Scaled_Score  \n",
       "0               18                   0  \n",
       "1               16                   0  \n",
       "\n",
       "[2 rows x 833 columns]"
      ]
     },
     "execution_count": 4,
     "metadata": {},
     "output_type": "execute_result"
    }
   ],
   "source": [
    "testInput.head(2)"
   ]
  },
  {
   "cell_type": "markdown",
   "metadata": {},
   "source": [
    "Let's take a look at the shape of these dataframes."
   ]
  },
  {
   "cell_type": "code",
   "execution_count": 5,
   "metadata": {},
   "outputs": [
    {
     "data": {
      "text/plain": [
       "(17435, 833)"
      ]
     },
     "execution_count": 5,
     "metadata": {},
     "output_type": "execute_result"
    }
   ],
   "source": [
    "trainInput.shape"
   ]
  },
  {
   "cell_type": "code",
   "execution_count": 6,
   "metadata": {},
   "outputs": [
    {
     "data": {
      "text/plain": [
       "(5812, 833)"
      ]
     },
     "execution_count": 6,
     "metadata": {},
     "output_type": "execute_result"
    }
   ],
   "source": [
    "testInput.shape"
   ]
  },
  {
   "cell_type": "markdown",
   "metadata": {},
   "source": [
    "Before moving forward, we need to create our target variable. Our target variable should be equal to 1 if the discharge needs paperwork, and 0 otherwise. Let's take a look at the discharge types and then determine which ones require paperwork:"
   ]
  },
  {
   "cell_type": "code",
   "execution_count": 7,
   "metadata": {},
   "outputs": [
    {
     "data": {
      "text/plain": [
       "Discharge_Type\n",
       "Home Health Agency                                        5696\n",
       "HOME                                                      4790\n",
       "Skilled Nursing Facility (SNF)                            3025\n",
       "Acute Rehabilitation Facility (hospital or unit) (IRF)    1150\n",
       "EXPIRED                                                    972\n",
       "Infusion / Home                                            712\n",
       "Long Term Care Hospital (LTCH)                             395\n",
       "Hospice / Home                                             367\n",
       "DIS TO LAW ENFORCE                                         166\n",
       "AGAINST MED ADVICE                                         162\n",
       "Name: count, dtype: int64"
      ]
     },
     "execution_count": 7,
     "metadata": {},
     "output_type": "execute_result"
    }
   ],
   "source": [
    "trainInput['Discharge_Type'].value_counts()"
   ]
  },
  {
   "cell_type": "markdown",
   "metadata": {},
   "source": [
    "The types of discharge that require additional paperwork are `Skilled Nursing Facility (SNF)`, `Acute Rehabilitation Facility (hospital or unit) (IRF)`, and `Long Term Care Hospital (LTCH)`, so we will create a new variable which is `1` if any of those three are the discharge type or `0` if not."
   ]
  },
  {
   "cell_type": "code",
   "execution_count": 8,
   "metadata": {},
   "outputs": [
    {
     "data": {
      "text/plain": [
       "Requires_Paperwork\n",
       "0    12865\n",
       "1     4570\n",
       "Name: count, dtype: int64"
      ]
     },
     "execution_count": 8,
     "metadata": {},
     "output_type": "execute_result"
    }
   ],
   "source": [
    "trainInput['Requires_Paperwork'] = \\\n",
    "np.where(trainInput['Discharge_Type'].isin(['Skilled Nursing Facility (SNF)',\n",
    "                                           'Acute Rehabilitation Facility (hospital or unit) (IRF)',\n",
    "                                           'Long Term Care Hospital (LTCH)']),1,0)\n",
    "\n",
    "trainInput['Requires_Paperwork'].value_counts()"
   ]
  },
  {
   "cell_type": "code",
   "execution_count": 9,
   "metadata": {},
   "outputs": [
    {
     "data": {
      "text/plain": [
       "Requires_Paperwork\n",
       "0    4267\n",
       "1    1545\n",
       "Name: count, dtype: int64"
      ]
     },
     "execution_count": 9,
     "metadata": {},
     "output_type": "execute_result"
    }
   ],
   "source": [
    "testInput['Requires_Paperwork'] = \\\n",
    "np.where(testInput['Discharge_Type'].isin(['Skilled Nursing Facility (SNF)',\n",
    "                                           'Acute Rehabilitation Facility (hospital or unit) (IRF)',\n",
    "                                           'Long Term Care Hospital (LTCH)']),1,0)\n",
    "\n",
    "testInput['Requires_Paperwork'].value_counts()"
   ]
  },
  {
   "cell_type": "markdown",
   "metadata": {},
   "source": [
    "Now, we can go ahead and separate our x and y. Given that `Requires_Paperwork` is still fully correlated with our new y (`Requires_Paperwork`), we have to drop that as well. In addition, `Unique_Patient_Encounter_ID` and `Unique_Patient_ID` are unique identifiers and therefore there is no value in using them as predictors. So, we drop these columns too. Also, because our y values (labels) are already 0s and 1s, we don't need LabelEncode them anymore:"
   ]
  },
  {
   "cell_type": "markdown",
   "metadata": {},
   "source": [
    "### Quick EDA"
   ]
  },
  {
   "cell_type": "code",
   "execution_count": 10,
   "metadata": {
    "scrolled": true
   },
   "outputs": [
    {
     "data": {
      "image/png": "[encoded data removed]",
      "text/plain": [
       "<Figure size 1800x800 with 2 Axes>"
      ]
     },
     "metadata": {},
     "output_type": "display_data"
    }
   ],
   "source": [
    "f, ax = plt.subplots(1, 2, figsize=(18, 8))\n",
    "\n",
    "# Plot the pie chart\n",
    "trainInput['Requires_Paperwork'].value_counts().plot.pie(\n",
    "    explode=[0, 0.1], autopct='%1.1f%%', ax=ax[0], shadow=True\n",
    ")\n",
    "ax[0].set_title('Requires_Paperwork')\n",
    "ax[0].set_ylabel('')\n",
    "\n",
    "# Plot the countplot\n",
    "sns.countplot(x='Requires_Paperwork', data=trainInput, ax=ax[1])\n",
    "ax[1].set_title('Requires_Paperwork')\n",
    "\n",
    "plt.show()"
   ]
  },
  {
   "cell_type": "code",
   "execution_count": null,
   "metadata": {
    "scrolled": true
   },
   "outputs": [],
   "source": [
    "# Get all columns except Requires_Paperwork\n",
    "columns = [col for col in trainInput.columns if col != \"Requires_Paperwork\"]\n",
    "\n",
    "# Loop through each column and display crosstab with background gradient\n",
    "for col in columns:\n",
    "    if trainInput[col].dtype == \"object\" or trainInput[col].nunique() < 10:  # Only for categorical/low unique value columns\n",
    "        print(f\"\\n🔹 Crosstab: {col} vs Requires_Paperwork\\n\")\n",
    "        \n",
    "        # Compute crosstab\n",
    "        crosstab = pd.crosstab(trainInput[col], trainInput[\"Requires_Paperwork\"], margins=True)\n",
    "        \n",
    "        # Calculate the ratio of \"Requires_Paperwork\" = 1\n",
    "        crosstab[\"Ratio_Requires_Paperwork\"] = crosstab[1] / crosstab[\"All\"]\n",
    "        \n",
    "        # Format the ratio column (reduce decimals)\n",
    "        styled_crosstab = crosstab.style.background_gradient(cmap=\"summer_r\") \\\n",
    "            .format({\"Ratio_Requires_Paperwork\": \"{:.2%}\"}) \\\n",
    "            .set_properties(**{\"text-align\": \"center\"}) \\\n",
    "            .set_table_styles([{\"selector\": \"th\", \"props\": [(\"text-align\", \"center\")]}])\n",
    "        \n",
    "        # Display\n",
    "        display(styled_crosstab)\n",
    "\n"
   ]
  },
  {
   "cell_type": "code",
   "execution_count": 12,
   "metadata": {},
   "outputs": [
    {
     "data": {
      "image/png": "[encoded data removed]",
      "text/plain": [
       "<Figure size 1200x600 with 1 Axes>"
      ]
     },
     "metadata": {},
     "output_type": "display_data"
    }
   ],
   "source": [
    "# Create a temporary age group column without modifying the original DataFrame\n",
    "trainInput_copy = trainInput.copy()\n",
    "trainInput_copy[\"Age Group\"] = (trainInput_copy[\"Age\"] // 10) * 10  # Group ages into 10-year bins\n",
    "\n",
    "# Create a single subplot\n",
    "f, ax = plt.subplots(1, 1, figsize=(12, 6))\n",
    "\n",
    "# Countplot with age groups\n",
    "sns.countplot(x=\"Age Group\", hue=\"Requires_Paperwork\", data=trainInput_copy, ax=ax)\n",
    "ax.set_title(\"Age (Grouped by 10 Years) vs Requires_Paperwork\")\n",
    "ax.set_xlabel(\"Age Group (10 Year Intervals)\")\n",
    "ax.set_ylabel(\"Count\")\n",
    "\n",
    "plt.show()"
   ]
  },
  {
   "cell_type": "markdown",
   "metadata": {},
   "source": [
    "### Back to Starter"
   ]
  },
  {
   "cell_type": "code",
   "execution_count": 13,
   "metadata": {},
   "outputs": [],
   "source": [
    "trainData = trainInput.drop(columns = ['Unique_Patient_Encounter_ID',\n",
    "                                       'Unique_Patient_ID',\n",
    "                                       'Requires_Paperwork',\n",
    "                                      'Discharge_Type'])\n",
    "trainLabels = trainInput.Requires_Paperwork\n",
    "\n",
    "testData = testInput.drop(columns = ['Unique_Patient_Encounter_ID',\n",
    "                                     'Unique_Patient_ID',\n",
    "                                     'Requires_Paperwork',\n",
    "                                      'Discharge_Type'])\n",
    "testLabels = testInput.Requires_Paperwork"
   ]
  },
  {
   "cell_type": "code",
   "execution_count": 14,
   "metadata": {},
   "outputs": [
    {
     "data": {
      "text/plain": [
       "0    1\n",
       "Name: Requires_Paperwork, dtype: int64"
      ]
     },
     "execution_count": 14,
     "metadata": {},
     "output_type": "execute_result"
    }
   ],
   "source": [
    "testLabels.head(1)"
   ]
  },
  {
   "cell_type": "markdown",
   "metadata": {},
   "source": [
    "## 3. Data Augmentations"
   ]
  },
  {
   "cell_type": "code",
   "execution_count": 15,
   "metadata": {
    "tags": []
   },
   "outputs": [
    {
     "name": "stdout",
     "output_type": "stream",
     "text": [
      "Requirement already satisfied: feature-engine in /opt/conda/lib/python3.11/site-packages (1.8.3)\n",
      "Requirement already satisfied: numpy>=1.18.2 in /opt/conda/lib/python3.11/site-packages (from feature-engine) (1.26.4)\n",
      "Requirement already satisfied: pandas>=2.2.0 in /opt/conda/lib/python3.11/site-packages (from feature-engine) (2.2.3)\n",
      "Requirement already satisfied: scikit-learn>=1.4.0 in /opt/conda/lib/python3.11/site-packages (from feature-engine) (1.4.2)\n",
      "Requirement already satisfied: scipy>=1.4.1 in /opt/conda/lib/python3.11/site-packages (from feature-engine) (1.11.4)\n",
      "Requirement already satisfied: statsmodels>=0.11.1 in /opt/conda/lib/python3.11/site-packages (from feature-engine) (0.14.2)\n",
      "Requirement already satisfied: python-dateutil>=2.8.2 in /opt/conda/lib/python3.11/site-packages (from pandas>=2.2.0->feature-engine) (2.9.0)\n",
      "Requirement already satisfied: pytz>=2020.1 in /opt/conda/lib/python3.11/site-packages (from pandas>=2.2.0->feature-engine) (2024.1)\n",
      "Requirement already satisfied: tzdata>=2022.7 in /opt/conda/lib/python3.11/site-packages (from pandas>=2.2.0->feature-engine) (2024.1)\n",
      "Requirement already satisfied: joblib>=1.2.0 in /opt/conda/lib/python3.11/site-packages (from scikit-learn>=1.4.0->feature-engine) (1.3.2)\n",
      "Requirement already satisfied: threadpoolctl>=2.0.0 in /opt/conda/lib/python3.11/site-packages (from scikit-learn>=1.4.0->feature-engine) (3.5.0)\n",
      "Requirement already satisfied: patsy>=0.5.6 in /opt/conda/lib/python3.11/site-packages (from statsmodels>=0.11.1->feature-engine) (0.5.6)\n",
      "Requirement already satisfied: packaging>=21.3 in /opt/conda/lib/python3.11/site-packages (from statsmodels>=0.11.1->feature-engine) (24.1)\n",
      "Requirement already satisfied: six in /opt/conda/lib/python3.11/site-packages (from patsy>=0.5.6->statsmodels>=0.11.1->feature-engine) (1.16.0)\n"
     ]
    }
   ],
   "source": [
    "!pip install feature-engine"
   ]
  },
  {
   "cell_type": "code",
   "execution_count": 31,
   "metadata": {},
   "outputs": [
    {
     "ename": "TypeError",
     "evalue": "WoEEncoder.__init__() got an unexpected keyword argument 'add_missing_category'",
     "output_type": "error",
     "traceback": [
      "\u001b[0;31m---------------------------------------------------------------------------\u001b[0m",
      "\u001b[0;31mTypeError\u001b[0m                                 Traceback (most recent call last)",
      "Cell \u001b[0;32mIn[31], line 1\u001b[0m\n\u001b[0;32m----> 1\u001b[0m enc \u001b[38;5;241m=\u001b[39m \u001b[43mWoEEncoder\u001b[49m\u001b[43m(\u001b[49m\u001b[43madd_missing_category\u001b[49m\u001b[38;5;241;43m=\u001b[39;49m\u001b[38;5;28;43;01mTrue\u001b[39;49;00m\u001b[43m,\u001b[49m\u001b[43m \u001b[49m\u001b[43madd_positive_category\u001b[49m\u001b[38;5;241;43m=\u001b[39;49m\u001b[38;5;28;43;01mTrue\u001b[39;49;00m\u001b[43m)\u001b[49m\n\u001b[1;32m      3\u001b[0m \u001b[38;5;66;03m# Apply Weight of Evidence encoding on trainData and testData\u001b[39;00m\n\u001b[1;32m      4\u001b[0m trainData, testData \u001b[38;5;241m=\u001b[39m enc\u001b[38;5;241m.\u001b[39mfit_transform(trainData, trainLabels), enc\u001b[38;5;241m.\u001b[39mtransform(testData)\n",
      "\u001b[0;31mTypeError\u001b[0m: WoEEncoder.__init__() got an unexpected keyword argument 'add_missing_category'"
     ]
    }
   ],
   "source": [
    "enc = WoEEncoder(add_missing_category=True, add_positive_category=True)\n",
    "\n",
    "# Apply Weight of Evidence encoding on trainData and testData\n",
    "trainData, testData = enc.fit_transform(trainData, trainLabels), enc.transform(testData)"
   ]
  },
  {
   "cell_type": "markdown",
   "metadata": {},
   "source": [
    "### 3.1. Treat Missing Values"
   ]
  },
  {
   "cell_type": "markdown",
   "metadata": {},
   "source": [
    "Before starting the data augmentations, we need to check if we have any columns with missing values. If so, we need to process them first:"
   ]
  },
  {
   "cell_type": "code",
   "execution_count": null,
   "metadata": {},
   "outputs": [],
   "source": [
    "trainData.columns[trainData.isnull().any()].tolist()"
   ]
  },
  {
   "cell_type": "code",
   "execution_count": null,
   "metadata": {},
   "outputs": [],
   "source": [
    "testData.columns[testData.isnull().any()].tolist()"
   ]
  },
  {
   "cell_type": "markdown",
   "metadata": {},
   "source": [
    "This column captures the previous discharge type if known. Given that many patients may not have a previous discharge status, or their previous discharge could be related to years ago, we just replace the missing values under this column with \"Unkown\":"
   ]
  },
  {
   "cell_type": "code",
   "execution_count": 20,
   "metadata": {},
   "outputs": [],
   "source": [
    "from feature_engine.imputation import CategoricalImputer\n",
    "\n",
    "imp = CategoricalImputer(imputation_method = 'missing',\n",
    "                            fill_value = \"Unknown\")\n",
    "\n",
    "trainData, testData = imp.fit_transform(trainData), imp.transform(testData)"
   ]
  },
  {
   "cell_type": "code",
   "execution_count": null,
   "metadata": {},
   "outputs": [],
   "source": [
    "trainData.Previous_Discharge_Type.value_counts()"
   ]
  },
  {
   "cell_type": "code",
   "execution_count": null,
   "metadata": {},
   "outputs": [],
   "source": [
    "testData.Previous_Discharge_Type.value_counts()"
   ]
  },
  {
   "cell_type": "markdown",
   "metadata": {},
   "source": [
    "### 3.2. Treat Rare Categories"
   ]
  },
  {
   "cell_type": "code",
   "execution_count": null,
   "metadata": {
    "tags": []
   },
   "outputs": [],
   "source": [
    "from feature_engine.encoding import RareLabelEncoder\n",
    "#.1\n",
    "enc = RareLabelEncoder(tol=0.04, n_categories = 2)\n",
    "\n",
    "trainData, testData = enc.fit_transform(trainData), enc.transform(testData)"
   ]
  },
  {
   "cell_type": "code",
   "execution_count": null,
   "metadata": {},
   "outputs": [],
   "source": [
    "trainData.Previous_Discharge_Type.value_counts()"
   ]
  },
  {
   "cell_type": "markdown",
   "metadata": {},
   "source": [
    "### 3.3. Drop Psudo-Constant Features (Small Variation)"
   ]
  },
  {
   "cell_type": "code",
   "execution_count": null,
   "metadata": {},
   "outputs": [],
   "source": [
    "from feature_engine.selection import DropConstantFeatures\n",
    "#.95\n",
    "con = DropConstantFeatures(tol=.95)\n",
    "\n",
    "trainData, testData = con.fit_transform(trainData), con.transform(testData)"
   ]
  },
  {
   "cell_type": "code",
   "execution_count": null,
   "metadata": {},
   "outputs": [],
   "source": [
    "trainData.shape"
   ]
  },
  {
   "cell_type": "markdown",
   "metadata": {
    "tags": []
   },
   "source": [
    "### 3.4. Drop Correlated Columns"
   ]
  },
  {
   "cell_type": "code",
   "execution_count": null,
   "metadata": {},
   "outputs": [],
   "source": [
    "from feature_engine.selection import SmartCorrelatedSelection\n",
    "#.4\n",
    "sc = SmartCorrelatedSelection(threshold = .65)\n",
    "\n",
    "trainData, testData = sc.fit_transform(trainData), sc.transform(testData)"
   ]
  },
  {
   "cell_type": "code",
   "execution_count": null,
   "metadata": {},
   "outputs": [],
   "source": [
    "trainData.shape"
   ]
  },
  {
   "cell_type": "markdown",
   "metadata": {},
   "source": [
    "### 3.5. Treat Outliers"
   ]
  },
  {
   "cell_type": "code",
   "execution_count": null,
   "metadata": {},
   "outputs": [],
   "source": [
    "from feature_engine.outliers import Winsorizer\n",
    "\n",
    "out = Winsorizer(tail = \"both\")\n",
    "\n",
    "trainData, testData = out.fit_transform(trainData), out.transform(testData)"
   ]
  },
  {
   "cell_type": "markdown",
   "metadata": {},
   "source": [
    "### 3.6. Remove the Remaining Redundant Features"
   ]
  },
  {
   "cell_type": "markdown",
   "metadata": {},
   "source": [
    "Given that we have 800+ predictors in this data, we start with removing redundant features to decrease the number of predictors:"
   ]
  },
  {
   "cell_type": "code",
   "execution_count": null,
   "metadata": {},
   "outputs": [],
   "source": [
    "%%time\n",
    "from feature_engine.selection import SelectByInformationValue\n",
    "#.05\n",
    "cor = SelectByInformationValue(threshold = .05)\n",
    "\n",
    "trainData, testData = cor.fit_transform(trainData,trainLabels), cor.transform(testData)"
   ]
  },
  {
   "cell_type": "code",
   "execution_count": null,
   "metadata": {},
   "outputs": [],
   "source": [
    "trainData.shape"
   ]
  },
  {
   "cell_type": "markdown",
   "metadata": {},
   "source": [
    "### 3.7. Encode the Categorical Features"
   ]
  },
  {
   "cell_type": "code",
   "execution_count": 22,
   "metadata": {
    "tags": []
   },
   "outputs": [
    {
     "data": {
      "text/html": [
       "<div>\n",
       "<style scoped>\n",
       "    .dataframe tbody tr th:only-of-type {\n",
       "        vertical-align: middle;\n",
       "    }\n",
       "\n",
       "    .dataframe tbody tr th {\n",
       "        vertical-align: top;\n",
       "    }\n",
       "\n",
       "    .dataframe thead th {\n",
       "        text-align: right;\n",
       "    }\n",
       "</style>\n",
       "<table border=\"1\" class=\"dataframe\">\n",
       "  <thead>\n",
       "    <tr style=\"text-align: right;\">\n",
       "      <th></th>\n",
       "      <th>Sex</th>\n",
       "      <th>Marital_Status</th>\n",
       "      <th>Payment_Class</th>\n",
       "      <th>Previous_Discharge_Type</th>\n",
       "    </tr>\n",
       "  </thead>\n",
       "  <tbody>\n",
       "    <tr>\n",
       "      <th>0</th>\n",
       "      <td>Female</td>\n",
       "      <td>Single</td>\n",
       "      <td>Medicare Replacement</td>\n",
       "      <td>Unknown</td>\n",
       "    </tr>\n",
       "    <tr>\n",
       "      <th>1</th>\n",
       "      <td>Male</td>\n",
       "      <td>Divorced</td>\n",
       "      <td>Do not use</td>\n",
       "      <td>Unknown</td>\n",
       "    </tr>\n",
       "    <tr>\n",
       "      <th>2</th>\n",
       "      <td>Male</td>\n",
       "      <td>Married</td>\n",
       "      <td>Medicare Managed Care</td>\n",
       "      <td>Unknown</td>\n",
       "    </tr>\n",
       "    <tr>\n",
       "      <th>3</th>\n",
       "      <td>Female</td>\n",
       "      <td>Married</td>\n",
       "      <td>Medicare Replacement</td>\n",
       "      <td>Unknown</td>\n",
       "    </tr>\n",
       "    <tr>\n",
       "      <th>4</th>\n",
       "      <td>Female</td>\n",
       "      <td>Married</td>\n",
       "      <td>Medicare</td>\n",
       "      <td>Skilled Nursing Facility (SNF)</td>\n",
       "    </tr>\n",
       "    <tr>\n",
       "      <th>...</th>\n",
       "      <td>...</td>\n",
       "      <td>...</td>\n",
       "      <td>...</td>\n",
       "      <td>...</td>\n",
       "    </tr>\n",
       "    <tr>\n",
       "      <th>17430</th>\n",
       "      <td>Male</td>\n",
       "      <td>Married</td>\n",
       "      <td>Grant</td>\n",
       "      <td>Unknown</td>\n",
       "    </tr>\n",
       "    <tr>\n",
       "      <th>17431</th>\n",
       "      <td>Female</td>\n",
       "      <td>Widowed</td>\n",
       "      <td>Medicare</td>\n",
       "      <td>Unknown</td>\n",
       "    </tr>\n",
       "    <tr>\n",
       "      <th>17432</th>\n",
       "      <td>Female</td>\n",
       "      <td>Married</td>\n",
       "      <td>Medicare</td>\n",
       "      <td>Unknown</td>\n",
       "    </tr>\n",
       "    <tr>\n",
       "      <th>17433</th>\n",
       "      <td>Female</td>\n",
       "      <td>Married</td>\n",
       "      <td>Blue Shield</td>\n",
       "      <td>Unknown</td>\n",
       "    </tr>\n",
       "    <tr>\n",
       "      <th>17434</th>\n",
       "      <td>Male</td>\n",
       "      <td>Single</td>\n",
       "      <td>Agencies</td>\n",
       "      <td>Unknown</td>\n",
       "    </tr>\n",
       "  </tbody>\n",
       "</table>\n",
       "<p>17435 rows × 4 columns</p>\n",
       "</div>"
      ],
      "text/plain": [
       "          Sex Marital_Status          Payment_Class  \\\n",
       "0      Female         Single   Medicare Replacement   \n",
       "1        Male       Divorced             Do not use   \n",
       "2        Male        Married  Medicare Managed Care   \n",
       "3      Female        Married   Medicare Replacement   \n",
       "4      Female        Married               Medicare   \n",
       "...       ...            ...                    ...   \n",
       "17430    Male        Married                  Grant   \n",
       "17431  Female        Widowed               Medicare   \n",
       "17432  Female        Married               Medicare   \n",
       "17433  Female        Married            Blue Shield   \n",
       "17434    Male         Single               Agencies   \n",
       "\n",
       "              Previous_Discharge_Type  \n",
       "0                             Unknown  \n",
       "1                             Unknown  \n",
       "2                             Unknown  \n",
       "3                             Unknown  \n",
       "4      Skilled Nursing Facility (SNF)  \n",
       "...                               ...  \n",
       "17430                         Unknown  \n",
       "17431                         Unknown  \n",
       "17432                         Unknown  \n",
       "17433                         Unknown  \n",
       "17434                         Unknown  \n",
       "\n",
       "[17435 rows x 4 columns]"
      ]
     },
     "execution_count": 22,
     "metadata": {},
     "output_type": "execute_result"
    }
   ],
   "source": [
    "trainData.select_dtypes('object')"
   ]
  },
  {
   "cell_type": "code",
   "execution_count": 23,
   "metadata": {},
   "outputs": [
    {
     "data": {
      "text/plain": [
       "array(['Single', 'Divorced', 'Married', 'Widowed', 'Legally Separated',\n",
       "       'Other'], dtype=object)"
      ]
     },
     "execution_count": 23,
     "metadata": {},
     "output_type": "execute_result"
    }
   ],
   "source": [
    "trainData.Marital_Status.unique()"
   ]
  },
  {
   "cell_type": "code",
   "execution_count": 24,
   "metadata": {},
   "outputs": [
    {
     "ename": "ValueError",
     "evalue": "During the WoE calculation, some of the categories in the following features contained 0 in the denominator or numerator, and hence the WoE can't be calculated: Marital_Status, Previous_Discharge_Type.",
     "output_type": "error",
     "traceback": [
      "\u001b[0;31m---------------------------------------------------------------------------\u001b[0m",
      "\u001b[0;31mValueError\u001b[0m                                Traceback (most recent call last)",
      "Cell \u001b[0;32mIn[24], line 5\u001b[0m\n\u001b[1;32m      1\u001b[0m \u001b[38;5;28;01mfrom\u001b[39;00m \u001b[38;5;21;01mfeature_engine\u001b[39;00m\u001b[38;5;21;01m.\u001b[39;00m\u001b[38;5;21;01mencoding\u001b[39;00m \u001b[38;5;28;01mimport\u001b[39;00m WoEEncoder\n\u001b[1;32m      3\u001b[0m enc \u001b[38;5;241m=\u001b[39m WoEEncoder()\n\u001b[0;32m----> 5\u001b[0m trainData, testData \u001b[38;5;241m=\u001b[39m \u001b[43menc\u001b[49m\u001b[38;5;241;43m.\u001b[39;49m\u001b[43mfit_transform\u001b[49m\u001b[43m(\u001b[49m\u001b[43mtrainData\u001b[49m\u001b[43m,\u001b[49m\u001b[43mtrainLabels\u001b[49m\u001b[43m)\u001b[49m, enc\u001b[38;5;241m.\u001b[39mtransform(testData)\n",
      "File \u001b[0;32m/opt/conda/lib/python3.11/site-packages/sklearn/utils/_set_output.py:295\u001b[0m, in \u001b[0;36m_wrap_method_output.<locals>.wrapped\u001b[0;34m(self, X, *args, **kwargs)\u001b[0m\n\u001b[1;32m    293\u001b[0m \u001b[38;5;129m@wraps\u001b[39m(f)\n\u001b[1;32m    294\u001b[0m \u001b[38;5;28;01mdef\u001b[39;00m \u001b[38;5;21mwrapped\u001b[39m(\u001b[38;5;28mself\u001b[39m, X, \u001b[38;5;241m*\u001b[39margs, \u001b[38;5;241m*\u001b[39m\u001b[38;5;241m*\u001b[39mkwargs):\n\u001b[0;32m--> 295\u001b[0m     data_to_wrap \u001b[38;5;241m=\u001b[39m \u001b[43mf\u001b[49m\u001b[43m(\u001b[49m\u001b[38;5;28;43mself\u001b[39;49m\u001b[43m,\u001b[49m\u001b[43m \u001b[49m\u001b[43mX\u001b[49m\u001b[43m,\u001b[49m\u001b[43m \u001b[49m\u001b[38;5;241;43m*\u001b[39;49m\u001b[43margs\u001b[49m\u001b[43m,\u001b[49m\u001b[43m \u001b[49m\u001b[38;5;241;43m*\u001b[39;49m\u001b[38;5;241;43m*\u001b[39;49m\u001b[43mkwargs\u001b[49m\u001b[43m)\u001b[49m\n\u001b[1;32m    296\u001b[0m     \u001b[38;5;28;01mif\u001b[39;00m \u001b[38;5;28misinstance\u001b[39m(data_to_wrap, \u001b[38;5;28mtuple\u001b[39m):\n\u001b[1;32m    297\u001b[0m         \u001b[38;5;66;03m# only wrap the first output for cross decomposition\u001b[39;00m\n\u001b[1;32m    298\u001b[0m         return_tuple \u001b[38;5;241m=\u001b[39m (\n\u001b[1;32m    299\u001b[0m             _wrap_data_with_container(method, data_to_wrap[\u001b[38;5;241m0\u001b[39m], X, \u001b[38;5;28mself\u001b[39m),\n\u001b[1;32m    300\u001b[0m             \u001b[38;5;241m*\u001b[39mdata_to_wrap[\u001b[38;5;241m1\u001b[39m:],\n\u001b[1;32m    301\u001b[0m         )\n",
      "File \u001b[0;32m/opt/conda/lib/python3.11/site-packages/sklearn/base.py:1101\u001b[0m, in \u001b[0;36mTransformerMixin.fit_transform\u001b[0;34m(self, X, y, **fit_params)\u001b[0m\n\u001b[1;32m   1098\u001b[0m     \u001b[38;5;28;01mreturn\u001b[39;00m \u001b[38;5;28mself\u001b[39m\u001b[38;5;241m.\u001b[39mfit(X, \u001b[38;5;241m*\u001b[39m\u001b[38;5;241m*\u001b[39mfit_params)\u001b[38;5;241m.\u001b[39mtransform(X)\n\u001b[1;32m   1099\u001b[0m \u001b[38;5;28;01melse\u001b[39;00m:\n\u001b[1;32m   1100\u001b[0m     \u001b[38;5;66;03m# fit method of arity 2 (supervised transformation)\u001b[39;00m\n\u001b[0;32m-> 1101\u001b[0m     \u001b[38;5;28;01mreturn\u001b[39;00m \u001b[38;5;28;43mself\u001b[39;49m\u001b[38;5;241;43m.\u001b[39;49m\u001b[43mfit\u001b[49m\u001b[43m(\u001b[49m\u001b[43mX\u001b[49m\u001b[43m,\u001b[49m\u001b[43m \u001b[49m\u001b[43my\u001b[49m\u001b[43m,\u001b[49m\u001b[43m \u001b[49m\u001b[38;5;241;43m*\u001b[39;49m\u001b[38;5;241;43m*\u001b[39;49m\u001b[43mfit_params\u001b[49m\u001b[43m)\u001b[49m\u001b[38;5;241m.\u001b[39mtransform(X)\n",
      "File \u001b[0;32m/opt/conda/lib/python3.11/site-packages/feature_engine/encoding/woe.py:250\u001b[0m, in \u001b[0;36mWoEEncoder.fit\u001b[0;34m(self, X, y)\u001b[0m\n\u001b[1;32m    243\u001b[0m \u001b[38;5;28;01mif\u001b[39;00m \u001b[38;5;28mlen\u001b[39m(vars_that_fail) \u001b[38;5;241m>\u001b[39m \u001b[38;5;241m0\u001b[39m:\n\u001b[1;32m    244\u001b[0m     vars_that_fail_str \u001b[38;5;241m=\u001b[39m (\n\u001b[1;32m    245\u001b[0m         \u001b[38;5;124m\"\u001b[39m\u001b[38;5;124m, \u001b[39m\u001b[38;5;124m\"\u001b[39m\u001b[38;5;241m.\u001b[39mjoin(vars_that_fail)\n\u001b[1;32m    246\u001b[0m         \u001b[38;5;28;01mif\u001b[39;00m \u001b[38;5;28mlen\u001b[39m(vars_that_fail) \u001b[38;5;241m>\u001b[39m \u001b[38;5;241m1\u001b[39m\n\u001b[1;32m    247\u001b[0m         \u001b[38;5;28;01melse\u001b[39;00m vars_that_fail[\u001b[38;5;241m0\u001b[39m]\n\u001b[1;32m    248\u001b[0m     )\n\u001b[0;32m--> 250\u001b[0m     \u001b[38;5;28;01mraise\u001b[39;00m \u001b[38;5;167;01mValueError\u001b[39;00m(\n\u001b[1;32m    251\u001b[0m         \u001b[38;5;124m\"\u001b[39m\u001b[38;5;124mDuring the WoE calculation, some of the categories in the \u001b[39m\u001b[38;5;124m\"\u001b[39m\n\u001b[1;32m    252\u001b[0m         \u001b[38;5;124m\"\u001b[39m\u001b[38;5;124mfollowing features contained 0 in the denominator or numerator, \u001b[39m\u001b[38;5;124m\"\u001b[39m\n\u001b[1;32m    253\u001b[0m         \u001b[38;5;124mf\u001b[39m\u001b[38;5;124m\"\u001b[39m\u001b[38;5;124mand hence the WoE can\u001b[39m\u001b[38;5;124m'\u001b[39m\u001b[38;5;124mt be calculated: \u001b[39m\u001b[38;5;132;01m{\u001b[39;00mvars_that_fail_str\u001b[38;5;132;01m}\u001b[39;00m\u001b[38;5;124m.\u001b[39m\u001b[38;5;124m\"\u001b[39m\n\u001b[1;32m    254\u001b[0m     )\n\u001b[1;32m    256\u001b[0m \u001b[38;5;28mself\u001b[39m\u001b[38;5;241m.\u001b[39mencoder_dict_ \u001b[38;5;241m=\u001b[39m encoder_dict_\n\u001b[1;32m    257\u001b[0m \u001b[38;5;28mself\u001b[39m\u001b[38;5;241m.\u001b[39mvariables_ \u001b[38;5;241m=\u001b[39m variables_\n",
      "\u001b[0;31mValueError\u001b[0m: During the WoE calculation, some of the categories in the following features contained 0 in the denominator or numerator, and hence the WoE can't be calculated: Marital_Status, Previous_Discharge_Type."
     ]
    }
   ],
   "source": [
    "from feature_engine.encoding import WoEEncoder\n",
    "\n",
    "enc = WoEEncoder()\n",
    "\n",
    "trainData, testData = enc.fit_transform(trainData,trainLabels), enc.transform(testData)"
   ]
  },
  {
   "cell_type": "code",
   "execution_count": null,
   "metadata": {},
   "outputs": [],
   "source": [
    "trainData.Marital_Status.unique()"
   ]
  },
  {
   "cell_type": "markdown",
   "metadata": {},
   "source": [
    "## 4. Train/ Evaluate The Classifier"
   ]
  },
  {
   "cell_type": "code",
   "execution_count": null,
   "metadata": {},
   "outputs": [],
   "source": [
    "xgb = XGBClassifier(random_state=0)\n",
    "xgb.fit(trainData, trainLabels)"
   ]
  },
  {
   "cell_type": "code",
   "execution_count": null,
   "metadata": {
    "scrolled": true
   },
   "outputs": [],
   "source": [
    "predictedProbabilities = xgb.predict_proba(testData)\n",
    "predictedLabels = xgb.predict(testData) \n",
    "calculateMetricsAndPrint(predictedLabels, predictedProbabilities, testLabels)\n",
    "#Benchmark 94.5"
   ]
  },
  {
   "cell_type": "code",
   "execution_count": null,
   "metadata": {},
   "outputs": [],
   "source": [
    "plot_conf_mat(xgb, # The classifier object\n",
    "              testData, # The test data set aside for evaluation in train_test_split\n",
    "              testLabels # Actual labels\n",
    "             )"
   ]
  },
  {
   "cell_type": "markdown",
   "metadata": {},
   "source": [
    "## 4.1 AutoML"
   ]
  },
  {
   "cell_type": "code",
   "execution_count": null,
   "metadata": {
    "scrolled": true
   },
   "outputs": [],
   "source": [
    "# !pip install mljar-supervised"
   ]
  },
  {
   "cell_type": "code",
   "execution_count": null,
   "metadata": {},
   "outputs": [],
   "source": [
    "# from supervised.automl import AutoML"
   ]
  },
  {
   "cell_type": "code",
   "execution_count": null,
   "metadata": {},
   "outputs": [],
   "source": [
    "#%%capture --no-display\n",
    "#aml = AutoML(model_time_limit = 50,\n",
    "                     #eval_metric=\"auc\",\n",
    "                     #algorithms=[\"CatBoost\", \"LightGBM\", \"Xgboost\"],\n",
    "                     #validation_strategy={\n",
    "        #\"validation_type\": \"kfold\",\n",
    "        #\"k_folds\": 5,\n",
    "        #\"shuffle\": False,\n",
    "        #\"stratify\": True,\n",
    "   # }\n",
    "  #                  )\n",
    "\n",
    "#aml.fit(trainData, trainLabels)"
   ]
  },
  {
   "cell_type": "code",
   "execution_count": null,
   "metadata": {
    "scrolled": true
   },
   "outputs": [],
   "source": [
    "#aml.report()"
   ]
  },
  {
   "cell_type": "markdown",
   "metadata": {},
   "source": [
    "## 4.2 Catboost"
   ]
  },
  {
   "cell_type": "code",
   "execution_count": null,
   "metadata": {
    "scrolled": true
   },
   "outputs": [],
   "source": [
    "%pip install catboost"
   ]
  },
  {
   "cell_type": "code",
   "execution_count": null,
   "metadata": {},
   "outputs": [],
   "source": [
    "from catboost import CatBoostClassifier\n",
    "cat = CatBoostClassifier(random_seed=0, verbose=0)  \n",
    "cat.fit(trainData, trainLabels)"
   ]
  },
  {
   "cell_type": "code",
   "execution_count": null,
   "metadata": {
    "scrolled": true
   },
   "outputs": [],
   "source": [
    "predictedProbabilities = cat.predict_proba(testData)\n",
    "predictedLabels = cat.predict(testData) \n",
    "calculateMetricsAndPrint(predictedLabels, predictedProbabilities, testLabels)\n",
    "#Benchmark 94.5"
   ]
  },
  {
   "cell_type": "code",
   "execution_count": null,
   "metadata": {},
   "outputs": [],
   "source": [
    "plot_conf_mat(cat, # The classifier object\n",
    "              testData, # The test data set aside for evaluation in train_test_split\n",
    "              testLabels # Actual labels\n",
    "             )"
   ]
  },
  {
   "cell_type": "markdown",
   "metadata": {},
   "source": [
    "## 4.3 LightGBM"
   ]
  },
  {
   "cell_type": "code",
   "execution_count": null,
   "metadata": {
    "scrolled": true
   },
   "outputs": [],
   "source": [
    "import lightgbm as lgb\n",
    "# Rename columns to remove special characters\n",
    "trainData.columns = [col.replace(\" \", \"_\").replace(\",\", \"_\") for col in trainData.columns]\n",
    "\n",
    "# Initialize and train the LightGBM model\n",
    "lgb = lgb.LGBMClassifier(random_state=0)\n",
    "lgb.fit(trainData, trainLabels)\n"
   ]
  },
  {
   "cell_type": "code",
   "execution_count": null,
   "metadata": {
    "scrolled": true
   },
   "outputs": [],
   "source": [
    "predictedProbabilities = lgb.predict_proba(testData)\n",
    "predictedLabels = lgb.predict(testData) \n",
    "calculateMetricsAndPrint(predictedLabels, predictedProbabilities, testLabels)\n",
    "#Benchmark 94.5"
   ]
  },
  {
   "cell_type": "code",
   "execution_count": null,
   "metadata": {},
   "outputs": [],
   "source": [
    "plot_conf_mat(lgb, # The classifier object\n",
    "              testData, # The test data set aside for evaluation in train_test_split\n",
    "              testLabels # Actual labels\n",
    "             )"
   ]
  },
  {
   "cell_type": "markdown",
   "metadata": {},
   "source": [
    "## 5. Catboost Optuna"
   ]
  },
  {
   "cell_type": "code",
   "execution_count": null,
   "metadata": {
    "scrolled": true
   },
   "outputs": [],
   "source": [
    "%pip install Optunahub"
   ]
  },
  {
   "cell_type": "code",
   "execution_count": null,
   "metadata": {
    "scrolled": true
   },
   "outputs": [],
   "source": [
    "import os\n",
    "import pickle\n",
    "import optuna\n",
    "\n",
    "# File name for the saved model\n",
    "filename = \"final_catboost.sav\"\n",
    "\n",
    "# Check if the model file exists\n",
    "if os.path.exists(filename):\n",
    "    print(f\"'{filename}' found. Loading the model and skipping training...\")\n",
    "    with open(filename, \"rb\") as file:\n",
    "        loaded_model = pickle.load(file)\n",
    "    print(\"Model loaded successfully. You are now ready to analyze.\")\n",
    "else:\n",
    "    print(f\"'{filename}' not found. Training a new model...\")\n",
    "\n",
    "    # Define objective function for Optuna\n",
    "    def optimize_auc(trial):\n",
    "        # Define hyperparameter search space\n",
    "        param = {\n",
    "            'iterations': trial.suggest_int('iterations', 50, 500),\n",
    "            'depth': trial.suggest_int('depth', 2, 10),\n",
    "            'learning_rate': trial.suggest_float('learning_rate', 0.01, 0.3),\n",
    "            'l2_leaf_reg': trial.suggest_float('l2_leaf_reg', 1, 10),\n",
    "            'border_count': trial.suggest_int('border_count', 32, 255),\n",
    "            'random_strength': trial.suggest_float('random_strength', 0.1, 10.0),\n",
    "            'bagging_temperature': trial.suggest_float('bagging_temperature', 0.1, 10.0),\n",
    "            'verbose': 0\n",
    "        }\n",
    "\n",
    "        # Train the model\n",
    "        model = CatBoostClassifier(\n",
    "            **param,\n",
    "            random_seed=42,\n",
    "            eval_metric='AUC',  # Optimize for AUC\n",
    "            auto_class_weights=\"Balanced\"  # Handles class imbalance automatically\n",
    "        )\n",
    "        model.fit(trainData, trainLabels, eval_set=(testData, testLabels), early_stopping_rounds=50, verbose=0)\n",
    "\n",
    "        # Get predictions (probabilities for AUC)\n",
    "        predictions = model.predict_proba(testData)[:, 1]\n",
    "\n",
    "        # Compute AUC\n",
    "        auc = roc_auc_score(testLabels, predictions)\n",
    "        return auc\n",
    "\n",
    "    # Create a study and optimize for AUC\n",
    "    study = optuna.create_study(direction='maximize')\n",
    "    study.optimize(optimize_auc, n_trials=200)\n",
    "\n",
    "    # Get best parameters\n",
    "    print(\"Best hyperparameters:\", study.best_params)\n",
    "    best_params = study.best_params\n",
    "\n",
    "    # Train the final model with best hyperparameters\n",
    "    loaded_model = CatBoostClassifier(\n",
    "        **best_params,\n",
    "        random_seed=42,\n",
    "        eval_metric='AUC',\n",
    "        auto_class_weights=\"Balanced\"\n",
    "    )\n",
    "    loaded_model.fit(trainData, trainLabels, eval_set=(testData, testLabels), early_stopping_rounds=50, verbose=100)\n",
    "\n",
    "    # Save the trained model\n",
    "    with open(filename, \"wb\") as file:\n",
    "        pickle.dump(loaded_model, file)\n",
    "    print(f\"Model trained and saved as '{filename}'.\")\n",
    "\n",
    "    # Evaluate the final model\n",
    "    final_predictions = loaded_model.predict_proba(testData)[:, 1]\n",
    "    auc = roc_auc_score(testLabels, final_predictions)\n",
    "    print(\"Final AUC Score:\", auc)\n"
   ]
  },
  {
   "cell_type": "code",
   "execution_count": null,
   "metadata": {},
   "outputs": [],
   "source": [
    "filename = 'final_catboost.sav'\n",
    "final_catboost = pickle.load(open(filename, 'rb'))"
   ]
  },
  {
   "cell_type": "code",
   "execution_count": null,
   "metadata": {
    "scrolled": true
   },
   "outputs": [],
   "source": [
    "#adjust threshold after testing?\n",
    "predictedProbabilities = final_catboost.predict_proba(testData)\n",
    "predictedLabels = final_catboost.predict(testData) \n",
    "calculateMetricsAndPrint(predictedLabels, predictedProbabilities, testLabels)\n",
    "#Benchmark 94.5"
   ]
  },
  {
   "cell_type": "code",
   "execution_count": null,
   "metadata": {
    "scrolled": true
   },
   "outputs": [],
   "source": [
    "plot_conf_mat(final_catboost, # The classifier object\n",
    "              testData, # The test data set aside for evaluation in train_test_split\n",
    "              testLabels # Actual labels\n",
    "             )"
   ]
  },
  {
   "cell_type": "code",
   "execution_count": null,
   "metadata": {},
   "outputs": [],
   "source": [
    "testData.shape"
   ]
  },
  {
   "cell_type": "markdown",
   "metadata": {},
   "source": [
    "## 6. Cost-benefit Analysis"
   ]
  },
  {
   "cell_type": "markdown",
   "metadata": {},
   "source": [
    "So far, we built a predictive model-xgb (using XGBClassifier). Below, we use cost-benefit analysis to compare xgb and the status quo (no model). But before doing that, we need to determine the costs associated with FP and FN. \n",
    "\n",
    "In the case study, we read that it takes about four hours for a social worker to fill out UAI. We also learned that the average hourly rate to compensate the social workers is $18. Hence, the cost of filling out UAI will be:\n",
    "\n",
    "$$ $18 * 4 = $72 $$\n",
    "\n",
    "However, if UAI is needed for discharge, the patient needs to wait in the hospital for at least an additional four hours. In the case, we read that each additional day a patient stays in the hospital will cost 2,081 USD. This translates to 86.71 USD per hour. Hence, the additional four-hour stay will cost the hospital \n",
    "\n",
    "$$ $86.71 * 4 = $347 $$\n",
    "\n",
    "If the staff fills out UAI before the discharge ticket is generated, this additional cost would be avoided.  \n"
   ]
  },
  {
   "cell_type": "markdown",
   "metadata": {
    "tags": []
   },
   "source": [
    "To sum up, we have the following information based on the case study and the data files in this notebook:\n",
    "\n",
    "* Cost of each additional day in hospital: $2,081\n",
    "\n",
    "* Cost of each additional hour in hospital: $86.71\n",
    "\n",
    "* Time it takes to fill out UAI: 4 hours\n",
    "\n",
    "* Social workers' hourly rate: $18\n",
    "\n",
    "* Cost of filling out UAI: $72\n",
    "\n",
    "* Additional hospital cost if UAI is completed after discharge recommendation triggered: $347\n",
    "\n",
    "* Annual number of admitted patients: 28,539 \n",
    "\n",
    "* Number of patients in testData: 5,812\n"
   ]
  },
  {
   "cell_type": "markdown",
   "metadata": {},
   "source": [
    "Using this information, we can go ahead and conduct cost-benefit analysis. First, we estimate the cost or savings per cell in the confusion matrix:\n",
    "\n",
    "|       | Predicted 0 | Predicted 1     |\n",
    "| :---        |    :----:   |          ---: |\n",
    "| Actual 0      | No cost      | 72 USD additional cost  |\n",
    "| Actual 1   | 347 USD additional cost | No cost    |\n",
    "\n",
    "Before comparing the two models, let's estimate the costs associated with two naive models: "
   ]
  },
  {
   "cell_type": "markdown",
   "metadata": {},
   "source": [
    "#### Scenario 1: No predictive model- predict no one needs UAI:"
   ]
  },
  {
   "cell_type": "markdown",
   "metadata": {},
   "source": [
    "This is the status quo. In this scenario, every UAI will be filled only when the discharge recommendation is triggered. This is the equivalent of a naive model that predicts no one needs UAI. In this scenario, the confusion matrix will look like this:"
   ]
  },
  {
   "cell_type": "markdown",
   "metadata": {},
   "source": [
    "|       | Predicted 0 | Predicted 1     |\n",
    "| :---        |    :----:   |          ---: |\n",
    "| Actual 0      | 4,455       | 0   |\n",
    "| Actual 1   | 1,357       | 0      |"
   ]
  },
  {
   "cell_type": "markdown",
   "metadata": {},
   "source": [
    "The cost associated with this model will be equal to:"
   ]
  },
  {
   "cell_type": "code",
   "execution_count": null,
   "metadata": {},
   "outputs": [],
   "source": [
    "1357 * 347"
   ]
  },
  {
   "cell_type": "markdown",
   "metadata": {},
   "source": [
    "This is the cost associated with 5,812 patients in testData. To estimate the total annual cost, we have to extrapolate this value for 28,539 annual patients:"
   ]
  },
  {
   "cell_type": "code",
   "execution_count": null,
   "metadata": {},
   "outputs": [],
   "source": [
    "1357 * 347 * (28539/5812)"
   ]
  },
  {
   "cell_type": "markdown",
   "metadata": {},
   "source": [
    "We can see that the status quo costs about 2.3M USD for UVA Hospital. "
   ]
  },
  {
   "cell_type": "markdown",
   "metadata": {},
   "source": [
    "#### Scenario 2: No predictive model- predict everyone needs UAI:"
   ]
  },
  {
   "cell_type": "markdown",
   "metadata": {},
   "source": [
    "In this scenario, the hospital staff members fill out UAI for every patient before the discharge recommendation is triggered:\n",
    "\n",
    "|       | Predicted 0 | Predicted 1     |\n",
    "| :---        |    :----:   |          ---: |\n",
    "| Actual 0      | 0       | 4,455   |\n",
    "| Actual 1   | 0       | 1,357      |\n",
    "\n",
    "The cost will be equal to:"
   ]
  },
  {
   "cell_type": "code",
   "execution_count": null,
   "metadata": {
    "scrolled": true
   },
   "outputs": [],
   "source": [
    "(4455 * 72) * (28539/5812)"
   ]
  },
  {
   "cell_type": "code",
   "execution_count": null,
   "metadata": {},
   "outputs": [],
   "source": [
    "FN_cost = 347\n",
    "FP_cost = 72\n",
    "FN_FP_ratio = 347/72\n",
    "print(\"False Negative False Positive Ratio: {:.2f}\".format(FN_FP_ratio))"
   ]
  },
  {
   "cell_type": "markdown",
   "metadata": {},
   "source": [
    "If UVA Hospital proactively fills out UAI for every patient, the cost will be about 700K USD, which is 1M USD less than the status quo."
   ]
  },
  {
   "cell_type": "markdown",
   "metadata": {},
   "source": [
    "#### Scenario 3: Predictive model- XGB Classifier:"
   ]
  },
  {
   "cell_type": "markdown",
   "metadata": {},
   "source": [
    "Let's print the confusion matrix one more time:"
   ]
  },
  {
   "cell_type": "markdown",
   "metadata": {},
   "source": [
    "## 6.1 Adjust Threshold"
   ]
  },
  {
   "cell_type": "code",
   "execution_count": null,
   "metadata": {},
   "outputs": [],
   "source": [
    "def plot_conf_mat(clf, X_test, y_test, threshold=0.25):\n",
    "    # Get predicted probabilities for the positive class\n",
    "    y_proba = clf.predict_proba(X_test)[:, 1]\n",
    "    \n",
    "    # Apply the threshold to convert probabilities to binary predictions\n",
    "    y_pred = (y_proba >= threshold).astype(int)\n",
    "    \n",
    "    # Compute the confusion matrix\n",
    "    cm = confusion_matrix(y_test, y_pred)\n",
    "    \n",
    "    # Display the confusion matrix\n",
    "    disp = ConfusionMatrixDisplay(confusion_matrix=cm, display_labels=clf.classes_)\n",
    "    disp.plot(cmap=plt.cm.Blues)\n",
    "    plt.title(f'Confusion matrix with threshold={threshold}')\n",
    "    plt.show()"
   ]
  },
  {
   "cell_type": "code",
   "execution_count": null,
   "metadata": {},
   "outputs": [],
   "source": [
    "plot_conf_mat(final_catboost, # The classifier object\n",
    "              testData, # The test data set aside for evaluation in train_test_split\n",
    "              testLabels # Actual labels\n",
    "             )"
   ]
  },
  {
   "cell_type": "markdown",
   "metadata": {
    "tags": []
   },
   "source": [
    "The cost will be equal to:"
   ]
  },
  {
   "cell_type": "code",
   "execution_count": null,
   "metadata": {},
   "outputs": [],
   "source": [
    "#Catboost Optuna\n",
    "FP_Cost = (675 * 72) * (28539/5812)\n",
    "FN_Cost = (124 * 347) * (28539/5812)\n",
    "\n",
    "#print(\"False positive costs: ${:.2f}\".format(FP_Cost))\n",
    "#print(\"False negative costs: ${:.2f}\".format(FN_Cost))\n",
    "print(\"Total Cost = ${:.2f}\".format(FP_Cost + FN_Cost))"
   ]
  },
  {
   "cell_type": "code",
   "execution_count": null,
   "metadata": {},
   "outputs": [],
   "source": [
    "Scenario_1_3 = 2312184.408293186 - 449926.27185134206\n",
    "print(\"Savings compared to scenario 1: ${:.2f}\".format(Scenario_1_3))"
   ]
  },
  {
   "cell_type": "code",
   "execution_count": null,
   "metadata": {},
   "outputs": [],
   "source": [
    "Scenario_2_3 = 1575046.3936682725 - 449926.27185134206\n",
    "print(\"Savings compared to scenario 2: ${:.2f}\".format(Scenario_2_3))"
   ]
  },
  {
   "cell_type": "code",
   "execution_count": null,
   "metadata": {},
   "outputs": [],
   "source": [
    "FP_cost = 72\n",
    "FN_cost = 347\n",
    "FN_FP_ratio = 347/72\n",
    "print(\"Ratio: {:.2f}\".format(FN_FP_ratio))"
   ]
  },
  {
   "cell_type": "code",
   "execution_count": null,
   "metadata": {},
   "outputs": [],
   "source": [
    "#Catboost Optuna\n",
    "CFP = 675\n",
    "CFN = 124\n",
    "Cat_FP_FN = 675+124\n",
    "print(\"Total false cases:\",Cat_FP_FN)42"
   ]
  },
  {
   "cell_type": "code",
   "execution_count": null,
   "metadata": {},
   "outputs": [],
   "source": [
    "#Original\n",
    "FP_Cost = (296 * 72) * (28539/5812)\n",
    "FN_Cost = (248 * 347) * (28539/5812)\n",
    "print(\"${:.2f}\".format(FP_Cost))\n",
    "print(\"${:.2f}\".format(FN_Cost))\n",
    "print(\"Total cost = ${:.2f}.\".format(FP_Cost + FN_Cost))"
   ]
  },
  {
   "cell_type": "code",
   "execution_count": null,
   "metadata": {},
   "outputs": [],
   "source": [
    "#Original\n",
    "OFP = 296\n",
    "OFN = 248\n",
    "Orig_FP_FN = OFP + OFN\n",
    "print(\"Total false cases:\",Orig_FP_FN)"
   ]
  },
  {
   "cell_type": "code",
   "execution_count": null,
   "metadata": {},
   "outputs": [],
   "source": [
    "#Cat-Orig\n",
    "Diff = Cat_FP_FN - Orig_FP_FN\n",
    "DiffFN = CFP - OFP\n",
    "DiffFP = CFN - OFN\n",
    "print(\"CatBoost misclassified\", Diff, \"additional cases compared to the starter.\")\n",
    "print(\"CatBoost misclassified\", DiffFN,\"false negatives compared to the starter.\")\n",
    "print(\"CatBoost classified\", abs(DiffFP), \"more false positives compared to the starter.\")"
   ]
  },
  {
   "cell_type": "markdown",
   "metadata": {},
   "source": [
    "Let's compare this value with the previous two values:"
   ]
  },
  {
   "cell_type": "markdown",
   "metadata": {},
   "source": [
    "## 7. Your Task:"
   ]
  },
  {
   "cell_type": "markdown",
   "metadata": {},
   "source": [
    "Use XGboost, LightGBM, CatBoost, or any other algorithm you prefer to build a cost-sensitive model. Then compare the savings of that model with scenario 1. \n",
    "\n",
    "This is a case competition. So please enter the highest savings into the leaderboard. The link will be shared in class. The highest amount of saving is the metric for this competition. \n",
    "\n",
    "**Tip- To be able to save more, you can:**\n",
    "\n",
    "+ improve the predictive performance of the model (its ability to separate 0s and 1s). This can be done using different pre-processing steps/ methods, a different algorithm, and/ or optimizing the hyperparameters of the algorithm.\n",
    "\n",
    "+ use different class weights as you train your models. \n",
    "\n",
    "+ decide/ change which matric (e.g., AUC, recall, accuracy, ...) should be used when optimizing the hyperparameters.\n",
    "\n",
    "**Please enter the savings amount in leaderboardhq using the link provided below:**\n",
    "\n",
    "Team 1:\thttps://leaderboardhq.com/addscore/lgfnu00r/sj4ga7s4\n",
    "\n",
    "Team 2:\thttps://leaderboardhq.com/addscore/lgfnu00r/aiy6brr1\n",
    "\n",
    "Team 3:\thttps://leaderboardhq.com/addscore/lgfnu00r/5yoe1232\n",
    "\n",
    "Team 4:\thttps://leaderboardhq.com/addscore/lgfnu00r/pd5rdv0r\n",
    "\n",
    "Team 5:\thttps://leaderboardhq.com/addscore/lgfnu00r/hakaexap\n",
    "\n",
    "Team 6:\thttps://leaderboardhq.com/addscore/lgfnu00r/3gcta4a7\n",
    "\n",
    "Team 7:\thttps://leaderboardhq.com/addscore/lgfnu00r/o0lnar5i\n",
    "\n",
    "Team 8:\thttps://leaderboardhq.com/addscore/lgfnu00r/ygbw1zn0\n",
    "\n",
    "Team 9:\thttps://leaderboardhq.com/addscore/lgfnu00r/b0vi8t7z\n",
    "\n",
    "Team 10: https://leaderboardhq.com/addscore/lgfnu00r/27voyrnb\n",
    "\n",
    "Team 11: https://leaderboardhq.com/addscore/lgfnu00r/2br86kl8\n",
    "\n",
    "Team 12: https://leaderboardhq.com/addscore/lgfnu00r/angfcx56\n",
    "\n",
    "### Rules:\n",
    "1- Please use trainInput solely for training your models and testInput solely for testing them.\n",
    "\n",
    "2- The confusion matrix in your solution should be based on testInput. Therefore, the costs are calculated based on the confusion matrix for testInput.\n",
    "\n",
    "3- The evaluation metric is the total saving (higher is better). \n",
    "\n",
    "4- If you submit more than one time, the leaderboard will add the value of the second submission to the first submission. Therefore, if you want to submit more than once, please submit the negative value of your first submission to make the score zero. Then submit your new score. \n",
    "\n",
    "5- You can see the entire leaderboard here: https://leaderboardhq.com/lgfnu00r\n"
   ]
  },
  {
   "cell_type": "markdown",
   "metadata": {},
   "source": [
    "Admin link (for Reza): https://leaderboardhq.com/cj4i6l79"
   ]
  },
  {
   "cell_type": "code",
   "execution_count": null,
   "metadata": {},
   "outputs": [],
   "source": []
  }
 ],
 "metadata": {
  "interpreter": {
   "hash": "f7d1f0e70e3ca0134d66ef91f77ab860149e5029949fd8de746afe9338c863a1"
  },
  "kernelspec": {
   "display_name": "Python 3 (ipykernel)",
   "language": "python",
   "name": "python3"
  },
  "language_info": {
   "codemirror_mode": {
    "name": "ipython",
    "version": 3
   },
   "file_extension": ".py",
   "mimetype": "text/x-python",
   "name": "python",
   "nbconvert_exporter": "python",
   "pygments_lexer": "ipython3",
   "version": "3.11.9"
  }
 },
 "nbformat": 4,
 "nbformat_minor": 4
}
